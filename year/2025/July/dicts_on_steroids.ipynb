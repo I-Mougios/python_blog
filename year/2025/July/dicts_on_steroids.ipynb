{
 "cells": [
  {
   "cell_type": "code",
   "id": "initial_id",
   "metadata": {
    "collapsed": true,
    "ExecuteTime": {
     "end_time": "2025-07-07T13:12:10.378077Z",
     "start_time": "2025-07-07T13:12:08.913988Z"
    }
   },
   "source": [
    "import os\n",
    "import json\n",
    "import csv\n",
    "import io\n",
    "from pathlib import Path\n",
    "from typing import Iterable\n",
    "from types import SimpleNamespace\n",
    "\n",
    "from icecream import ic\n",
    "from dotenv import load_dotenv\n",
    "from benedict import benedict\n",
    "from pydantic import BaseModel, Field, EmailStr"
   ],
   "outputs": [],
   "execution_count": 1
  },
  {
   "metadata": {
    "ExecuteTime": {
     "end_time": "2025-07-07T13:12:10.410346Z",
     "start_time": "2025-07-07T13:12:10.404887Z"
    }
   },
   "cell_type": "code",
   "source": [
    "department = \"\"\"\n",
    "{\n",
    "  \"employees\": [\n",
    "    {\n",
    "      \"id\": 1,\n",
    "      \"name\": \"Alice\",\n",
    "      \"contact\": {\n",
    "        \"email\": \"alice@example.com\",\n",
    "        \"phone\": \"123-456-7890\"\n",
    "      }\n",
    "    },\n",
    "    {\n",
    "      \"id\": 2,\n",
    "      \"name\": \"Bob\",\n",
    "      \"contact\": {\n",
    "        \"email\": \"bob@example.com\",\n",
    "        \"phone\": \"987-654-3210\"\n",
    "      }\n",
    "    }\n",
    "  ],\n",
    "  \"department\": {\n",
    "    \"name\": \"Engineering\",\n",
    "    \"floor\": 5,\n",
    "    \"manager\": {\n",
    "      \"name\": \"Eve\",\n",
    "      \"id\": 101\n",
    "    }\n",
    "  },\n",
    "  \"location\": \"New York\",\n",
    "  \"open_positions\": 3,\n",
    "  \"is_hiring\": true\n",
    "}\n",
    "\"\"\"\n",
    "\n",
    "department_dict = json.loads(department)"
   ],
   "id": "f2354758dc7c3a9b",
   "outputs": [],
   "execution_count": 2
  },
  {
   "metadata": {
    "ExecuteTime": {
     "end_time": "2025-07-07T13:12:10.441376Z",
     "start_time": "2025-07-07T13:12:10.435689Z"
    }
   },
   "cell_type": "code",
   "source": [
    "employee_1_phone = department_dict[\"employees\"][0][\"contact\"][\"phone\"]\n",
    "print(f\"Phone of employee one: {employee_1_phone}\")"
   ],
   "id": "f07bb150801d2f36",
   "outputs": [
    {
     "name": "stdout",
     "output_type": "stream",
     "text": [
      "Phone of employee one: 123-456-7890\n"
     ]
    }
   ],
   "execution_count": 3
  },
  {
   "metadata": {},
   "cell_type": "markdown",
   "source": [
    "What if we want to use dot notation to access the keys of a dictionary? Can we?\n",
    "\n",
    "Below, I will demonstrate three different ways to achieve this:\n",
    "\n",
    "1. Using SimpleNamespace (works with JSON files)\n",
    "\n",
    "2. Using Pydantic by decomposing the structure\n",
    "\n",
    "3. Using benedict, a library that puts dictionaries on steroids — this will be explored further"
   ],
   "id": "f7ac2a972876e34c"
  },
  {
   "metadata": {},
   "cell_type": "markdown",
   "source": [
    "### SimpleNamespace\n",
    "\n",
    "In order access elements via dot notation we will expoit the recursive trait of object hook parameter in the json.load or json.loads function."
   ],
   "id": "c66eaf0a68c993f3"
  },
  {
   "metadata": {
    "ExecuteTime": {
     "end_time": "2025-07-07T13:12:10.510466Z",
     "start_time": "2025-07-07T13:12:10.503305Z"
    }
   },
   "cell_type": "code",
   "source": [
    "s = SimpleNamespace(a=1, b=2, c=SimpleNamespace(a2=\"a\", b2=\"b\", c2=\"c\"))\n",
    "print(s.a)\n",
    "print(s.c)\n",
    "print(s.c.a2)"
   ],
   "id": "1679ac1c31e04127",
   "outputs": [
    {
     "name": "stdout",
     "output_type": "stream",
     "text": [
      "1\n",
      "namespace(a2='a', b2='b', c2='c')\n",
      "a\n"
     ]
    }
   ],
   "execution_count": 4
  },
  {
   "metadata": {
    "ExecuteTime": {
     "end_time": "2025-07-07T13:12:10.585485Z",
     "start_time": "2025-07-07T13:12:10.578077Z"
    }
   },
   "cell_type": "code",
   "source": [
    "# Let's illustrate how object_hook works\n",
    "dummy_json = \"\"\"\n",
    "{\n",
    "    \"a\": 1,\n",
    "    \"b\": 2,\n",
    "    \"c\": {\n",
    "        \"a2\": \"a\",\n",
    "        \"b2\": \"b\",\n",
    "        \"c2\": \"c\"\n",
    "    }\n",
    "}\n",
    "\"\"\"\n",
    "\n",
    "\n",
    "def print_input(value):\n",
    "    print(value)\n",
    "\n",
    "\n",
    "json.loads(dummy_json, object_hook=print_input)"
   ],
   "id": "94ad33b233a7cb19",
   "outputs": [
    {
     "name": "stdout",
     "output_type": "stream",
     "text": [
      "{'a2': 'a', 'b2': 'b', 'c2': 'c'}\n",
      "{'a': 1, 'b': 2, 'c': None}\n"
     ]
    }
   ],
   "execution_count": 5
  },
  {
   "metadata": {},
   "cell_type": "markdown",
   "source": "It takes the provided (outermost) dictionary and calls the function specified in **object_hook** for every nested dictionary. The recursion stops when none of the values contain another dictionary.",
   "id": "fde8e502475030ff"
  },
  {
   "metadata": {
    "ExecuteTime": {
     "end_time": "2025-07-07T13:12:10.648002Z",
     "start_time": "2025-07-07T13:12:10.642984Z"
    }
   },
   "cell_type": "code",
   "source": [
    "dummy_dict = json.loads(dummy_json, object_hook=lambda d: SimpleNamespace(**d))\n",
    "print(dummy_dict.c.a2)"
   ],
   "id": "a210ee669ed9add1",
   "outputs": [
    {
     "name": "stdout",
     "output_type": "stream",
     "text": [
      "a\n"
     ]
    }
   ],
   "execution_count": 6
  },
  {
   "metadata": {
    "ExecuteTime": {
     "end_time": "2025-07-07T13:12:10.721098Z",
     "start_time": "2025-07-07T13:12:10.712474Z"
    }
   },
   "cell_type": "code",
   "source": [
    "# The same approach on the departments json\n",
    "department_dict = json.loads(department, object_hook=lambda d: SimpleNamespace(**d))\n",
    "print(department_dict.employees[0].contact.phone)"
   ],
   "id": "d163b27084ab6e78",
   "outputs": [
    {
     "name": "stdout",
     "output_type": "stream",
     "text": [
      "123-456-7890\n"
     ]
    }
   ],
   "execution_count": 7
  },
  {
   "metadata": {},
   "cell_type": "markdown",
   "source": "Let's try to replicate the recursive behavior of the `object_hook` parameter so we can add dot-notation (attribute) access to dictionaries",
   "id": "81221840492497ff"
  },
  {
   "metadata": {
    "ExecuteTime": {
     "end_time": "2025-07-07T13:12:10.796878Z",
     "start_time": "2025-07-07T13:12:10.788600Z"
    }
   },
   "cell_type": "code",
   "source": [
    "from types import SimpleNamespace\n",
    "from typing import Any\n",
    "\n",
    "\n",
    "def recursive_simplenamespace(data: dict) -> SimpleNamespace:\n",
    "    def _convert(value: Any) -> Any:\n",
    "        \"\"\"\n",
    "        Helper function to avoid calling the recursive_simplenamespace if values are primitive\n",
    "        :param value:\n",
    "        :return: Either the value itself or a SimpleNamespace or a List[Union[SimpleNamespace|PrimitiveTypes]\n",
    "        \"\"\"\n",
    "        if isinstance(value, dict):\n",
    "            return recursive_simplenamespace(value)\n",
    "        elif isinstance(value, list):\n",
    "            return [_convert(item) for item in value]\n",
    "        else:\n",
    "            return value\n",
    "\n",
    "    converted = {k: _convert(v) for k, v in data.items()}\n",
    "    return SimpleNamespace(**converted)\n",
    "\n",
    "\n",
    "department_dict = json.loads(department)\n",
    "department_simplenamespace = recursive_simplenamespace(department_dict)\n",
    "print(department_simplenamespace)"
   ],
   "id": "29024975ec407b1a",
   "outputs": [
    {
     "name": "stdout",
     "output_type": "stream",
     "text": [
      "namespace(employees=[namespace(id=1, name='Alice', contact=namespace(email='alice@example.com', phone='123-456-7890')), namespace(id=2, name='Bob', contact=namespace(email='bob@example.com', phone='987-654-3210'))], department=namespace(name='Engineering', floor=5, manager=namespace(name='Eve', id=101)), location='New York', open_positions=3, is_hiring=True)\n"
     ]
    }
   ],
   "execution_count": 8
  },
  {
   "metadata": {
    "ExecuteTime": {
     "end_time": "2025-07-07T13:12:11.349965Z",
     "start_time": "2025-07-07T13:12:10.855452Z"
    }
   },
   "cell_type": "code",
   "source": [
    "l = [1, 2, 3]\n",
    "s = {1, 2, 3}\n",
    "\n",
    "\n",
    "def gen(n):\n",
    "    for i in range(n):\n",
    "        yield i\n",
    "\n",
    "\n",
    "g = gen(3)\n",
    "\n",
    "ic(isinstance(l, Iterable))\n",
    "ic(isinstance(s, Iterable))\n",
    "ic(isinstance(g, Iterable))"
   ],
   "id": "8a90d14acd22e7bf",
   "outputs": [
    {
     "name": "stderr",
     "output_type": "stream",
     "text": [
      "ic| isinstance(l, Iterable): True\n",
      "ic| isinstance(s, Iterable): True\n",
      "ic| isinstance(g, Iterable): True\n"
     ]
    },
    {
     "data": {
      "text/plain": [
       "True"
      ]
     },
     "execution_count": 9,
     "metadata": {},
     "output_type": "execute_result"
    }
   ],
   "execution_count": 9
  },
  {
   "metadata": {},
   "cell_type": "markdown",
   "source": "Notice that json string might support only limited datatypes but if we want to apply the recursive_simplenamespace to a python dictionary we need to make the function a little more generic.",
   "id": "c860e9e7335123fc"
  },
  {
   "metadata": {
    "ExecuteTime": {
     "end_time": "2025-07-07T13:12:11.511332Z",
     "start_time": "2025-07-07T13:12:11.502775Z"
    }
   },
   "cell_type": "code",
   "source": [
    "def employee_gen():\n",
    "    employees = [\n",
    "        {\"id\": 1, \"name\": \"Alice\", \"contact\": {\"email\": \"alice@example.com\", \"phone\": \"123-456-7890\"}},\n",
    "        {\"id\": 2, \"name\": \"Bob\", \"contact\": {\"email\": \"bob@example.com\", \"phone\": \"987-654-3210\"}},\n",
    "    ]\n",
    "    for employee in employees:\n",
    "        yield employee\n",
    "\n",
    "\n",
    "department_dict = {\n",
    "    \"employees\": employee_gen(),\n",
    "    \"department\": {\"name\": \"Engineering\", \"floor\": 5, \"manager\": {\"name\": \"Eve\", \"id\": 101}},\n",
    "    \"location\": \"New York\",\n",
    "    \"open_positions\": 3,\n",
    "    \"is_hiring\": True,\n",
    "}\n",
    "\n",
    "\n",
    "print(recursive_simplenamespace(department_dict))"
   ],
   "id": "8138726b7a832c41",
   "outputs": [
    {
     "name": "stdout",
     "output_type": "stream",
     "text": [
      "namespace(employees=<generator object employee_gen at 0x000001BD7CC597E0>, department=namespace(name='Engineering', floor=5, manager=namespace(name='Eve', id=101)), location='New York', open_positions=3, is_hiring=True)\n"
     ]
    }
   ],
   "execution_count": 10
  },
  {
   "metadata": {
    "ExecuteTime": {
     "end_time": "2025-07-07T13:12:11.569516Z",
     "start_time": "2025-07-07T13:12:11.559507Z"
    }
   },
   "cell_type": "code",
   "source": [
    "from types import SimpleNamespace\n",
    "\n",
    "\n",
    "def recursive_simplenamespace(data: dict) -> SimpleNamespace:\n",
    "    def _convert(value: Any) -> Any:\n",
    "        \"\"\"\n",
    "        Helper function to avoid calling the recursive_simplenamespace if values are primitive\n",
    "        :param value:\n",
    "        :return: Either the value itself or a SimpleNamespace or a List[Union[SimpleNamespace|PrimitiveTypes]\n",
    "        \"\"\"\n",
    "        if isinstance(value, dict):\n",
    "            return recursive_simplenamespace(value)\n",
    "        elif isinstance(value, Iterable) and not isinstance(value, (str, bytes)):\n",
    "            return [_convert(item) for item in value]\n",
    "        else:\n",
    "            return value\n",
    "\n",
    "    converted = {k: _convert(v) for k, v in data.items()}\n",
    "    return SimpleNamespace(**converted)\n",
    "\n",
    "\n",
    "department_simplenamespace = recursive_simplenamespace(department_dict)\n",
    "print(department_simplenamespace)"
   ],
   "id": "a875e15be664a17e",
   "outputs": [
    {
     "name": "stdout",
     "output_type": "stream",
     "text": [
      "namespace(employees=[namespace(id=1, name='Alice', contact=namespace(email='alice@example.com', phone='123-456-7890')), namespace(id=2, name='Bob', contact=namespace(email='bob@example.com', phone='987-654-3210'))], department=namespace(name='Engineering', floor=5, manager=namespace(name='Eve', id=101)), location='New York', open_positions=3, is_hiring=True)\n"
     ]
    }
   ],
   "execution_count": 11
  },
  {
   "metadata": {},
   "cell_type": "markdown",
   "source": [
    "Caveat  !!!\n",
    "\n",
    "SimpleNamespace cannot handle cases when the key starts with digit or contains dot."
   ],
   "id": "bddbaa4f2ee03d5e"
  },
  {
   "metadata": {
    "ExecuteTime": {
     "end_time": "2025-07-07T13:12:11.714802Z",
     "start_time": "2025-07-07T13:12:11.705775Z"
    }
   },
   "cell_type": "code",
   "source": [
    "data = {\"first.name\": \"Alice\", \"age\": 30}\n",
    "ns = json.loads(json.dumps(data), object_hook=lambda d: SimpleNamespace(**d))\n",
    "print(ns.age)  # Works\n",
    "try:\n",
    "    print(ns.first.name)  # AttributeError: 'SimpleNamespace' object has no attribute 'first'\n",
    "except AttributeError as e:\n",
    "    print(e)\n",
    "    print(getattr(ns, \"first.name\", \"N/A\"))"
   ],
   "id": "cdfe2bc56a24d801",
   "outputs": [
    {
     "name": "stdout",
     "output_type": "stream",
     "text": [
      "30\n",
      "'types.SimpleNamespace' object has no attribute 'first'\n",
      "Alice\n"
     ]
    }
   ],
   "execution_count": 12
  },
  {
   "metadata": {},
   "cell_type": "markdown",
   "source": [
    "### Pydantic\n",
    "\n",
    "We will use the fact how pydantic handles custom datatypes"
   ],
   "id": "328468eee596a43"
  },
  {
   "metadata": {
    "ExecuteTime": {
     "end_time": "2025-07-07T13:12:11.940132Z",
     "start_time": "2025-07-07T13:12:11.799759Z"
    }
   },
   "cell_type": "code",
   "source": [
    "class Manager(BaseModel):\n",
    "    id_: int = Field(alias=\"id\")\n",
    "    name: str\n",
    "\n",
    "\n",
    "class DepartmentInfo(BaseModel):\n",
    "    name: str\n",
    "    floor: int\n",
    "    manager: Manager\n",
    "\n",
    "\n",
    "class Contact(BaseModel):\n",
    "    email: EmailStr\n",
    "    phone: str\n",
    "\n",
    "\n",
    "class Employee(BaseModel):\n",
    "    id_: int = Field(alias=\"id\")\n",
    "    name: str\n",
    "    contact: Contact\n",
    "\n",
    "\n",
    "class Department(BaseModel):\n",
    "    employees: list[Employee]\n",
    "    department: DepartmentInfo\n",
    "    location: str\n",
    "\n",
    "\n",
    "department_model = Department.model_validate_json(department)"
   ],
   "id": "3f2c7b2ea28762d4",
   "outputs": [],
   "execution_count": 13
  },
  {
   "metadata": {
    "ExecuteTime": {
     "end_time": "2025-07-07T13:12:11.960011Z",
     "start_time": "2025-07-07T13:12:11.951389Z"
    }
   },
   "cell_type": "code",
   "source": "department_model.employees",
   "id": "9bfe2fe778972c85",
   "outputs": [
    {
     "data": {
      "text/plain": [
       "[Employee(id_=1, name='Alice', contact=Contact(email='alice@example.com', phone='123-456-7890')),\n",
       " Employee(id_=2, name='Bob', contact=Contact(email='bob@example.com', phone='987-654-3210'))]"
      ]
     },
     "execution_count": 14,
     "metadata": {},
     "output_type": "execute_result"
    }
   ],
   "execution_count": 14
  },
  {
   "metadata": {
    "ExecuteTime": {
     "end_time": "2025-07-07T13:12:12.006774Z",
     "start_time": "2025-07-07T13:12:11.998777Z"
    }
   },
   "cell_type": "code",
   "source": "department_model.department.manager.name",
   "id": "794f39000cd3958e",
   "outputs": [
    {
     "data": {
      "text/plain": [
       "'Eve'"
      ]
     },
     "execution_count": 15,
     "metadata": {},
     "output_type": "execute_result"
    }
   ],
   "execution_count": 15
  },
  {
   "metadata": {
    "ExecuteTime": {
     "end_time": "2025-07-07T13:12:12.062945Z",
     "start_time": "2025-07-07T13:12:12.052262Z"
    }
   },
   "cell_type": "code",
   "source": [
    "data = {\n",
    "    \"first.name\": \"Alice\",\n",
    "    \"age\": 30,\n",
    "}\n",
    "\n",
    "\n",
    "class Data(BaseModel):\n",
    "    first_name: str = Field(alias=\"first.name\")\n",
    "    age: int\n",
    "\n",
    "\n",
    "m = Data.model_validate(data)\n",
    "m.first_name"
   ],
   "id": "175e6cfb95aafee",
   "outputs": [
    {
     "data": {
      "text/plain": [
       "'Alice'"
      ]
     },
     "execution_count": 16,
     "metadata": {},
     "output_type": "execute_result"
    }
   ],
   "execution_count": 16
  },
  {
   "metadata": {},
   "cell_type": "markdown",
   "source": [
    "`Takeaways`\n",
    "\n",
    "- With pydantic there is a builtin solution when keys contain dots(do not cover the case where key starts with digit)\n",
    "- The disadvantage is that we must know the schema of the dict/json in advance so we can define our models.\n"
   ],
   "id": "6270099e081bfbf1"
  },
  {
   "metadata": {},
   "cell_type": "markdown",
   "source": [
    "### Benedict\n",
    "\n",
    "`Dictionaries on steroid`"
   ],
   "id": "8e6b42c24099721e"
  },
  {
   "metadata": {
    "ExecuteTime": {
     "end_time": "2025-07-07T13:12:12.189237Z",
     "start_time": "2025-07-07T13:12:12.126788Z"
    }
   },
   "cell_type": "code",
   "source": [
    "bene_department = benedict(department)\n",
    "ic(isinstance(bene_department, dict))  # subclass of dict\n",
    "ic(type(bene_department))\n",
    "print()"
   ],
   "id": "72df67a3439e2a80",
   "outputs": [
    {
     "name": "stderr",
     "output_type": "stream",
     "text": [
      "ic| isinstance(bene_department, dict): True\n",
      "ic| type(bene_department): <class 'benedict.dicts.benedict'>\n"
     ]
    },
    {
     "name": "stdout",
     "output_type": "stream",
     "text": [
      "\n"
     ]
    }
   ],
   "execution_count": 17
  },
  {
   "metadata": {
    "ExecuteTime": {
     "end_time": "2025-07-07T13:12:12.485349Z",
     "start_time": "2025-07-07T13:12:12.371159Z"
    }
   },
   "cell_type": "code",
   "source": [
    "ic(bene_department.employees[0].id)  # keyattr\n",
    "ic(bene_department[\"employees[0].id\"])  # keypath\n",
    "ic(bene_department[[\"employees[0]\", \"id\"]])  # keylist\n",
    "print()"
   ],
   "id": "d69ddbbd8e610cbd",
   "outputs": [
    {
     "name": "stderr",
     "output_type": "stream",
     "text": [
      "ic| bene_department.employees[0].id: 1\n",
      "ic| bene_department[\"employees[0].id\"]: 1\n",
      "ic| bene_department[[\"employees[0]\", \"id\"]]: 1\n"
     ]
    },
    {
     "name": "stdout",
     "output_type": "stream",
     "text": [
      "\n"
     ]
    }
   ],
   "execution_count": 18
  },
  {
   "metadata": {},
   "cell_type": "markdown",
   "source": "Now what about if the key itself contains dot.",
   "id": "c54c7d859bc9ba61"
  },
  {
   "metadata": {
    "ExecuteTime": {
     "end_time": "2025-07-07T13:12:12.686155Z",
     "start_time": "2025-07-07T13:12:12.677699Z"
    }
   },
   "cell_type": "code",
   "source": [
    "data = {\"a\": {\"a.1\": 1, \"a.2\": 2}, \"b\": {\"b.1\": 1, \"b.2\": 2}}\n",
    "\n",
    "try:\n",
    "    benedict(data)\n",
    "except ValueError as e:\n",
    "    print(e)"
   ],
   "id": "b7a391411819541f",
   "outputs": [
    {
     "name": "stdout",
     "output_type": "stream",
     "text": [
      "Key should not contain keypath separator '.', found: 'a.1'.\n"
     ]
    }
   ],
   "execution_count": 19
  },
  {
   "metadata": {},
   "cell_type": "markdown",
   "source": "For this issue benedict provides a workaround that restore partially some of the functionalities.",
   "id": "bdab54da961a7b12"
  },
  {
   "metadata": {
    "ExecuteTime": {
     "end_time": "2025-07-07T13:12:12.895548Z",
     "start_time": "2025-07-07T13:12:12.732933Z"
    }
   },
   "cell_type": "code",
   "source": [
    "bene_data = benedict(data, keypath_separator=\"|\")\n",
    "ic(bene_data[\"a|a.1\"])\n",
    "ic(bene_data[[\"a\", \"a.1\"]])\n",
    "ic(bene_data.a[\"a.1\"])\n",
    "print()"
   ],
   "id": "6c019221114cff8a",
   "outputs": [
    {
     "name": "stderr",
     "output_type": "stream",
     "text": [
      "ic| bene_data[\"a|a.1\"]: 1\n",
      "ic| bene_data[[\"a\", \"a.1\"]]: 1\n",
      "ic| bene_data.a[\"a.1\"]: 1\n"
     ]
    },
    {
     "name": "stdout",
     "output_type": "stream",
     "text": [
      "\n"
     ]
    }
   ],
   "execution_count": 20
  },
  {
   "metadata": {
    "ExecuteTime": {
     "end_time": "2025-07-07T13:12:13.035777Z",
     "start_time": "2025-07-07T13:12:13.028018Z"
    }
   },
   "cell_type": "code",
   "source": [
    "data = {\"a\": {\"a1\": 1, \"a2\": 2}, \"b\": {\"b1\": 1, \"b2\": 2}}\n",
    "\n",
    "bene_data = benedict(\n",
    "    data,\n",
    "    keyattr_enabled=False,\n",
    ")\n",
    "try:\n",
    "    bene_data.a\n",
    "except AttributeError as e:\n",
    "    print(e)"
   ],
   "id": "c61ed445fcd5dd9e",
   "outputs": [
    {
     "name": "stdout",
     "output_type": "stream",
     "text": [
      "'benedict' object has no attribute 'a'\n"
     ]
    }
   ],
   "execution_count": 21
  },
  {
   "metadata": {},
   "cell_type": "markdown",
   "source": "Mutations and Shared-Reference\n",
   "id": "95fe483dce453390"
  },
  {
   "metadata": {
    "ExecuteTime": {
     "end_time": "2025-07-07T13:12:13.106177Z",
     "start_time": "2025-07-07T13:12:13.098674Z"
    }
   },
   "cell_type": "code",
   "source": [
    "bene_data = benedict(data)\n",
    "bene_data.a.a1 = 10"
   ],
   "id": "f17dafb8363799f1",
   "outputs": [],
   "execution_count": 22
  },
  {
   "metadata": {
    "ExecuteTime": {
     "end_time": "2025-07-07T13:12:13.133087Z",
     "start_time": "2025-07-07T13:12:13.125946Z"
    }
   },
   "cell_type": "code",
   "source": "bene_data.a.a1",
   "id": "948c6dbe6c20bb71",
   "outputs": [
    {
     "data": {
      "text/plain": [
       "10"
      ]
     },
     "execution_count": 23,
     "metadata": {},
     "output_type": "execute_result"
    }
   ],
   "execution_count": 23
  },
  {
   "metadata": {
    "ExecuteTime": {
     "end_time": "2025-07-07T13:12:13.184406Z",
     "start_time": "2025-07-07T13:12:13.175979Z"
    }
   },
   "cell_type": "code",
   "source": "data[\"a\"][\"a1\"]",
   "id": "50114e6778a73797",
   "outputs": [
    {
     "data": {
      "text/plain": [
       "10"
      ]
     },
     "execution_count": 24,
     "metadata": {},
     "output_type": "execute_result"
    }
   ],
   "execution_count": 24
  },
  {
   "metadata": {},
   "cell_type": "markdown",
   "source": "Notice that benedict dictionaries create a reference to the underlying dictionary.",
   "id": "fac6b11a82d61d99"
  },
  {
   "metadata": {
    "ExecuteTime": {
     "end_time": "2025-07-07T13:12:13.277322Z",
     "start_time": "2025-07-07T13:12:13.224921Z"
    }
   },
   "cell_type": "code",
   "source": [
    "bene_data = benedict(data)\n",
    "bene_data[\"a.a1\"] = 1\n",
    "ic(bene_data.a.a1)\n",
    "ic(data[\"a\"][\"a1\"])"
   ],
   "id": "d3389bf91ef9d0d8",
   "outputs": [
    {
     "name": "stderr",
     "output_type": "stream",
     "text": [
      "ic| bene_data.a.a1: 1\n",
      "ic| data[\"a\"][\"a1\"]: 1\n"
     ]
    },
    {
     "data": {
      "text/plain": [
       "1"
      ]
     },
     "execution_count": 25,
     "metadata": {},
     "output_type": "execute_result"
    }
   ],
   "execution_count": 25
  },
  {
   "metadata": {},
   "cell_type": "markdown",
   "source": "Other ways to get benedict dictionaries",
   "id": "1cea321883a41425"
  },
  {
   "metadata": {},
   "cell_type": "markdown",
   "source": "`From url`",
   "id": "899484b7a44d3cd5"
  },
  {
   "metadata": {
    "ExecuteTime": {
     "end_time": "2025-07-07T13:12:15.642777Z",
     "start_time": "2025-07-07T13:12:13.441541Z"
    }
   },
   "cell_type": "code",
   "source": [
    "def load_env_file(directory_name: str, filename: str):\n",
    "    try:\n",
    "        env_path = Path(__file__).resolve().parent\n",
    "    except NameError:\n",
    "        env_path = Path.cwd().resolve().parent\n",
    "    while env_path != env_path.root:\n",
    "        candidate = env_path / directory_name / filename\n",
    "        if candidate.exists():\n",
    "            load_dotenv(dotenv_path=candidate, override=True)\n",
    "            break\n",
    "        env_path = env_path.parent\n",
    "    else:\n",
    "        raise FileNotFoundError(\"scraper.env not found\")\n",
    "\n",
    "\n",
    "load_env_file(\"configs\", \"scraper.env\")\n",
    "api_key = os.environ.get(\"SCRAPEOPS_API_KEY\")\n",
    "\n",
    "fake_headers = benedict(f\"https://headers.scrapeops.io/v1/user-agents?{api_key}\", format=\"json\")\n",
    "fake_headers.result"
   ],
   "id": "79be2b9a361aeaf8",
   "outputs": [
    {
     "data": {
      "text/plain": [
       "['Mozilla/5.0 (Macintosh; Intel Mac OS X 10_15_7) AppleWebKit/537.36 (KHTML, like Gecko) Chrome/131.0.0.0 Safari/537.36',\n",
       " 'Mozilla/5.0 (Macintosh; Intel Mac OS X 10_15_7) AppleWebKit/537.36 (KHTML, like Gecko) Chrome/131.0.0.0 Safari/537.36',\n",
       " 'Mozilla/5.0 (Macintosh; Intel Mac OS X 10_15_7) AppleWebKit/537.36 (KHTML, like Gecko) Chrome/131.0.0.0 Safari/537.36',\n",
       " 'Mozilla/5.0 (iPhone; CPU iPhone OS 18_2 like Mac OS X) AppleWebKit/605.1.15 (KHTML, like Gecko) Version/18.2 Mobile/15E148 Safari/604.1',\n",
       " 'Mozilla/5.0 (Macintosh; Intel Mac OS X 10_15_7) AppleWebKit/605.1.15 (KHTML, like Gecko) Version/18.0 Safari/605.1.15',\n",
       " 'Mozilla/5.0 (Macintosh; Intel Mac OS X 10_15_7) AppleWebKit/537.36 (KHTML, like Gecko) Chrome/131.0.0.0 Safari/537.36',\n",
       " 'Mozilla/5.0 (Macintosh; Intel Mac OS X 10_15_7) AppleWebKit/605.1.15 (KHTML, like Gecko) Version/18.1.1 Safari/605.1.15',\n",
       " 'Mozilla/5.0 (Windows NT 10.0; Win64; x64) AppleWebKit/537.36 (KHTML, like Gecko) Chrome/131.0.0.0 Safari/537.36',\n",
       " 'Mozilla/5.0 (Macintosh; Intel Mac OS X 10_15_7) AppleWebKit/537.36 (KHTML, like Gecko) Chrome/131.0.0.0 Safari/537.36',\n",
       " 'Mozilla/5.0 (Windows NT 10.0; Win64; x64) AppleWebKit/537.36 (KHTML, like Gecko) Chrome/131.0.0.0 Safari/537.36']"
      ]
     },
     "execution_count": 26,
     "metadata": {},
     "output_type": "execute_result"
    }
   ],
   "execution_count": 26
  },
  {
   "metadata": {},
   "cell_type": "markdown",
   "source": "`From csv`",
   "id": "29b9aed8fe7ac5cf"
  },
  {
   "metadata": {
    "ExecuteTime": {
     "end_time": "2025-07-07T13:12:15.683712Z",
     "start_time": "2025-07-07T13:12:15.671144Z"
    }
   },
   "cell_type": "code",
   "source": [
    "# Sample data\n",
    "data = [\n",
    "    [\"id\", \"name\", \"email\"],\n",
    "    [1, \"Alice\", \"alice@example.com\"],\n",
    "    [2, \"Bob\", \"bob@example.com\"],\n",
    "    [3, \"Charlie\", \"charlie@example.com\"],\n",
    "]\n",
    "\n",
    "# Create an in-memory text stream\n",
    "csv_buffer = io.StringIO()\n",
    "\n",
    "# Write CSV data\n",
    "writer = csv.writer(csv_buffer)\n",
    "writer.writerows(data)\n",
    "\n",
    "# Save to a file\n",
    "with open(\"output.csv\", \"w\", encoding=\"utf-8\", newline=\"\") as f:\n",
    "    f.write(csv_buffer.getvalue())"
   ],
   "id": "1fdc27b39949435b",
   "outputs": [],
   "execution_count": 27
  },
  {
   "metadata": {
    "ExecuteTime": {
     "end_time": "2025-07-07T13:12:15.875597Z",
     "start_time": "2025-07-07T13:12:15.721889Z"
    }
   },
   "cell_type": "code",
   "source": [
    "csv_file = benedict.from_csv(\"output.csv\")\n",
    "ic(csv_file)\n",
    "csv_file[\"values\"]  # cannot use csv_file.values since it clutters with the builtin method of dictionaries"
   ],
   "id": "af451e3f62e9b1fa",
   "outputs": [
    {
     "name": "stderr",
     "output_type": "stream",
     "text": [
      "ic| csv_file: {'values': [{'id': '1', 'name': 'Alice', 'email': 'alice@example.com'}, {'id': '2', 'name': 'Bob', 'email': 'bob@example.com'}, {'id': '3', 'name': 'Charlie', 'email': 'charlie@example.com'}]}\n"
     ]
    },
    {
     "data": {
      "text/plain": [
       "[{'id': '1', 'name': 'Alice', 'email': 'alice@example.com'},\n",
       " {'id': '2', 'name': 'Bob', 'email': 'bob@example.com'},\n",
       " {'id': '3', 'name': 'Charlie', 'email': 'charlie@example.com'}]"
      ]
     },
     "execution_count": 28,
     "metadata": {},
     "output_type": "execute_result"
    }
   ],
   "execution_count": 28
  },
  {
   "metadata": {
    "ExecuteTime": {
     "end_time": "2025-07-07T13:12:16.214494Z",
     "start_time": "2025-07-07T13:12:16.207460Z"
    }
   },
   "cell_type": "code",
   "source": [
    "type(csv_file[\"values\"][0])"
   ],
   "id": "ffe10c6d7298ed05",
   "outputs": [
    {
     "data": {
      "text/plain": [
       "benedict.dicts.benedict"
      ]
     },
     "execution_count": 29,
     "metadata": {},
     "output_type": "execute_result"
    }
   ],
   "execution_count": 29
  },
  {
   "metadata": {},
   "cell_type": "markdown",
   "source": [
    "With regard to create benedict objects from various source, I recommend it only for very simple cases because:\n",
    "\n",
    "1.  url you can not specify timeouts or headers\n",
    "2.  csv lines are loaded eagerly\n",
    "3.  json you cannot use advance deserialization\n",
    "\n",
    "Finally, there are a lot more sources that benedict can handle which are not covered.\n"
   ],
   "id": "6c061cdb751cbcbd"
  },
  {
   "metadata": {},
   "cell_type": "markdown",
   "source": [
    "#### Benedict Library's selling points\n",
    "\n",
    "- traverse\n",
    "- filter\n",
    "- match\n",
    "- flatten"
   ],
   "id": "4c6b1931955a2b88"
  },
  {
   "metadata": {},
   "cell_type": "markdown",
   "source": "`traverse`",
   "id": "c02923d20c368f6f"
  },
  {
   "metadata": {
    "ExecuteTime": {
     "end_time": "2025-07-07T13:27:03.706614Z",
     "start_time": "2025-07-07T13:27:03.700744Z"
    }
   },
   "cell_type": "code",
   "source": "print(department)",
   "id": "51dabc75e047888b",
   "outputs": [
    {
     "name": "stdout",
     "output_type": "stream",
     "text": [
      "\n",
      "{\n",
      "  \"employees\": [\n",
      "    {\n",
      "      \"id\": 1,\n",
      "      \"name\": \"Alice\",\n",
      "      \"contact\": {\n",
      "        \"email\": \"alice@example.com\",\n",
      "        \"phone\": \"123-456-7890\"\n",
      "      }\n",
      "    },\n",
      "    {\n",
      "      \"id\": 2,\n",
      "      \"name\": \"Bob\",\n",
      "      \"contact\": {\n",
      "        \"email\": \"bob@example.com\",\n",
      "        \"phone\": \"987-654-3210\"\n",
      "      }\n",
      "    }\n",
      "  ],\n",
      "  \"department\": {\n",
      "    \"name\": \"Engineering\",\n",
      "    \"floor\": 5,\n",
      "    \"manager\": {\n",
      "      \"name\": \"Eve\",\n",
      "      \"id\": 101\n",
      "    }\n",
      "  },\n",
      "  \"location\": \"New York\",\n",
      "  \"open_positions\": 3,\n",
      "  \"is_hiring\": true\n",
      "}\n",
      "\n"
     ]
    }
   ],
   "execution_count": 33
  },
  {
   "metadata": {
    "ExecuteTime": {
     "end_time": "2025-07-07T13:32:31.022659Z",
     "start_time": "2025-07-07T13:32:31.015180Z"
    }
   },
   "cell_type": "code",
   "source": [
    "def print_input(_dict, key, value):\n",
    "    print(f\"{_dict=}\\n {key=}\\n {value=}\", end=\"\\n**********\\n\")\n",
    "\n",
    "\n",
    "bene_department = benedict(department)\n",
    "bene_department.traverse(print_input)  # Notice the recursive behaviour of this method"
   ],
   "id": "2c505050575263a5",
   "outputs": [
    {
     "name": "stdout",
     "output_type": "stream",
     "text": [
      "_dict={'employees': [{'id': 1, 'name': 'Alice', 'contact': {'email': 'alice@example.com', 'phone': '123-456-7890'}}, {'id': 2, 'name': 'Bob', 'contact': {'email': 'bob@example.com', 'phone': '987-654-3210'}}], 'department': {'name': 'Engineering', 'floor': 5, 'manager': {'name': 'Eve', 'id': 101}}, 'location': 'New York', 'open_positions': 3, 'is_hiring': True}\n",
      " key='employees'\n",
      " value=[{'id': 1, 'name': 'Alice', 'contact': {'email': 'alice@example.com', 'phone': '123-456-7890'}}, {'id': 2, 'name': 'Bob', 'contact': {'email': 'bob@example.com', 'phone': '987-654-3210'}}]\n",
      "**********\n",
      "_dict=[{'id': 1, 'name': 'Alice', 'contact': {'email': 'alice@example.com', 'phone': '123-456-7890'}}, {'id': 2, 'name': 'Bob', 'contact': {'email': 'bob@example.com', 'phone': '987-654-3210'}}]\n",
      " key=0\n",
      " value={'id': 1, 'name': 'Alice', 'contact': {'email': 'alice@example.com', 'phone': '123-456-7890'}}\n",
      "**********\n",
      "_dict={'id': 1, 'name': 'Alice', 'contact': {'email': 'alice@example.com', 'phone': '123-456-7890'}}\n",
      " key='id'\n",
      " value=1\n",
      "**********\n",
      "_dict={'id': 1, 'name': 'Alice', 'contact': {'email': 'alice@example.com', 'phone': '123-456-7890'}}\n",
      " key='name'\n",
      " value='Alice'\n",
      "**********\n",
      "_dict={'id': 1, 'name': 'Alice', 'contact': {'email': 'alice@example.com', 'phone': '123-456-7890'}}\n",
      " key='contact'\n",
      " value={'email': 'alice@example.com', 'phone': '123-456-7890'}\n",
      "**********\n",
      "_dict={'email': 'alice@example.com', 'phone': '123-456-7890'}\n",
      " key='email'\n",
      " value='alice@example.com'\n",
      "**********\n",
      "_dict={'email': 'alice@example.com', 'phone': '123-456-7890'}\n",
      " key='phone'\n",
      " value='123-456-7890'\n",
      "**********\n",
      "_dict=[{'id': 1, 'name': 'Alice', 'contact': {'email': 'alice@example.com', 'phone': '123-456-7890'}}, {'id': 2, 'name': 'Bob', 'contact': {'email': 'bob@example.com', 'phone': '987-654-3210'}}]\n",
      " key=1\n",
      " value={'id': 2, 'name': 'Bob', 'contact': {'email': 'bob@example.com', 'phone': '987-654-3210'}}\n",
      "**********\n",
      "_dict={'id': 2, 'name': 'Bob', 'contact': {'email': 'bob@example.com', 'phone': '987-654-3210'}}\n",
      " key='id'\n",
      " value=2\n",
      "**********\n",
      "_dict={'id': 2, 'name': 'Bob', 'contact': {'email': 'bob@example.com', 'phone': '987-654-3210'}}\n",
      " key='name'\n",
      " value='Bob'\n",
      "**********\n",
      "_dict={'id': 2, 'name': 'Bob', 'contact': {'email': 'bob@example.com', 'phone': '987-654-3210'}}\n",
      " key='contact'\n",
      " value={'email': 'bob@example.com', 'phone': '987-654-3210'}\n",
      "**********\n",
      "_dict={'email': 'bob@example.com', 'phone': '987-654-3210'}\n",
      " key='email'\n",
      " value='bob@example.com'\n",
      "**********\n",
      "_dict={'email': 'bob@example.com', 'phone': '987-654-3210'}\n",
      " key='phone'\n",
      " value='987-654-3210'\n",
      "**********\n",
      "_dict={'employees': [{'id': 1, 'name': 'Alice', 'contact': {'email': 'alice@example.com', 'phone': '123-456-7890'}}, {'id': 2, 'name': 'Bob', 'contact': {'email': 'bob@example.com', 'phone': '987-654-3210'}}], 'department': {'name': 'Engineering', 'floor': 5, 'manager': {'name': 'Eve', 'id': 101}}, 'location': 'New York', 'open_positions': 3, 'is_hiring': True}\n",
      " key='department'\n",
      " value={'name': 'Engineering', 'floor': 5, 'manager': {'name': 'Eve', 'id': 101}}\n",
      "**********\n",
      "_dict={'name': 'Engineering', 'floor': 5, 'manager': {'name': 'Eve', 'id': 101}}\n",
      " key='name'\n",
      " value='Engineering'\n",
      "**********\n",
      "_dict={'name': 'Engineering', 'floor': 5, 'manager': {'name': 'Eve', 'id': 101}}\n",
      " key='floor'\n",
      " value=5\n",
      "**********\n",
      "_dict={'name': 'Engineering', 'floor': 5, 'manager': {'name': 'Eve', 'id': 101}}\n",
      " key='manager'\n",
      " value={'name': 'Eve', 'id': 101}\n",
      "**********\n",
      "_dict={'name': 'Eve', 'id': 101}\n",
      " key='name'\n",
      " value='Eve'\n",
      "**********\n",
      "_dict={'name': 'Eve', 'id': 101}\n",
      " key='id'\n",
      " value=101\n",
      "**********\n",
      "_dict={'employees': [{'id': 1, 'name': 'Alice', 'contact': {'email': 'alice@example.com', 'phone': '123-456-7890'}}, {'id': 2, 'name': 'Bob', 'contact': {'email': 'bob@example.com', 'phone': '987-654-3210'}}], 'department': {'name': 'Engineering', 'floor': 5, 'manager': {'name': 'Eve', 'id': 101}}, 'location': 'New York', 'open_positions': 3, 'is_hiring': True}\n",
      " key='location'\n",
      " value='New York'\n",
      "**********\n",
      "_dict={'employees': [{'id': 1, 'name': 'Alice', 'contact': {'email': 'alice@example.com', 'phone': '123-456-7890'}}, {'id': 2, 'name': 'Bob', 'contact': {'email': 'bob@example.com', 'phone': '987-654-3210'}}], 'department': {'name': 'Engineering', 'floor': 5, 'manager': {'name': 'Eve', 'id': 101}}, 'location': 'New York', 'open_positions': 3, 'is_hiring': True}\n",
      " key='open_positions'\n",
      " value=3\n",
      "**********\n",
      "_dict={'employees': [{'id': 1, 'name': 'Alice', 'contact': {'email': 'alice@example.com', 'phone': '123-456-7890'}}, {'id': 2, 'name': 'Bob', 'contact': {'email': 'bob@example.com', 'phone': '987-654-3210'}}], 'department': {'name': 'Engineering', 'floor': 5, 'manager': {'name': 'Eve', 'id': 101}}, 'location': 'New York', 'open_positions': 3, 'is_hiring': True}\n",
      " key='is_hiring'\n",
      " value=True\n",
      "**********\n"
     ]
    }
   ],
   "execution_count": 39
  },
  {
   "metadata": {},
   "cell_type": "markdown",
   "source": [
    "Below you will find attached the link with the original implementation of traverse method\n",
    "\n",
    "[link] <https://github.com/fabiocaccamo/python-benedict/blob/main/benedict/core/traverse.py?>\n",
    "\n",
    "\n",
    "In the last section of this jupyter notebook, I will provide another way to implement this kind of recursive behaviour."
   ],
   "id": "28ae9dc9b4c471cd"
  },
  {
   "metadata": {},
   "cell_type": "markdown",
   "source": "`filter`",
   "id": "71f48f7058527eb6"
  },
  {
   "metadata": {
    "ExecuteTime": {
     "end_time": "2025-07-07T13:55:24.180686Z",
     "start_time": "2025-07-07T13:55:23.475643Z"
    }
   },
   "cell_type": "code",
   "source": "starwars = benedict(\"https://swapi.py4e.com/api/people\", format=\"json\")",
   "id": "a99eadf512c39ba",
   "outputs": [],
   "execution_count": 49
  },
  {
   "metadata": {
    "ExecuteTime": {
     "end_time": "2025-07-07T13:56:20.459801Z",
     "start_time": "2025-07-07T13:56:20.450713Z"
    }
   },
   "cell_type": "code",
   "source": [
    "starwars.results[0]  # Let's say we want to keep starwars whose height is above 175 cm"
   ],
   "id": "a7acf6d4ce1f96c2",
   "outputs": [
    {
     "data": {
      "text/plain": [
       "{'name': 'Luke Skywalker', 'height': '172', 'mass': '77', 'hair_color': 'blond', 'skin_color': 'fair', 'eye_color': 'blue', 'birth_year': '19BBY', 'gender': 'male', 'homeworld': 'https://swapi.py4e.com/api/planets/1/', 'films': ['https://swapi.py4e.com/api/films/1/', 'https://swapi.py4e.com/api/films/2/', 'https://swapi.py4e.com/api/films/3/', 'https://swapi.py4e.com/api/films/6/', 'https://swapi.py4e.com/api/films/7/'], 'species': ['https://swapi.py4e.com/api/species/1/'], 'vehicles': ['https://swapi.py4e.com/api/vehicles/14/', 'https://swapi.py4e.com/api/vehicles/30/'], 'starships': ['https://swapi.py4e.com/api/starships/12/', 'https://swapi.py4e.com/api/starships/22/'], 'created': '2014-12-09T13:50:51.644000Z', 'edited': '2014-12-20T21:17:56.891000Z', 'url': 'https://swapi.py4e.com/api/people/1/'}"
      ]
     },
     "execution_count": 51,
     "metadata": {},
     "output_type": "execute_result"
    }
   ],
   "execution_count": 51
  },
  {
   "metadata": {
    "ExecuteTime": {
     "end_time": "2025-07-07T14:23:21.778017Z",
     "start_time": "2025-07-07T14:23:21.768231Z"
    }
   },
   "cell_type": "code",
   "source": [
    "def predicate(key, value):\n",
    "    return key in [\"name\", \"height\", \"mass\"]\n",
    "\n",
    "\n",
    "[d.filter(predicate) for d in starwars.results]  # Useful to keep the keys you want"
   ],
   "id": "735c9b2f34f147b4",
   "outputs": [
    {
     "data": {
      "text/plain": [
       "[{'name': 'Luke Skywalker', 'height': '172', 'mass': '77'},\n",
       " {'name': 'C-3PO', 'height': '167', 'mass': '75'},\n",
       " {'name': 'R2-D2', 'height': '96', 'mass': '32'},\n",
       " {'name': 'Darth Vader', 'height': '202', 'mass': '136'},\n",
       " {'name': 'Leia Organa', 'height': '150', 'mass': '49'},\n",
       " {'name': 'Owen Lars', 'height': '178', 'mass': '120'},\n",
       " {'name': 'Beru Whitesun lars', 'height': '165', 'mass': '75'},\n",
       " {'name': 'R5-D4', 'height': '97', 'mass': '32'},\n",
       " {'name': 'Biggs Darklighter', 'height': '183', 'mass': '84'},\n",
       " {'name': 'Obi-Wan Kenobi', 'height': '182', 'mass': '77'}]"
      ]
     },
     "execution_count": 54,
     "metadata": {},
     "output_type": "execute_result"
    }
   ],
   "execution_count": 54
  },
  {
   "metadata": {
    "ExecuteTime": {
     "end_time": "2025-07-07T14:25:21.983591Z",
     "start_time": "2025-07-07T14:25:21.973549Z"
    }
   },
   "cell_type": "code",
   "source": [
    "def predicate(key, value):\n",
    "    return value in [\"Luke Skywalker\", \"C-3PO\"]\n",
    "\n",
    "\n",
    "[d.filter(predicate) for d in starwars.results]  # Not so useful ..."
   ],
   "id": "b4b541b02cdebe12",
   "outputs": [
    {
     "data": {
      "text/plain": [
       "[{'name': 'Luke Skywalker'}, {'name': 'C-3PO'}, {}, {}, {}, {}, {}, {}, {}, {}]"
      ]
     },
     "execution_count": 55,
     "metadata": {},
     "output_type": "execute_result"
    }
   ],
   "execution_count": 55
  },
  {
   "metadata": {},
   "cell_type": "markdown",
   "source": "`match`",
   "id": "15c471246900595d"
  },
  {
   "metadata": {
    "ExecuteTime": {
     "end_time": "2025-07-07T14:43:26.147137Z",
     "start_time": "2025-07-07T14:43:26.140788Z"
    }
   },
   "cell_type": "code",
   "source": "print(starwars.dump())",
   "id": "177c86a963c6f42d",
   "outputs": [
    {
     "name": "stdout",
     "output_type": "stream",
     "text": [
      "{\n",
      "    \"count\": 87,\n",
      "    \"next\": \"https://swapi.py4e.com/api/people/?page=2\",\n",
      "    \"previous\": null,\n",
      "    \"results\": [\n",
      "        {\n",
      "            \"birth_year\": \"19BBY\",\n",
      "            \"created\": \"2014-12-09T13:50:51.644000Z\",\n",
      "            \"edited\": \"2014-12-20T21:17:56.891000Z\",\n",
      "            \"eye_color\": \"blue\",\n",
      "            \"films\": [\n",
      "                \"https://swapi.py4e.com/api/films/1/\",\n",
      "                \"https://swapi.py4e.com/api/films/2/\",\n",
      "                \"https://swapi.py4e.com/api/films/3/\",\n",
      "                \"https://swapi.py4e.com/api/films/6/\",\n",
      "                \"https://swapi.py4e.com/api/films/7/\"\n",
      "            ],\n",
      "            \"gender\": \"male\",\n",
      "            \"hair_color\": \"blond\",\n",
      "            \"height\": \"172\",\n",
      "            \"homeworld\": \"https://swapi.py4e.com/api/planets/1/\",\n",
      "            \"mass\": \"77\",\n",
      "            \"name\": \"Luke Skywalker\",\n",
      "            \"skin_color\": \"fair\",\n",
      "            \"species\": [\n",
      "                \"https://swapi.py4e.com/api/species/1/\"\n",
      "            ],\n",
      "            \"starships\": [\n",
      "                \"https://swapi.py4e.com/api/starships/12/\",\n",
      "                \"https://swapi.py4e.com/api/starships/22/\"\n",
      "            ],\n",
      "            \"url\": \"https://swapi.py4e.com/api/people/1/\",\n",
      "            \"vehicles\": [\n",
      "                \"https://swapi.py4e.com/api/vehicles/14/\",\n",
      "                \"https://swapi.py4e.com/api/vehicles/30/\"\n",
      "            ]\n",
      "        },\n",
      "        {\n",
      "            \"birth_year\": \"112BBY\",\n",
      "            \"created\": \"2014-12-10T15:10:51.357000Z\",\n",
      "            \"edited\": \"2014-12-20T21:17:50.309000Z\",\n",
      "            \"eye_color\": \"yellow\",\n",
      "            \"films\": [\n",
      "                \"https://swapi.py4e.com/api/films/1/\",\n",
      "                \"https://swapi.py4e.com/api/films/2/\",\n",
      "                \"https://swapi.py4e.com/api/films/3/\",\n",
      "                \"https://swapi.py4e.com/api/films/4/\",\n",
      "                \"https://swapi.py4e.com/api/films/5/\",\n",
      "                \"https://swapi.py4e.com/api/films/6/\"\n",
      "            ],\n",
      "            \"gender\": \"n/a\",\n",
      "            \"hair_color\": \"n/a\",\n",
      "            \"height\": \"167\",\n",
      "            \"homeworld\": \"https://swapi.py4e.com/api/planets/1/\",\n",
      "            \"mass\": \"75\",\n",
      "            \"name\": \"C-3PO\",\n",
      "            \"skin_color\": \"gold\",\n",
      "            \"species\": [\n",
      "                \"https://swapi.py4e.com/api/species/2/\"\n",
      "            ],\n",
      "            \"starships\": [],\n",
      "            \"url\": \"https://swapi.py4e.com/api/people/2/\",\n",
      "            \"vehicles\": []\n",
      "        },\n",
      "        {\n",
      "            \"birth_year\": \"33BBY\",\n",
      "            \"created\": \"2014-12-10T15:11:50.376000Z\",\n",
      "            \"edited\": \"2014-12-20T21:17:50.311000Z\",\n",
      "            \"eye_color\": \"red\",\n",
      "            \"films\": [\n",
      "                \"https://swapi.py4e.com/api/films/1/\",\n",
      "                \"https://swapi.py4e.com/api/films/2/\",\n",
      "                \"https://swapi.py4e.com/api/films/3/\",\n",
      "                \"https://swapi.py4e.com/api/films/4/\",\n",
      "                \"https://swapi.py4e.com/api/films/5/\",\n",
      "                \"https://swapi.py4e.com/api/films/6/\",\n",
      "                \"https://swapi.py4e.com/api/films/7/\"\n",
      "            ],\n",
      "            \"gender\": \"n/a\",\n",
      "            \"hair_color\": \"n/a\",\n",
      "            \"height\": \"96\",\n",
      "            \"homeworld\": \"https://swapi.py4e.com/api/planets/8/\",\n",
      "            \"mass\": \"32\",\n",
      "            \"name\": \"R2-D2\",\n",
      "            \"skin_color\": \"white, blue\",\n",
      "            \"species\": [\n",
      "                \"https://swapi.py4e.com/api/species/2/\"\n",
      "            ],\n",
      "            \"starships\": [],\n",
      "            \"url\": \"https://swapi.py4e.com/api/people/3/\",\n",
      "            \"vehicles\": []\n",
      "        },\n",
      "        {\n",
      "            \"birth_year\": \"41.9BBY\",\n",
      "            \"created\": \"2014-12-10T15:18:20.704000Z\",\n",
      "            \"edited\": \"2014-12-20T21:17:50.313000Z\",\n",
      "            \"eye_color\": \"yellow\",\n",
      "            \"films\": [\n",
      "                \"https://swapi.py4e.com/api/films/1/\",\n",
      "                \"https://swapi.py4e.com/api/films/2/\",\n",
      "                \"https://swapi.py4e.com/api/films/3/\",\n",
      "                \"https://swapi.py4e.com/api/films/6/\"\n",
      "            ],\n",
      "            \"gender\": \"male\",\n",
      "            \"hair_color\": \"none\",\n",
      "            \"height\": \"202\",\n",
      "            \"homeworld\": \"https://swapi.py4e.com/api/planets/1/\",\n",
      "            \"mass\": \"136\",\n",
      "            \"name\": \"Darth Vader\",\n",
      "            \"skin_color\": \"white\",\n",
      "            \"species\": [\n",
      "                \"https://swapi.py4e.com/api/species/1/\"\n",
      "            ],\n",
      "            \"starships\": [\n",
      "                \"https://swapi.py4e.com/api/starships/13/\"\n",
      "            ],\n",
      "            \"url\": \"https://swapi.py4e.com/api/people/4/\",\n",
      "            \"vehicles\": []\n",
      "        },\n",
      "        {\n",
      "            \"birth_year\": \"19BBY\",\n",
      "            \"created\": \"2014-12-10T15:20:09.791000Z\",\n",
      "            \"edited\": \"2014-12-20T21:17:50.315000Z\",\n",
      "            \"eye_color\": \"brown\",\n",
      "            \"films\": [\n",
      "                \"https://swapi.py4e.com/api/films/1/\",\n",
      "                \"https://swapi.py4e.com/api/films/2/\",\n",
      "                \"https://swapi.py4e.com/api/films/3/\",\n",
      "                \"https://swapi.py4e.com/api/films/6/\",\n",
      "                \"https://swapi.py4e.com/api/films/7/\"\n",
      "            ],\n",
      "            \"gender\": \"female\",\n",
      "            \"hair_color\": \"brown\",\n",
      "            \"height\": \"150\",\n",
      "            \"homeworld\": \"https://swapi.py4e.com/api/planets/2/\",\n",
      "            \"mass\": \"49\",\n",
      "            \"name\": \"Leia Organa\",\n",
      "            \"skin_color\": \"light\",\n",
      "            \"species\": [\n",
      "                \"https://swapi.py4e.com/api/species/1/\"\n",
      "            ],\n",
      "            \"starships\": [],\n",
      "            \"url\": \"https://swapi.py4e.com/api/people/5/\",\n",
      "            \"vehicles\": [\n",
      "                \"https://swapi.py4e.com/api/vehicles/30/\"\n",
      "            ]\n",
      "        },\n",
      "        {\n",
      "            \"birth_year\": \"52BBY\",\n",
      "            \"created\": \"2014-12-10T15:52:14.024000Z\",\n",
      "            \"edited\": \"2014-12-20T21:17:50.317000Z\",\n",
      "            \"eye_color\": \"blue\",\n",
      "            \"films\": [\n",
      "                \"https://swapi.py4e.com/api/films/1/\",\n",
      "                \"https://swapi.py4e.com/api/films/5/\",\n",
      "                \"https://swapi.py4e.com/api/films/6/\"\n",
      "            ],\n",
      "            \"gender\": \"male\",\n",
      "            \"hair_color\": \"brown, grey\",\n",
      "            \"height\": \"178\",\n",
      "            \"homeworld\": \"https://swapi.py4e.com/api/planets/1/\",\n",
      "            \"mass\": \"120\",\n",
      "            \"name\": \"Owen Lars\",\n",
      "            \"skin_color\": \"light\",\n",
      "            \"species\": [\n",
      "                \"https://swapi.py4e.com/api/species/1/\"\n",
      "            ],\n",
      "            \"starships\": [],\n",
      "            \"url\": \"https://swapi.py4e.com/api/people/6/\",\n",
      "            \"vehicles\": []\n",
      "        },\n",
      "        {\n",
      "            \"birth_year\": \"47BBY\",\n",
      "            \"created\": \"2014-12-10T15:53:41.121000Z\",\n",
      "            \"edited\": \"2014-12-20T21:17:50.319000Z\",\n",
      "            \"eye_color\": \"blue\",\n",
      "            \"films\": [\n",
      "                \"https://swapi.py4e.com/api/films/1/\",\n",
      "                \"https://swapi.py4e.com/api/films/5/\",\n",
      "                \"https://swapi.py4e.com/api/films/6/\"\n",
      "            ],\n",
      "            \"gender\": \"female\",\n",
      "            \"hair_color\": \"brown\",\n",
      "            \"height\": \"165\",\n",
      "            \"homeworld\": \"https://swapi.py4e.com/api/planets/1/\",\n",
      "            \"mass\": \"75\",\n",
      "            \"name\": \"Beru Whitesun lars\",\n",
      "            \"skin_color\": \"light\",\n",
      "            \"species\": [\n",
      "                \"https://swapi.py4e.com/api/species/1/\"\n",
      "            ],\n",
      "            \"starships\": [],\n",
      "            \"url\": \"https://swapi.py4e.com/api/people/7/\",\n",
      "            \"vehicles\": []\n",
      "        },\n",
      "        {\n",
      "            \"birth_year\": \"unknown\",\n",
      "            \"created\": \"2014-12-10T15:57:50.959000Z\",\n",
      "            \"edited\": \"2014-12-20T21:17:50.321000Z\",\n",
      "            \"eye_color\": \"red\",\n",
      "            \"films\": [\n",
      "                \"https://swapi.py4e.com/api/films/1/\"\n",
      "            ],\n",
      "            \"gender\": \"n/a\",\n",
      "            \"hair_color\": \"n/a\",\n",
      "            \"height\": \"97\",\n",
      "            \"homeworld\": \"https://swapi.py4e.com/api/planets/1/\",\n",
      "            \"mass\": \"32\",\n",
      "            \"name\": \"R5-D4\",\n",
      "            \"skin_color\": \"white, red\",\n",
      "            \"species\": [\n",
      "                \"https://swapi.py4e.com/api/species/2/\"\n",
      "            ],\n",
      "            \"starships\": [],\n",
      "            \"url\": \"https://swapi.py4e.com/api/people/8/\",\n",
      "            \"vehicles\": []\n",
      "        },\n",
      "        {\n",
      "            \"birth_year\": \"24BBY\",\n",
      "            \"created\": \"2014-12-10T15:59:50.509000Z\",\n",
      "            \"edited\": \"2014-12-20T21:17:50.323000Z\",\n",
      "            \"eye_color\": \"brown\",\n",
      "            \"films\": [\n",
      "                \"https://swapi.py4e.com/api/films/1/\"\n",
      "            ],\n",
      "            \"gender\": \"male\",\n",
      "            \"hair_color\": \"black\",\n",
      "            \"height\": \"183\",\n",
      "            \"homeworld\": \"https://swapi.py4e.com/api/planets/1/\",\n",
      "            \"mass\": \"84\",\n",
      "            \"name\": \"Biggs Darklighter\",\n",
      "            \"skin_color\": \"light\",\n",
      "            \"species\": [\n",
      "                \"https://swapi.py4e.com/api/species/1/\"\n",
      "            ],\n",
      "            \"starships\": [\n",
      "                \"https://swapi.py4e.com/api/starships/12/\"\n",
      "            ],\n",
      "            \"url\": \"https://swapi.py4e.com/api/people/9/\",\n",
      "            \"vehicles\": []\n",
      "        },\n",
      "        {\n",
      "            \"birth_year\": \"57BBY\",\n",
      "            \"created\": \"2014-12-10T16:16:29.192000Z\",\n",
      "            \"edited\": \"2014-12-20T21:17:50.325000Z\",\n",
      "            \"eye_color\": \"blue-gray\",\n",
      "            \"films\": [\n",
      "                \"https://swapi.py4e.com/api/films/1/\",\n",
      "                \"https://swapi.py4e.com/api/films/2/\",\n",
      "                \"https://swapi.py4e.com/api/films/3/\",\n",
      "                \"https://swapi.py4e.com/api/films/4/\",\n",
      "                \"https://swapi.py4e.com/api/films/5/\",\n",
      "                \"https://swapi.py4e.com/api/films/6/\"\n",
      "            ],\n",
      "            \"gender\": \"male\",\n",
      "            \"hair_color\": \"auburn, white\",\n",
      "            \"height\": \"182\",\n",
      "            \"homeworld\": \"https://swapi.py4e.com/api/planets/20/\",\n",
      "            \"mass\": \"77\",\n",
      "            \"name\": \"Obi-Wan Kenobi\",\n",
      "            \"skin_color\": \"fair\",\n",
      "            \"species\": [\n",
      "                \"https://swapi.py4e.com/api/species/1/\"\n",
      "            ],\n",
      "            \"starships\": [\n",
      "                \"https://swapi.py4e.com/api/starships/48/\",\n",
      "                \"https://swapi.py4e.com/api/starships/59/\",\n",
      "                \"https://swapi.py4e.com/api/starships/64/\",\n",
      "                \"https://swapi.py4e.com/api/starships/65/\",\n",
      "                \"https://swapi.py4e.com/api/starships/74/\"\n",
      "            ],\n",
      "            \"url\": \"https://swapi.py4e.com/api/people/10/\",\n",
      "            \"vehicles\": [\n",
      "                \"https://swapi.py4e.com/api/vehicles/38/\"\n",
      "            ]\n",
      "        }\n",
      "    ]\n",
      "}\n"
     ]
    }
   ],
   "execution_count": 60
  },
  {
   "metadata": {
    "ExecuteTime": {
     "end_time": "2025-07-07T14:42:52.890500Z",
     "start_time": "2025-07-07T14:42:52.880656Z"
    }
   },
   "cell_type": "code",
   "source": "starwars.match(\"count\")",
   "id": "c9e7f5a1fc74e216",
   "outputs": [
    {
     "data": {
      "text/plain": [
       "[87]"
      ]
     },
     "execution_count": 57,
     "metadata": {},
     "output_type": "execute_result"
    }
   ],
   "execution_count": 57
  },
  {
   "metadata": {
    "ExecuteTime": {
     "end_time": "2025-07-07T14:44:09.797950Z",
     "start_time": "2025-07-07T14:44:09.790069Z"
    }
   },
   "cell_type": "code",
   "source": "starwars.match(\"results[*].name\")",
   "id": "a038778c9f66913d",
   "outputs": [
    {
     "data": {
      "text/plain": [
       "['Luke Skywalker',\n",
       " 'C-3PO',\n",
       " 'R2-D2',\n",
       " 'Darth Vader',\n",
       " 'Leia Organa',\n",
       " 'Owen Lars',\n",
       " 'Beru Whitesun lars',\n",
       " 'R5-D4',\n",
       " 'Biggs Darklighter',\n",
       " 'Obi-Wan Kenobi']"
      ]
     },
     "execution_count": 61,
     "metadata": {},
     "output_type": "execute_result"
    }
   ],
   "execution_count": 61
  },
  {
   "metadata": {
    "ExecuteTime": {
     "end_time": "2025-07-07T14:45:49.412704Z",
     "start_time": "2025-07-07T14:45:49.404683Z"
    }
   },
   "cell_type": "code",
   "source": [
    "starwars.match(\"*.name\")  # this will fetch now all the values whose key is name."
   ],
   "id": "282b5b072e4049c7",
   "outputs": [
    {
     "data": {
      "text/plain": [
       "['Luke Skywalker',\n",
       " 'C-3PO',\n",
       " 'R2-D2',\n",
       " 'Darth Vader',\n",
       " 'Leia Organa',\n",
       " 'Owen Lars',\n",
       " 'Beru Whitesun lars',\n",
       " 'R5-D4',\n",
       " 'Biggs Darklighter',\n",
       " 'Obi-Wan Kenobi']"
      ]
     },
     "execution_count": 66,
     "metadata": {},
     "output_type": "execute_result"
    }
   ],
   "execution_count": 66
  },
  {
   "metadata": {},
   "cell_type": "markdown",
   "source": "Let me show the difference between \"results[\\*].name\" and  \"*.name\"",
   "id": "29ff28cc348f6d1"
  },
  {
   "metadata": {
    "ExecuteTime": {
     "end_time": "2025-07-07T14:50:53.902287Z",
     "start_time": "2025-07-07T14:50:53.897503Z"
    }
   },
   "cell_type": "code",
   "source": "starwars.name = {\"name\": \"demo for match method\"}",
   "id": "d4a8e3d2876030ac",
   "outputs": [],
   "execution_count": 75
  },
  {
   "metadata": {
    "ExecuteTime": {
     "end_time": "2025-07-07T14:50:55.967255Z",
     "start_time": "2025-07-07T14:50:55.959454Z"
    }
   },
   "cell_type": "code",
   "source": [
    "starwars.match(\"results[*].name\")  # it iterates the list of starwars.results"
   ],
   "id": "97d532cb1b2131af",
   "outputs": [
    {
     "data": {
      "text/plain": [
       "['Luke Skywalker',\n",
       " 'C-3PO',\n",
       " 'R2-D2',\n",
       " 'Darth Vader',\n",
       " 'Leia Organa',\n",
       " 'Owen Lars',\n",
       " 'Beru Whitesun lars',\n",
       " 'R5-D4',\n",
       " 'Biggs Darklighter',\n",
       " 'Obi-Wan Kenobi']"
      ]
     },
     "execution_count": 76,
     "metadata": {},
     "output_type": "execute_result"
    }
   ],
   "execution_count": 76
  },
  {
   "metadata": {
    "ExecuteTime": {
     "end_time": "2025-07-07T14:50:58.636503Z",
     "start_time": "2025-07-07T14:50:58.628496Z"
    }
   },
   "cell_type": "code",
   "source": [
    "starwars.match(\"*.name\")  # It will iterate through all the collections of starwars dict"
   ],
   "id": "d183f306d76897f0",
   "outputs": [
    {
     "data": {
      "text/plain": [
       "['demo for match method',\n",
       " 'Luke Skywalker',\n",
       " 'C-3PO',\n",
       " 'R2-D2',\n",
       " 'Darth Vader',\n",
       " 'Leia Organa',\n",
       " 'Owen Lars',\n",
       " 'Beru Whitesun lars',\n",
       " 'R5-D4',\n",
       " 'Biggs Darklighter',\n",
       " 'Obi-Wan Kenobi']"
      ]
     },
     "execution_count": 77,
     "metadata": {},
     "output_type": "execute_result"
    }
   ],
   "execution_count": 77
  },
  {
   "metadata": {},
   "cell_type": "markdown",
   "source": "`flatten`",
   "id": "b133bb3509cc0da3"
  },
  {
   "metadata": {
    "ExecuteTime": {
     "end_time": "2025-07-07T14:52:59.576843Z",
     "start_time": "2025-07-07T14:52:59.571298Z"
    }
   },
   "cell_type": "code",
   "source": [
    "# Let's go back to our department dictionary\n",
    "\n",
    "print(bene_department.dump())"
   ],
   "id": "485c91ec7d574db",
   "outputs": [
    {
     "name": "stdout",
     "output_type": "stream",
     "text": [
      "{\n",
      "    \"department\": {\n",
      "        \"floor\": 5,\n",
      "        \"manager\": {\n",
      "            \"id\": 101,\n",
      "            \"name\": \"Eve\"\n",
      "        },\n",
      "        \"name\": \"Engineering\"\n",
      "    },\n",
      "    \"employees\": [\n",
      "        {\n",
      "            \"contact\": {\n",
      "                \"email\": \"alice@example.com\",\n",
      "                \"phone\": \"123-456-7890\"\n",
      "            },\n",
      "            \"id\": 1,\n",
      "            \"name\": \"Alice\"\n",
      "        },\n",
      "        {\n",
      "            \"contact\": {\n",
      "                \"email\": \"bob@example.com\",\n",
      "                \"phone\": \"987-654-3210\"\n",
      "            },\n",
      "            \"id\": 2,\n",
      "            \"name\": \"Bob\"\n",
      "        }\n",
      "    ],\n",
      "    \"is_hiring\": true,\n",
      "    \"location\": \"New York\",\n",
      "    \"open_positions\": 3\n",
      "}\n"
     ]
    }
   ],
   "execution_count": 80
  },
  {
   "metadata": {
    "ExecuteTime": {
     "end_time": "2025-07-07T14:55:10.011635Z",
     "start_time": "2025-07-07T14:55:10.004806Z"
    }
   },
   "cell_type": "code",
   "source": [
    "# Notice that it is not apply the flatten to dictionaries inside the list\n",
    "print(bene_department.flatten(separator=\"_\").dump())"
   ],
   "id": "44b553007a6e250a",
   "outputs": [
    {
     "name": "stdout",
     "output_type": "stream",
     "text": [
      "{\n",
      "    \"department_floor\": 5,\n",
      "    \"department_manager_id\": 101,\n",
      "    \"department_manager_name\": \"Eve\",\n",
      "    \"department_name\": \"Engineering\",\n",
      "    \"employees\": [\n",
      "        {\n",
      "            \"contact\": {\n",
      "                \"email\": \"alice@example.com\",\n",
      "                \"phone\": \"123-456-7890\"\n",
      "            },\n",
      "            \"id\": 1,\n",
      "            \"name\": \"Alice\"\n",
      "        },\n",
      "        {\n",
      "            \"contact\": {\n",
      "                \"email\": \"bob@example.com\",\n",
      "                \"phone\": \"987-654-3210\"\n",
      "            },\n",
      "            \"id\": 2,\n",
      "            \"name\": \"Bob\"\n",
      "        }\n",
      "    ],\n",
      "    \"is_hiring\": true,\n",
      "    \"location\": \"New York\",\n",
      "    \"open_positions\": 3\n",
      "}\n"
     ]
    }
   ],
   "execution_count": 86
  },
  {
   "metadata": {},
   "cell_type": "markdown",
   "source": [
    "### Bonus section\n",
    "\n",
    "\n",
    "The goal of this section is to show a way how to apply recursion especially when the function is applied to iterables e.g, dictionaries, lists, sets\n",
    "\n",
    "Moreover, I will apply the same architecture to add the recursive behaviour to the flatten function. With that, I think it will be clearer that this pattern is reusable."
   ],
   "id": "3a95b6675fa96e00"
  },
  {
   "metadata": {
    "ExecuteTime": {
     "end_time": "2025-07-07T21:54:57.808807Z",
     "start_time": "2025-07-07T21:54:57.795230Z"
    }
   },
   "cell_type": "code",
   "source": [
    "from functools import singledispatch\n",
    "from collections.abc import Mapping, Callable\n",
    "\n",
    "\n",
    "def traverse(dict_, callback):\n",
    "\n",
    "    @singledispatch\n",
    "    def apply_callback(value, key, dict_):\n",
    "        return callback(dict_, key, value)\n",
    "\n",
    "    @apply_callback.register\n",
    "    def _(value: Mapping, key, dict_):\n",
    "        callback(dict_, key, value)\n",
    "        for nested_key, nested_value in value.items():\n",
    "            apply_callback(nested_value, nested_key, value)\n",
    "\n",
    "    # Cannot use Iterable because str and bytes are iterables too...\n",
    "    @apply_callback.register(list)\n",
    "    @apply_callback.register(tuple)\n",
    "    @apply_callback.register(set)\n",
    "    @apply_callback.register(frozenset)\n",
    "    def _(value, key, dict_):\n",
    "        callback(dict_, key, value)  # in this case dict_ is actually a list\n",
    "        for idx, item in enumerate(value):\n",
    "            apply_callback(item, idx, value)\n",
    "\n",
    "    traverse.apply_callback = apply_callback\n",
    "\n",
    "    for k, v in dict_.items():\n",
    "        apply_callback(v, k, dict_)\n",
    "    return None\n",
    "\n",
    "\n",
    "def print_input(_dict, key, value):\n",
    "    print(f\"{_dict=}\\n {key=}\\n {value=}\", end=\"\\n**********\\n\")\n",
    "\n",
    "\n",
    "traverse(bene_department, print_input)"
   ],
   "id": "dccb7a97cc8b00d4",
   "outputs": [
    {
     "name": "stdout",
     "output_type": "stream",
     "text": [
      "_dict={'employees': [{'id': 1, 'name': 'Alice', 'contact': {'email': 'alice@example.com', 'phone': '123-456-7890'}}, {'id': 2, 'name': 'Bob', 'contact': {'email': 'bob@example.com', 'phone': '987-654-3210'}}], 'department': {'name': 'Engineering', 'floor': 5, 'manager': {'name': 'Eve', 'id': 101}}, 'location': 'New York', 'open_positions': 3, 'is_hiring': True}\n",
      " key='employees'\n",
      " value=[{'id': 1, 'name': 'Alice', 'contact': {'email': 'alice@example.com', 'phone': '123-456-7890'}}, {'id': 2, 'name': 'Bob', 'contact': {'email': 'bob@example.com', 'phone': '987-654-3210'}}]\n",
      "**********\n",
      "_dict=[{'id': 1, 'name': 'Alice', 'contact': {'email': 'alice@example.com', 'phone': '123-456-7890'}}, {'id': 2, 'name': 'Bob', 'contact': {'email': 'bob@example.com', 'phone': '987-654-3210'}}]\n",
      " key=0\n",
      " value={'id': 1, 'name': 'Alice', 'contact': {'email': 'alice@example.com', 'phone': '123-456-7890'}}\n",
      "**********\n",
      "_dict={'id': 1, 'name': 'Alice', 'contact': {'email': 'alice@example.com', 'phone': '123-456-7890'}}\n",
      " key='id'\n",
      " value=1\n",
      "**********\n",
      "_dict={'id': 1, 'name': 'Alice', 'contact': {'email': 'alice@example.com', 'phone': '123-456-7890'}}\n",
      " key='name'\n",
      " value='Alice'\n",
      "**********\n",
      "_dict={'id': 1, 'name': 'Alice', 'contact': {'email': 'alice@example.com', 'phone': '123-456-7890'}}\n",
      " key='contact'\n",
      " value={'email': 'alice@example.com', 'phone': '123-456-7890'}\n",
      "**********\n",
      "_dict={'email': 'alice@example.com', 'phone': '123-456-7890'}\n",
      " key='email'\n",
      " value='alice@example.com'\n",
      "**********\n",
      "_dict={'email': 'alice@example.com', 'phone': '123-456-7890'}\n",
      " key='phone'\n",
      " value='123-456-7890'\n",
      "**********\n",
      "_dict=[{'id': 1, 'name': 'Alice', 'contact': {'email': 'alice@example.com', 'phone': '123-456-7890'}}, {'id': 2, 'name': 'Bob', 'contact': {'email': 'bob@example.com', 'phone': '987-654-3210'}}]\n",
      " key=1\n",
      " value={'id': 2, 'name': 'Bob', 'contact': {'email': 'bob@example.com', 'phone': '987-654-3210'}}\n",
      "**********\n",
      "_dict={'id': 2, 'name': 'Bob', 'contact': {'email': 'bob@example.com', 'phone': '987-654-3210'}}\n",
      " key='id'\n",
      " value=2\n",
      "**********\n",
      "_dict={'id': 2, 'name': 'Bob', 'contact': {'email': 'bob@example.com', 'phone': '987-654-3210'}}\n",
      " key='name'\n",
      " value='Bob'\n",
      "**********\n",
      "_dict={'id': 2, 'name': 'Bob', 'contact': {'email': 'bob@example.com', 'phone': '987-654-3210'}}\n",
      " key='contact'\n",
      " value={'email': 'bob@example.com', 'phone': '987-654-3210'}\n",
      "**********\n",
      "_dict={'email': 'bob@example.com', 'phone': '987-654-3210'}\n",
      " key='email'\n",
      " value='bob@example.com'\n",
      "**********\n",
      "_dict={'email': 'bob@example.com', 'phone': '987-654-3210'}\n",
      " key='phone'\n",
      " value='987-654-3210'\n",
      "**********\n",
      "_dict={'employees': [{'id': 1, 'name': 'Alice', 'contact': {'email': 'alice@example.com', 'phone': '123-456-7890'}}, {'id': 2, 'name': 'Bob', 'contact': {'email': 'bob@example.com', 'phone': '987-654-3210'}}], 'department': {'name': 'Engineering', 'floor': 5, 'manager': {'name': 'Eve', 'id': 101}}, 'location': 'New York', 'open_positions': 3, 'is_hiring': True}\n",
      " key='department'\n",
      " value={'name': 'Engineering', 'floor': 5, 'manager': {'name': 'Eve', 'id': 101}}\n",
      "**********\n",
      "_dict={'name': 'Engineering', 'floor': 5, 'manager': {'name': 'Eve', 'id': 101}}\n",
      " key='name'\n",
      " value='Engineering'\n",
      "**********\n",
      "_dict={'name': 'Engineering', 'floor': 5, 'manager': {'name': 'Eve', 'id': 101}}\n",
      " key='floor'\n",
      " value=5\n",
      "**********\n",
      "_dict={'name': 'Engineering', 'floor': 5, 'manager': {'name': 'Eve', 'id': 101}}\n",
      " key='manager'\n",
      " value={'name': 'Eve', 'id': 101}\n",
      "**********\n",
      "_dict={'name': 'Eve', 'id': 101}\n",
      " key='name'\n",
      " value='Eve'\n",
      "**********\n",
      "_dict={'name': 'Eve', 'id': 101}\n",
      " key='id'\n",
      " value=101\n",
      "**********\n",
      "_dict={'employees': [{'id': 1, 'name': 'Alice', 'contact': {'email': 'alice@example.com', 'phone': '123-456-7890'}}, {'id': 2, 'name': 'Bob', 'contact': {'email': 'bob@example.com', 'phone': '987-654-3210'}}], 'department': {'name': 'Engineering', 'floor': 5, 'manager': {'name': 'Eve', 'id': 101}}, 'location': 'New York', 'open_positions': 3, 'is_hiring': True}\n",
      " key='location'\n",
      " value='New York'\n",
      "**********\n",
      "_dict={'employees': [{'id': 1, 'name': 'Alice', 'contact': {'email': 'alice@example.com', 'phone': '123-456-7890'}}, {'id': 2, 'name': 'Bob', 'contact': {'email': 'bob@example.com', 'phone': '987-654-3210'}}], 'department': {'name': 'Engineering', 'floor': 5, 'manager': {'name': 'Eve', 'id': 101}}, 'location': 'New York', 'open_positions': 3, 'is_hiring': True}\n",
      " key='open_positions'\n",
      " value=3\n",
      "**********\n",
      "_dict={'employees': [{'id': 1, 'name': 'Alice', 'contact': {'email': 'alice@example.com', 'phone': '123-456-7890'}}, {'id': 2, 'name': 'Bob', 'contact': {'email': 'bob@example.com', 'phone': '987-654-3210'}}], 'department': {'name': 'Engineering', 'floor': 5, 'manager': {'name': 'Eve', 'id': 101}}, 'location': 'New York', 'open_positions': 3, 'is_hiring': True}\n",
      " key='is_hiring'\n",
      " value=True\n",
      "**********\n"
     ]
    }
   ],
   "execution_count": 148
  },
  {
   "metadata": {
    "ExecuteTime": {
     "end_time": "2025-07-07T21:55:02.625767Z",
     "start_time": "2025-07-07T21:55:02.617500Z"
    }
   },
   "cell_type": "code",
   "source": [
    "benedict.traverse = traverse  # overwrite the original traverse mathod\n",
    "bene_department = benedict.from_json(department)\n",
    "bene_department.traverse(print_input)"
   ],
   "id": "166eeb69e243693e",
   "outputs": [
    {
     "name": "stdout",
     "output_type": "stream",
     "text": [
      "_dict={'employees': [{'id': 1, 'name': 'Alice', 'contact': {'email': 'alice@example.com', 'phone': '123-456-7890'}}, {'id': 2, 'name': 'Bob', 'contact': {'email': 'bob@example.com', 'phone': '987-654-3210'}}], 'department': {'name': 'Engineering', 'floor': 5, 'manager': {'name': 'Eve', 'id': 101}}, 'location': 'New York', 'open_positions': 3, 'is_hiring': True}\n",
      " key='employees'\n",
      " value=[{'id': 1, 'name': 'Alice', 'contact': {'email': 'alice@example.com', 'phone': '123-456-7890'}}, {'id': 2, 'name': 'Bob', 'contact': {'email': 'bob@example.com', 'phone': '987-654-3210'}}]\n",
      "**********\n",
      "_dict=[{'id': 1, 'name': 'Alice', 'contact': {'email': 'alice@example.com', 'phone': '123-456-7890'}}, {'id': 2, 'name': 'Bob', 'contact': {'email': 'bob@example.com', 'phone': '987-654-3210'}}]\n",
      " key=0\n",
      " value={'id': 1, 'name': 'Alice', 'contact': {'email': 'alice@example.com', 'phone': '123-456-7890'}}\n",
      "**********\n",
      "_dict={'id': 1, 'name': 'Alice', 'contact': {'email': 'alice@example.com', 'phone': '123-456-7890'}}\n",
      " key='id'\n",
      " value=1\n",
      "**********\n",
      "_dict={'id': 1, 'name': 'Alice', 'contact': {'email': 'alice@example.com', 'phone': '123-456-7890'}}\n",
      " key='name'\n",
      " value='Alice'\n",
      "**********\n",
      "_dict={'id': 1, 'name': 'Alice', 'contact': {'email': 'alice@example.com', 'phone': '123-456-7890'}}\n",
      " key='contact'\n",
      " value={'email': 'alice@example.com', 'phone': '123-456-7890'}\n",
      "**********\n",
      "_dict={'email': 'alice@example.com', 'phone': '123-456-7890'}\n",
      " key='email'\n",
      " value='alice@example.com'\n",
      "**********\n",
      "_dict={'email': 'alice@example.com', 'phone': '123-456-7890'}\n",
      " key='phone'\n",
      " value='123-456-7890'\n",
      "**********\n",
      "_dict=[{'id': 1, 'name': 'Alice', 'contact': {'email': 'alice@example.com', 'phone': '123-456-7890'}}, {'id': 2, 'name': 'Bob', 'contact': {'email': 'bob@example.com', 'phone': '987-654-3210'}}]\n",
      " key=1\n",
      " value={'id': 2, 'name': 'Bob', 'contact': {'email': 'bob@example.com', 'phone': '987-654-3210'}}\n",
      "**********\n",
      "_dict={'id': 2, 'name': 'Bob', 'contact': {'email': 'bob@example.com', 'phone': '987-654-3210'}}\n",
      " key='id'\n",
      " value=2\n",
      "**********\n",
      "_dict={'id': 2, 'name': 'Bob', 'contact': {'email': 'bob@example.com', 'phone': '987-654-3210'}}\n",
      " key='name'\n",
      " value='Bob'\n",
      "**********\n",
      "_dict={'id': 2, 'name': 'Bob', 'contact': {'email': 'bob@example.com', 'phone': '987-654-3210'}}\n",
      " key='contact'\n",
      " value={'email': 'bob@example.com', 'phone': '987-654-3210'}\n",
      "**********\n",
      "_dict={'email': 'bob@example.com', 'phone': '987-654-3210'}\n",
      " key='email'\n",
      " value='bob@example.com'\n",
      "**********\n",
      "_dict={'email': 'bob@example.com', 'phone': '987-654-3210'}\n",
      " key='phone'\n",
      " value='987-654-3210'\n",
      "**********\n",
      "_dict={'employees': [{'id': 1, 'name': 'Alice', 'contact': {'email': 'alice@example.com', 'phone': '123-456-7890'}}, {'id': 2, 'name': 'Bob', 'contact': {'email': 'bob@example.com', 'phone': '987-654-3210'}}], 'department': {'name': 'Engineering', 'floor': 5, 'manager': {'name': 'Eve', 'id': 101}}, 'location': 'New York', 'open_positions': 3, 'is_hiring': True}\n",
      " key='department'\n",
      " value={'name': 'Engineering', 'floor': 5, 'manager': {'name': 'Eve', 'id': 101}}\n",
      "**********\n",
      "_dict={'name': 'Engineering', 'floor': 5, 'manager': {'name': 'Eve', 'id': 101}}\n",
      " key='name'\n",
      " value='Engineering'\n",
      "**********\n",
      "_dict={'name': 'Engineering', 'floor': 5, 'manager': {'name': 'Eve', 'id': 101}}\n",
      " key='floor'\n",
      " value=5\n",
      "**********\n",
      "_dict={'name': 'Engineering', 'floor': 5, 'manager': {'name': 'Eve', 'id': 101}}\n",
      " key='manager'\n",
      " value={'name': 'Eve', 'id': 101}\n",
      "**********\n",
      "_dict={'name': 'Eve', 'id': 101}\n",
      " key='name'\n",
      " value='Eve'\n",
      "**********\n",
      "_dict={'name': 'Eve', 'id': 101}\n",
      " key='id'\n",
      " value=101\n",
      "**********\n",
      "_dict={'employees': [{'id': 1, 'name': 'Alice', 'contact': {'email': 'alice@example.com', 'phone': '123-456-7890'}}, {'id': 2, 'name': 'Bob', 'contact': {'email': 'bob@example.com', 'phone': '987-654-3210'}}], 'department': {'name': 'Engineering', 'floor': 5, 'manager': {'name': 'Eve', 'id': 101}}, 'location': 'New York', 'open_positions': 3, 'is_hiring': True}\n",
      " key='location'\n",
      " value='New York'\n",
      "**********\n",
      "_dict={'employees': [{'id': 1, 'name': 'Alice', 'contact': {'email': 'alice@example.com', 'phone': '123-456-7890'}}, {'id': 2, 'name': 'Bob', 'contact': {'email': 'bob@example.com', 'phone': '987-654-3210'}}], 'department': {'name': 'Engineering', 'floor': 5, 'manager': {'name': 'Eve', 'id': 101}}, 'location': 'New York', 'open_positions': 3, 'is_hiring': True}\n",
      " key='open_positions'\n",
      " value=3\n",
      "**********\n",
      "_dict={'employees': [{'id': 1, 'name': 'Alice', 'contact': {'email': 'alice@example.com', 'phone': '123-456-7890'}}, {'id': 2, 'name': 'Bob', 'contact': {'email': 'bob@example.com', 'phone': '987-654-3210'}}], 'department': {'name': 'Engineering', 'floor': 5, 'manager': {'name': 'Eve', 'id': 101}}, 'location': 'New York', 'open_positions': 3, 'is_hiring': True}\n",
      " key='is_hiring'\n",
      " value=True\n",
      "**********\n"
     ]
    }
   ],
   "execution_count": 149
  },
  {
   "metadata": {
    "ExecuteTime": {
     "end_time": "2025-07-07T21:55:38.778127Z",
     "start_time": "2025-07-07T21:55:38.770304Z"
    }
   },
   "cell_type": "code",
   "source": [
    "# Proof that I have overwritten the original method\n",
    "bene_department.traverse.apply_callback"
   ],
   "id": "33189a21fe320b92",
   "outputs": [
    {
     "data": {
      "text/plain": [
       "<function __main__.traverse.<locals>.apply_callback(value, key, dict_)>"
      ]
     },
     "execution_count": 150,
     "metadata": {},
     "output_type": "execute_result"
    }
   ],
   "execution_count": 150
  },
  {
   "metadata": {
    "ExecuteTime": {
     "end_time": "2025-07-07T21:27:34.583273Z",
     "start_time": "2025-07-07T21:27:34.575198Z"
    }
   },
   "cell_type": "code",
   "source": [
    "def flatten(data: dict, storage: dict | None = None, sep=\"_\") -> dict:\n",
    "    if storage is None:\n",
    "        storage = {}\n",
    "\n",
    "    @singledispatch\n",
    "    def execute(value, key, **kwargs):\n",
    "        storage[key] = value\n",
    "\n",
    "    @execute.register\n",
    "    def _(value: Mapping, key, sep=sep, order=None):\n",
    "        for nested_key, nested_value in value.items():\n",
    "            if key:\n",
    "                new_key = f\"{key}{sep}{nested_key}\"\n",
    "            else:\n",
    "                new_key = nested_key\n",
    "\n",
    "            if order:\n",
    "                new_key = f\"{new_key}{sep}{order}\"\n",
    "\n",
    "            execute(nested_value, new_key)\n",
    "\n",
    "    # Cannot use Iterable because str and bytes are iterables too...\n",
    "    @execute.register(list)\n",
    "    @execute.register(tuple)\n",
    "    @execute.register(set)\n",
    "    @execute.register(frozenset)\n",
    "    def _(value, key, sep=sep, **kwargs):\n",
    "        for idx, item in enumerate(value, start=1):\n",
    "            execute(item, key, sep=sep, order=idx)\n",
    "\n",
    "    execute(data, \"\")\n",
    "    return storage"
   ],
   "id": "2c331b3d64bbfe8f",
   "outputs": [],
   "execution_count": 124
  },
  {
   "metadata": {
    "ExecuteTime": {
     "end_time": "2025-07-07T16:04:54.383640Z",
     "start_time": "2025-07-07T16:04:54.373305Z"
    }
   },
   "cell_type": "code",
   "source": [
    "dummy_dict = {\n",
    "    \"a\": 1,\n",
    "    \"b\": 2,\n",
    "    \"c\": {\"a2\": \"a\", \"b2\": \"b\", \"c2\": {\"a3\": \"aa\", \"b3\": \"bb\"}},\n",
    "    \"persons\": [{\"name\": \"bob\", \"age\": 22}, {\"name\": \"alice\", \"age\": 23}],\n",
    "}\n",
    "flatten(dummy_dict, sep=\"|\")"
   ],
   "id": "7824c80c89855002",
   "outputs": [
    {
     "data": {
      "text/plain": [
       "{'a': 1,\n",
       " 'b': 2,\n",
       " 'c|a2': 'a',\n",
       " 'c|b2': 'b',\n",
       " 'c|c2|a3': 'aa',\n",
       " 'c|c2|b3': 'bb',\n",
       " 'persons|name|1': 'bob',\n",
       " 'persons|age|1': 22,\n",
       " 'persons|name|2': 'alice',\n",
       " 'persons|age|2': 23}"
      ]
     },
     "execution_count": 122,
     "metadata": {},
     "output_type": "execute_result"
    }
   ],
   "execution_count": 122
  },
  {
   "metadata": {},
   "cell_type": "markdown",
   "source": [
    "### Strengths of this Implementation\n",
    "1. **Uses singledispatch elegantly**\n",
    "\n",
    "This allows recursion to behave differently depending on the type — and keeps the logic organized and extensible.\n",
    "\n",
    "2. **Avoids the Iterable trap**\n",
    "\n",
    " Avoid Iterable because it would also match str, bytes, and dict, which can cause incorrect recursion or infinite loops.\n",
    "\n",
    "Handles sets, tuples, and lists equally\n",
    "\n",
    "Registering list, tuple, set, and frozenset ensures consistency across common container types.\n",
    "\n",
    "3. **Recursion is explicitly controlled by type**\n",
    "\n",
    "This makes the call stack easier to debug and avoids over-generalization.\n",
    "\n",
    "4. **Supports custom separators and ordering (index-based)**\n",
    "\n",
    "Useful for nested lists and maintaining key uniqueness."
   ],
   "id": "34d6c2016cebcea2"
  }
 ],
 "metadata": {
  "kernelspec": {
   "display_name": "Python 3",
   "language": "python",
   "name": "python3"
  },
  "language_info": {
   "codemirror_mode": {
    "name": "ipython",
    "version": 2
   },
   "file_extension": ".py",
   "mimetype": "text/x-python",
   "name": "python",
   "nbconvert_exporter": "python",
   "pygments_lexer": "ipython2",
   "version": "2.7.6"
  }
 },
 "nbformat": 4,
 "nbformat_minor": 5
}
