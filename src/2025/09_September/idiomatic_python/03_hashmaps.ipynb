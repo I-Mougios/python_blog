{
 "cells": [
  {
   "metadata": {},
   "cell_type": "markdown",
   "source": "### 1. Sets Operations",
   "id": "9e4dc609cd5d8d06"
  },
  {
   "metadata": {
    "ExecuteTime": {
     "end_time": "2025-09-18T11:24:47.144282Z",
     "start_time": "2025-09-18T11:24:47.139182Z"
    }
   },
   "cell_type": "code",
   "source": [
    "s1 = {1, 2, 3}\n",
    "s2 = {1, 2, 3}\n",
    "s3 = {3, 4, 5}\n",
    "s4 = {3, 5, 6, 7}\n",
    "print(f\"{id(s1)=}-{id(s2)=}-{id(s3)=}-{id(s4)=}\")"
   ],
   "id": "21c25669255d04ed",
   "outputs": [
    {
     "name": "stdout",
     "output_type": "stream",
     "text": [
      "id(s1)=2550485043456-id(s2)=2550485046816-id(s3)=2550478754016-id(s4)=2550478756256\n"
     ]
    }
   ],
   "execution_count": 6
  },
  {
   "metadata": {
    "ExecuteTime": {
     "end_time": "2025-09-18T11:28:30.928976Z",
     "start_time": "2025-09-18T11:28:30.922351Z"
    }
   },
   "cell_type": "code",
   "source": [
    "# union\n",
    "s1 | s3 == s1.union(s3) == {1, 2, 3, 4, 5}\n",
    "\n",
    "print(f\"{id(s1 | s3)=}-{id(s1.union(s3))=}\")"
   ],
   "id": "ff3072d620c422d7",
   "outputs": [
    {
     "name": "stdout",
     "output_type": "stream",
     "text": [
      "id(s1 | s3)=2550485046592-id(s1.union(s3))=2550485046592\n"
     ]
    }
   ],
   "execution_count": 9
  },
  {
   "metadata": {
    "ExecuteTime": {
     "end_time": "2025-09-18T11:30:06.428865Z",
     "start_time": "2025-09-18T11:30:06.423194Z"
    }
   },
   "cell_type": "code",
   "source": [
    "# In place union\n",
    "s1.update(s3)\n",
    "print(f\"{id(s1)=}\")\n",
    "print(s1)\n",
    "s1 = {1, 2, 3}"
   ],
   "id": "3b508c5d79154abc",
   "outputs": [
    {
     "name": "stdout",
     "output_type": "stream",
     "text": [
      "id(s1)=2550485043456\n",
      "{1, 2, 3, 4, 5}\n"
     ]
    }
   ],
   "execution_count": 13
  },
  {
   "metadata": {},
   "cell_type": "markdown",
   "source": [
    "Other in-place operations:\n",
    "\n",
    " - difference_update\n",
    " - intersection_update\n",
    " - symmetric_difference_update\n",
    "\n",
    "All of the operations end with update mofify the first operand."
   ],
   "id": "4b7a459b2291e796"
  },
  {
   "metadata": {
    "ExecuteTime": {
     "end_time": "2025-09-18T11:30:56.045571Z",
     "start_time": "2025-09-18T11:30:56.040029Z"
    }
   },
   "cell_type": "code",
   "source": [
    "# all the members of s1 is in s2\n",
    "s1.issubset(s2)"
   ],
   "id": "8886bfdd5f57541f",
   "outputs": [
    {
     "data": {
      "text/plain": [
       "True"
      ]
     },
     "execution_count": 14,
     "metadata": {},
     "output_type": "execute_result"
    }
   ],
   "execution_count": 14
  },
  {
   "metadata": {
    "ExecuteTime": {
     "end_time": "2025-09-18T11:32:24.386076Z",
     "start_time": "2025-09-18T11:32:24.379862Z"
    }
   },
   "cell_type": "code",
   "source": [
    "# it returns false because all members of s2 are in s1\n",
    "s1 < s2"
   ],
   "id": "d0c3e42ae467d9aa",
   "outputs": [
    {
     "data": {
      "text/plain": [
       "False"
      ]
     },
     "execution_count": 16,
     "metadata": {},
     "output_type": "execute_result"
    }
   ],
   "execution_count": 16
  },
  {
   "metadata": {
    "ExecuteTime": {
     "end_time": "2025-09-18T11:32:57.325147Z",
     "start_time": "2025-09-18T11:32:57.319285Z"
    }
   },
   "cell_type": "code",
   "source": [
    "# the same with issubset method\n",
    "s1 <= s2"
   ],
   "id": "507deee2de8edd6d",
   "outputs": [
    {
     "data": {
      "text/plain": [
       "True"
      ]
     },
     "execution_count": 18,
     "metadata": {},
     "output_type": "execute_result"
    }
   ],
   "execution_count": 18
  },
  {
   "metadata": {
    "ExecuteTime": {
     "end_time": "2025-09-18T11:34:24.635272Z",
     "start_time": "2025-09-18T11:34:24.629911Z"
    }
   },
   "cell_type": "code",
   "source": [
    "assert s1.issuperset(s2)\n",
    "assert s2.issuperset(s1)\n",
    "assert not s1 > s2\n",
    "assert not s2 > s1\n",
    "assert s1 >= s2"
   ],
   "id": "c044366d89bec032",
   "outputs": [],
   "execution_count": 21
  },
  {
   "metadata": {
    "ExecuteTime": {
     "end_time": "2025-09-18T11:44:34.662758Z",
     "start_time": "2025-09-18T11:44:34.656805Z"
    }
   },
   "cell_type": "code",
   "source": [
    "print(f\"{s4=}\")\n",
    "print(f\"{s3=}\")\n",
    "print(f\"{s1=}\")"
   ],
   "id": "1f999c5c968d0321",
   "outputs": [
    {
     "name": "stdout",
     "output_type": "stream",
     "text": [
      "s4={3, 5, 6, 7}\n",
      "s3={3, 4, 5}\n",
      "s1={1, 2, 3}\n"
     ]
    }
   ],
   "execution_count": 30
  },
  {
   "metadata": {
    "ExecuteTime": {
     "end_time": "2025-09-18T11:37:38.812312Z",
     "start_time": "2025-09-18T11:37:38.805850Z"
    }
   },
   "cell_type": "code",
   "source": [
    "assert s4 - s1 == s1.difference(s4)\n",
    "s4.difference(s1)"
   ],
   "id": "fda1de45559398ac",
   "outputs": [
    {
     "data": {
      "text/plain": [
       "{5, 6, 7}"
      ]
     },
     "execution_count": 23,
     "metadata": {},
     "output_type": "execute_result"
    }
   ],
   "execution_count": 23
  },
  {
   "metadata": {
    "ExecuteTime": {
     "end_time": "2025-09-18T11:39:08.369869Z",
     "start_time": "2025-09-18T11:39:08.363860Z"
    }
   },
   "cell_type": "code",
   "source": [
    "assert s4 - s3 == s4.difference(s3)\n",
    "s4.difference(s3)"
   ],
   "id": "2527de865eaca19d",
   "outputs": [
    {
     "data": {
      "text/plain": [
       "{6, 7}"
      ]
     },
     "execution_count": 26,
     "metadata": {},
     "output_type": "execute_result"
    }
   ],
   "execution_count": 26
  },
  {
   "metadata": {
    "ExecuteTime": {
     "end_time": "2025-09-18T11:43:50.055431Z",
     "start_time": "2025-09-18T11:43:50.048800Z"
    }
   },
   "cell_type": "code",
   "source": "s3.symmetric_difference(s4)",
   "id": "24cd44c07cb3999c",
   "outputs": [
    {
     "data": {
      "text/plain": [
       "{4, 6, 7}"
      ]
     },
     "execution_count": 28,
     "metadata": {},
     "output_type": "execute_result"
    }
   ],
   "execution_count": 28
  }
 ],
 "metadata": {
  "kernelspec": {
   "display_name": "Python 3",
   "language": "python",
   "name": "python3"
  },
  "language_info": {
   "codemirror_mode": {
    "name": "ipython",
    "version": 2
   },
   "file_extension": ".py",
   "mimetype": "text/x-python",
   "name": "python",
   "nbconvert_exporter": "python",
   "pygments_lexer": "ipython2",
   "version": "2.7.6"
  }
 },
 "nbformat": 4,
 "nbformat_minor": 5
}
