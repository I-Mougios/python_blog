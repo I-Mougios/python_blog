{
 "cells": [
  {
   "cell_type": "code",
   "id": "initial_id",
   "metadata": {
    "collapsed": true,
    "ExecuteTime": {
     "end_time": "2025-09-15T18:28:30.241531Z",
     "start_time": "2025-09-15T18:28:30.237983Z"
    }
   },
   "source": [
    "from itertools import (combinations,\n",
    "                       permutations,\n",
    "                       islice,\n",
    "                       tee,\n",
    "                       groupby,\n",
    "                       product)"
   ],
   "outputs": [],
   "execution_count": 2
  },
  {
   "metadata": {},
   "cell_type": "markdown",
   "source": "Task 1: Given a list of numbers, generate all possible triplets (a, b, c) such that a < b < c and return them as a list of tuples.",
   "id": "a90113e95dd59ba4"
  },
  {
   "metadata": {
    "ExecuteTime": {
     "end_time": "2025-09-15T18:28:30.262974Z",
     "start_time": "2025-09-15T18:28:30.257953Z"
    }
   },
   "cell_type": "code",
   "source": [
    "nums = [1, 2, 4, 7, 6, 3]\n",
    "sorted_nums = sorted(nums)\n",
    "list(combinations(sorted_nums, 3))"
   ],
   "id": "284c8b75a0767973",
   "outputs": [
    {
     "data": {
      "text/plain": [
       "[(1, 2, 3),\n",
       " (1, 2, 4),\n",
       " (1, 2, 6),\n",
       " (1, 2, 7),\n",
       " (1, 3, 4),\n",
       " (1, 3, 6),\n",
       " (1, 3, 7),\n",
       " (1, 4, 6),\n",
       " (1, 4, 7),\n",
       " (1, 6, 7),\n",
       " (2, 3, 4),\n",
       " (2, 3, 6),\n",
       " (2, 3, 7),\n",
       " (2, 4, 6),\n",
       " (2, 4, 7),\n",
       " (2, 6, 7),\n",
       " (3, 4, 6),\n",
       " (3, 4, 7),\n",
       " (3, 6, 7),\n",
       " (4, 6, 7)]"
      ]
     },
     "execution_count": 3,
     "metadata": {},
     "output_type": "execute_result"
    }
   ],
   "execution_count": 3
  },
  {
   "metadata": {},
   "cell_type": "markdown",
   "source": "Task: Write a function that returns all contiguous sublists of length k.",
   "id": "cbd2cf599017170a"
  },
  {
   "metadata": {
    "ExecuteTime": {
     "end_time": "2025-09-15T18:28:30.283046Z",
     "start_time": "2025-09-15T18:28:30.279311Z"
    }
   },
   "cell_type": "code",
   "source": [
    "def contiguous_sublist(elements: list, k: int) -> list:\n",
    "    return [list(islice(elements, i, i+k)) for i in range(len(elements)- k + 1)]\n",
    "\n",
    "contiguous_sublist(list(range(1, 4, 2)), k=2)\n",
    "contiguous_sublist(list(range(1, 10, 2)), k=2)"
   ],
   "id": "fae30cb2e2ba33e2",
   "outputs": [
    {
     "data": {
      "text/plain": [
       "[[1, 3], [3, 5], [5, 7], [7, 9]]"
      ]
     },
     "execution_count": 4,
     "metadata": {},
     "output_type": "execute_result"
    }
   ],
   "execution_count": 4
  },
  {
   "metadata": {
    "ExecuteTime": {
     "end_time": "2025-09-15T18:28:30.309797Z",
     "start_time": "2025-09-15T18:28:30.305737Z"
    }
   },
   "cell_type": "code",
   "source": [
    "# No need the length of the elements\n",
    "def contiguous_sublist(elements: list, k: int) -> list:\n",
    "    iters = tee(elements, k)\n",
    "    for i, iter_ in enumerate(iters):\n",
    "        for _ in range(i):\n",
    "            next(iter_, None)\n",
    "    return list(zip(*iters))\n",
    "\n",
    "contiguous_sublist(list(range(1, 4, 2)), k=2)\n",
    "contiguous_sublist(list(range(1, 10, 2)), k=2)"
   ],
   "id": "74d2d52892fa1311",
   "outputs": [
    {
     "data": {
      "text/plain": [
       "[(1, 3), (3, 5), (5, 7), (7, 9)]"
      ]
     },
     "execution_count": 5,
     "metadata": {},
     "output_type": "execute_result"
    }
   ],
   "execution_count": 5
  },
  {
   "metadata": {},
   "cell_type": "markdown",
   "source": "Task: write a function that groups consecutive equal elements from a list into sublists.",
   "id": "76cb0a95ed8cbb4"
  },
  {
   "metadata": {
    "ExecuteTime": {
     "end_time": "2025-09-15T18:28:30.327176Z",
     "start_time": "2025-09-15T18:28:30.322907Z"
    }
   },
   "cell_type": "code",
   "source": [
    "l = [1, 1, 2, 3, 3, 3, 4, 2]\n",
    "\n",
    "def group_consecutive(elements: list) -> list:\n",
    "    return [list(group) for _, group in groupby(elements, key=lambda x: x)]\n",
    "\n",
    "group_consecutive(l)"
   ],
   "id": "6888afd1c987e88b",
   "outputs": [
    {
     "data": {
      "text/plain": [
       "[[1, 1], [2], [3, 3, 3], [4], [2]]"
      ]
     },
     "execution_count": 6,
     "metadata": {},
     "output_type": "execute_result"
    }
   ],
   "execution_count": 6
  },
  {
   "metadata": {},
   "cell_type": "markdown",
   "source": [
    "Task 4: Given a list of integers, return all unique triplets (a, b, c) such that:\n",
    "\n",
    "a + b + c == target\n",
    "\n",
    "a, b, c come from different indices in the list\n",
    "\n",
    "Each triplet should be returned in sorted order (e.g., (1, 2, 3) not (3, 1, 2))\n",
    "You must generate all possible triplets using combinatorics (not nested loops manually)."
   ],
   "id": "c2ec890f7c908df7"
  },
  {
   "metadata": {
    "ExecuteTime": {
     "end_time": "2025-09-15T18:28:30.363122Z",
     "start_time": "2025-09-15T18:28:30.359473Z"
    }
   },
   "cell_type": "code",
   "source": [
    "def magic_sum_of_elements(elements: list, k, target) -> list:\n",
    "    k_plets = combinations(elements, k)\n",
    "    result = []\n",
    "    for k_plet in k_plets:\n",
    "        k_plet_list = list(k_plet)\n",
    "        if sum(k_plet_list) == target:\n",
    "            result.append(k_plet_list)\n",
    "\n",
    "    return result\n",
    "\n",
    "magic_sum_of_elements([1, 2, 3, 4, 5], k=3, target=9)\n"
   ],
   "id": "1d0296fcfbfb4d8f",
   "outputs": [
    {
     "data": {
      "text/plain": [
       "[[1, 3, 5], [2, 3, 4]]"
      ]
     },
     "execution_count": 7,
     "metadata": {},
     "output_type": "execute_result"
    }
   ],
   "execution_count": 7
  },
  {
   "metadata": {},
   "cell_type": "markdown",
   "source": "Task: Generate all possible paths from the top-left corner to the bottom-right corner, moving only right or down at each step.",
   "id": "e36eda44c36a4d7d"
  },
  {
   "metadata": {
    "ExecuteTime": {
     "end_time": "2025-09-15T18:28:30.392819Z",
     "start_time": "2025-09-15T18:28:30.387781Z"
    }
   },
   "cell_type": "code",
   "source": [
    "grid = [\n",
    "    [1, 2, 3],\n",
    "    [4, 5, 6],\n",
    "    [7, 8, 9],\n",
    "]\n",
    "\n",
    "def all_paths(matrix) -> list:\n",
    "    n_rows, n_cols = len(matrix), len(matrix[0])\n",
    "    list_of_moves = tuple((\"R\" for _ in range(n_cols - 1))) + tuple((\"D\" for _ in range(n_rows - 1)))\n",
    "    possible_moves = set(permutations(list_of_moves, r=len(list_of_moves)))\n",
    "    results = []\n",
    "\n",
    "    for unique_path in possible_moves:\n",
    "        i, j = 0, 0\n",
    "        path = [matrix[0][0]]\n",
    "        for move in unique_path:\n",
    "            if move == \"R\":\n",
    "                j += 1\n",
    "            else:\n",
    "                i += 1\n",
    "            path.append(matrix[i][j])\n",
    "        results.append(path)\n",
    "\n",
    "    return results\n",
    "\n",
    "all_paths(grid)"
   ],
   "id": "d5dad658b4153d1c",
   "outputs": [
    {
     "data": {
      "text/plain": [
       "[[1, 4, 5, 6, 9],\n",
       " [1, 2, 3, 6, 9],\n",
       " [1, 4, 5, 8, 9],\n",
       " [1, 2, 5, 8, 9],\n",
       " [1, 4, 7, 8, 9],\n",
       " [1, 2, 5, 6, 9]]"
      ]
     },
     "execution_count": 8,
     "metadata": {},
     "output_type": "execute_result"
    }
   ],
   "execution_count": 8
  },
  {
   "metadata": {},
   "cell_type": "markdown",
   "source": "Task: Given lists of integers. Generate all possible tuples containing one element from each list, but only keep the tuples whose sum is even.",
   "id": "ce3b0bb31fe271d4"
  },
  {
   "metadata": {
    "ExecuteTime": {
     "end_time": "2025-09-15T18:28:30.409822Z",
     "start_time": "2025-09-15T18:28:30.404784Z"
    }
   },
   "cell_type": "code",
   "source": [
    "from functools import reduce\n",
    "lists = [\n",
    "    [1, 2],\n",
    "    [3, 4],\n",
    "    [5, 6]\n",
    "]\n",
    "\n",
    "def cartesian_product_is_even(matrix: list[list]) -> list[tuple]:\n",
    "    results= []\n",
    "    for prod in product(*matrix):\n",
    "        if reduce(lambda x, y: x*y, prod) % 2 == 0:\n",
    "            results.append(prod)\n",
    "    return results\n",
    "\n",
    "cartesian_product_is_even(lists)"
   ],
   "id": "97303be158e17be1",
   "outputs": [
    {
     "data": {
      "text/plain": [
       "[(1, 3, 6), (1, 4, 5), (1, 4, 6), (2, 3, 5), (2, 3, 6), (2, 4, 5), (2, 4, 6)]"
      ]
     },
     "execution_count": 9,
     "metadata": {},
     "output_type": "execute_result"
    }
   ],
   "execution_count": 9
  },
  {
   "metadata": {},
   "cell_type": "markdown",
   "source": "Task: Given a list of integers and a target value, find all unique pairs (a, b) from the list whose sum equals the target. Each pair should be sorted in ascending order, and the output list should not contain duplicates.",
   "id": "448dd84d58e5c817"
  },
  {
   "metadata": {
    "ExecuteTime": {
     "end_time": "2025-09-15T18:28:30.427950Z",
     "start_time": "2025-09-15T18:28:30.424315Z"
    }
   },
   "cell_type": "code",
   "source": [
    "def pairwise_sum_match_target(nums: list, target: int) -> list:\n",
    "    possible_pairs = combinations(sorted(nums), 2)\n",
    "    return list({pair for pair in possible_pairs if sum(pair) == target})\n",
    "\n",
    "nums = [1, 2, 3, 4, 2, 5]\n",
    "target = 5\n",
    "\n",
    "pairwise_sum_match_target(nums, target)"
   ],
   "id": "7b351da66cba9177",
   "outputs": [
    {
     "data": {
      "text/plain": [
       "[(2, 3), (1, 4)]"
      ]
     },
     "execution_count": 10,
     "metadata": {},
     "output_type": "execute_result"
    }
   ],
   "execution_count": 10
  },
  {
   "metadata": {
    "ExecuteTime": {
     "end_time": "2025-09-15T18:28:30.447586Z",
     "start_time": "2025-09-15T18:28:30.446041Z"
    }
   },
   "cell_type": "code",
   "source": "",
   "id": "982ce9066deb497a",
   "outputs": [],
   "execution_count": null
  }
 ],
 "metadata": {
  "kernelspec": {
   "display_name": "Python 3",
   "language": "python",
   "name": "python3"
  },
  "language_info": {
   "codemirror_mode": {
    "name": "ipython",
    "version": 2
   },
   "file_extension": ".py",
   "mimetype": "text/x-python",
   "name": "python",
   "nbconvert_exporter": "python",
   "pygments_lexer": "ipython2",
   "version": "2.7.6"
  }
 },
 "nbformat": 4,
 "nbformat_minor": 5
}
