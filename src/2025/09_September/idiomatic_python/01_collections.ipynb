{
 "cells": [
  {
   "cell_type": "code",
   "id": "initial_id",
   "metadata": {
    "collapsed": true,
    "ExecuteTime": {
     "end_time": "2025-09-13T18:48:26.064859Z",
     "start_time": "2025-09-13T18:48:26.046671Z"
    }
   },
   "source": [
    "from collections import (Counter,\n",
    "                         defaultdict,\n",
    "                         deque,\n",
    "                         )"
   ],
   "outputs": [],
   "execution_count": 2
  },
  {
   "metadata": {},
   "cell_type": "markdown",
   "source": [
    "Task:\n",
    "Write a function top_k_frequent(nums: list[int], k: int) -> list[int] that returns the k most frequent numbers in nums.\n",
    "If two numbers have the same frequency, return the smaller number first."
   ],
   "id": "735bdcaf0fb7b631"
  },
  {
   "metadata": {
    "ExecuteTime": {
     "end_time": "2025-09-13T18:48:26.073588Z",
     "start_time": "2025-09-13T18:48:26.069907Z"
    }
   },
   "cell_type": "code",
   "source": [
    "def top_k_frequent(nums: list[float], k: int) -> list[tuple[float, int]]:\n",
    "    frequencies = list(Counter(nums).most_common())\n",
    "\n",
    "    # exploit the fact that sort algorithm in python is stable\n",
    "    # in case of tie it return the first occurrence\n",
    "    frequencies.sort(key=lambda t: t[0])\n",
    "    frequencies.sort(key=lambda t: t[1], reverse=True)\n",
    "    top_k = frequencies[:k]\n",
    "    return [num for num, _ in top_k]\n",
    "\n",
    "assert top_k_frequent([1, 2, 3, 2, 2, 1], k=2) == [2, 1]\n",
    "assert top_k_frequent([1, 2, 3, 2, 2, 3, 3], k=1) == [2]\n",
    "assert top_k_frequent([1, 2, 3, 2, 2, 3, 3, 1, 1], k=2) == [1, 2]\n",
    "assert top_k_frequent([1., 2., 3., 2., 2, 3., 3., 1., 1], k=2) == [1, 2]"
   ],
   "id": "aa8d3f95c3c2541a",
   "outputs": [],
   "execution_count": 3
  },
  {
   "metadata": {},
   "cell_type": "markdown",
   "source": [
    "Task: Given a list of numbers, return the first element that appears exactly once.\n",
    "If no such element exists, return None."
   ],
   "id": "d070b8c39d6e1173"
  },
  {
   "metadata": {
    "ExecuteTime": {
     "end_time": "2025-09-13T18:48:26.080576Z",
     "start_time": "2025-09-13T18:48:26.078142Z"
    }
   },
   "cell_type": "code",
   "source": [
    "def first_unique(nums: list[int]) -> int | None:\n",
    "    unique_nums = filter(lambda d: d[1] == 1, Counter(nums).items())\n",
    "    try:\n",
    "        return next(unique_nums)[0]\n",
    "    except StopIteration:\n",
    "        return None\n",
    "\n",
    "assert first_unique([1, 2, 3, 2, 4]) == 1\n",
    "assert first_unique([1, 2, 3, 2, 4, 3, 1, 5]) == 4\n",
    "assert first_unique([1, 2, 3, 2, 3, 2, 1]) is None"
   ],
   "id": "bd4fdf8ab7c0923d",
   "outputs": [],
   "execution_count": 4
  },
  {
   "metadata": {},
   "cell_type": "markdown",
   "source": [
    "Task: Given a string, return the first character that appears exactly once, ignoring case.\n",
    "Return None if all characters are repeating."
   ],
   "id": "4e05727f4b68c12a"
  },
  {
   "metadata": {
    "ExecuteTime": {
     "end_time": "2025-09-13T18:48:26.087443Z",
     "start_time": "2025-09-13T18:48:26.084984Z"
    }
   },
   "cell_type": "code",
   "source": [
    "# Using default dict (retain the insertion order)\n",
    "def first_unique_char(string: str) -> str | None:\n",
    "    counter = defaultdict(int)\n",
    "    lowercased_string = string.casefold()\n",
    "    for char in lowercased_string:\n",
    "        counter[char] += 1\n",
    "\n",
    "    for orig_char, lower_char in zip(string, lowercased_string):\n",
    "        if counter[lower_char] == 1:\n",
    "            return orig_char\n",
    "\n",
    "    return None\n",
    "\n",
    "assert first_unique_char(\"Swiss\") == \"w\"\n",
    "assert first_unique_char(\"aAbBABac\") == \"c\"\n",
    "assert first_unique_char(\"xX\") == None\n",
    "assert first_unique_char(\"cabBd\") == \"c\""
   ],
   "id": "d3bff2dda655d30c",
   "outputs": [],
   "execution_count": 5
  },
  {
   "metadata": {
    "ExecuteTime": {
     "end_time": "2025-09-13T18:48:26.119019Z",
     "start_time": "2025-09-13T18:48:26.116250Z"
    }
   },
   "cell_type": "code",
   "source": [
    "# Return element in decreasing order and in case of tie retain the insertion order\n",
    "def first_unique_char(string: str) -> str | None:\n",
    "    lowercased_string = string.casefold()\n",
    "    counter = Counter(lowercased_string)\n",
    "    for orig_char, lower_char in zip(string, lowercased_string):\n",
    "        if counter[lower_char] == 1:\n",
    "            return orig_char\n",
    "\n",
    "    return None\n",
    "\n",
    "assert first_unique_char(\"Swiss\") == \"w\"\n",
    "assert first_unique_char(\"aAbBABac\") == \"c\"\n",
    "assert first_unique_char(\"xX\") == None\n",
    "assert first_unique_char(\"cabBd\") == \"c\""
   ],
   "id": "1c1bc1a5163d62d9",
   "outputs": [],
   "execution_count": 7
  },
  {
   "metadata": {},
   "cell_type": "markdown",
   "source": "Task: Given a list of integers nums and an integer k, return a list of the maximum values in every sliding window of size k.",
   "id": "d81fe78dce896926"
  },
  {
   "metadata": {
    "ExecuteTime": {
     "end_time": "2025-09-13T18:48:26.130482Z",
     "start_time": "2025-09-13T18:48:26.127120Z"
    }
   },
   "cell_type": "code",
   "source": [
    "# Simplest approach but there is a better solution in terms of performance.\n",
    "def sliding_window_max(nums: list[float| int], k: int) -> list[float| int]:\n",
    "    if len(nums) <= k:\n",
    "        return [max(nums)]\n",
    "\n",
    "    max_numbers_per_window = []\n",
    "    for i in range(len(nums) - k + 1):\n",
    "        max_numbers_per_window.append(max(nums[i:i + k]))\n",
    "\n",
    "    return max_numbers_per_window\n",
    "\n",
    "assert sliding_window_max([1,3,-1,-3,5,3,6,7], k=3) == [3,3,5,5,6,7], f\"{sliding_window_max([1,3,-1,-3,5,3,6,7], k=3)}\"\n",
    "assert sliding_window_max([1], k=1) == [1]\n",
    "assert sliding_window_max([9, 11], k=2) == [11]"
   ],
   "id": "265817f1f3bb546b",
   "outputs": [],
   "execution_count": 8
  },
  {
   "metadata": {
    "ExecuteTime": {
     "end_time": "2025-09-13T18:48:26.139513Z",
     "start_time": "2025-09-13T18:48:26.136291Z"
    }
   },
   "cell_type": "code",
   "source": [
    "def sliding_window_max(nums: list[int], k: int) -> list[int]:\n",
    "    \"\"\"\n",
    "        1. Remove numbers not belonging to the window\n",
    "        2. If the current number is greater than the previous remove the previous number,\n",
    "        since is not a candidate for max anymore.\n",
    "    \"\"\"\n",
    "    if not nums or k <= 0:\n",
    "        return []\n",
    "\n",
    "    result = []\n",
    "    # stores indices of elements in decreasing order\n",
    "    dq = deque()\n",
    "    for i, num in enumerate(nums):\n",
    "        # 1. Remove indices that are out of this window\n",
    "        # (e.g. for k=2, when i=2 the minimum index in the deque must be 1)\n",
    "        while dq and dq[0] <= i - k:\n",
    "            dq.popleft()\n",
    "        # 2. Remove smaller numbers from the right (they are useless)\n",
    "        # if the previous number is lower than the current number then it is not a candidate\n",
    "        while dq and nums[dq[-1]] < num:\n",
    "            dq.pop()\n",
    "        # 3. Add current index\n",
    "        dq.append(i)  # <-- the last index in the deque point to the previous number of the nums\n",
    "\n",
    "        # 4. The leftmost element is the max of the window\n",
    "        if i >= k - 1:\n",
    "            result.append(nums[dq[0]])\n",
    "\n",
    "    return result\n",
    "\n",
    "assert sliding_window_max([1,3,-1,-3,5,3,6,7], k=3) == [3,3,5,5,6,7]\n",
    "assert sliding_window_max([1], k=1) == [1]\n",
    "assert sliding_window_max([9, 11], k=2) == [11]"
   ],
   "id": "5c925f0f4cd31535",
   "outputs": [],
   "execution_count": 9
  },
  {
   "metadata": {},
   "cell_type": "markdown",
   "source": [
    "Task: Given a list of numbers and an integer k, rotate the list to the right by k steps.\n",
    "Use a deque to do this efficiently."
   ],
   "id": "6edcd3bbc8cf424b"
  },
  {
   "metadata": {
    "ExecuteTime": {
     "end_time": "2025-09-13T18:52:06.905366Z",
     "start_time": "2025-09-13T18:52:06.899340Z"
    }
   },
   "cell_type": "code",
   "source": [
    "def rotate_array(nums: list, k: int) -> list:\n",
    "    if len(nums) == 0:\n",
    "        return []\n",
    "\n",
    "    dq = deque(nums, maxlen=len(nums))\n",
    "    for _ in range(k):\n",
    "        dq.appendleft(dq.pop())\n",
    "\n",
    "    return list(dq)\n",
    "\n",
    "assert rotate_array([1,2,3], k=2) == [2, 3, 1]\n",
    "assert rotate_array([1, 2, 3, 4], k=5) == [4, 1, 2, 3]\n",
    "assert rotate_array([], k=5) == []\n"
   ],
   "id": "549f7263c508dbab",
   "outputs": [],
   "execution_count": 13
  },
  {
   "metadata": {},
   "cell_type": "markdown",
   "source": [
    "Task: Given a list of numbers and a window size k, return a list of the median for each sliding window.\n",
    "Use a deque to maintain the current window efficiently.\n",
    "The median is:\n",
    " - The middle value if k is odd\n",
    " - The average of the two middle values if k is even"
   ],
   "id": "327d55e92b9f8003"
  },
  {
   "metadata": {
    "ExecuteTime": {
     "end_time": "2025-09-13T20:00:51.332710Z",
     "start_time": "2025-09-13T20:00:51.320774Z"
    }
   },
   "cell_type": "code",
   "source": [
    "# Simplest but I have to sort the window every time....\n",
    "def sliding_window_median(nums: list[int | float], k: int) -> list[int | float]:\n",
    "    def _calculate_median(sorted_nums: list[int | float]) -> float:\n",
    "        n = len(sorted_nums)\n",
    "        mid = n // 2\n",
    "        if n % 2:\n",
    "            return sorted_nums[mid]\n",
    "        return (sorted_nums[mid - 1] + sorted_nums[mid]) / 2\n",
    "\n",
    "    if k <= 0 or not nums:\n",
    "        return []\n",
    "\n",
    "    results = []\n",
    "    window = deque(nums[:k], maxlen=k)\n",
    "\n",
    "    for num in nums[k:]:\n",
    "        results.append(_calculate_median(sorted(window)))\n",
    "        window.append(num)\n",
    "\n",
    "    # last window's median\n",
    "    results.append(_calculate_median(sorted(window)))\n",
    "    return results\n",
    "\n",
    "\n",
    "assert sliding_window_median([1, 3, -1, -3, 5, 3, 6, 7], k=3) == [1, -1, -1, 3, 5, 6]\n",
    "assert sliding_window_median([1, 4, 2, 3], k=4) == [2.5]\n",
    "assert sliding_window_median([1], k=1) == [1]\n",
    "assert sliding_window_median([1, 2], k=1) == [1, 2]"
   ],
   "id": "151b05dc2cad7e21",
   "outputs": [],
   "execution_count": 42
  },
  {
   "metadata": {
    "ExecuteTime": {
     "end_time": "2025-09-13T20:11:16.213541Z",
     "start_time": "2025-09-13T20:11:16.203553Z"
    }
   },
   "cell_type": "code",
   "source": [
    "import bisect\n",
    "\n",
    "l = [1, 2, 2, 3, 3, 6]\n",
    "# return the leftmost position which maintain the list sorted\n",
    "print(bisect.bisect_left(l, 3))\n",
    "# return the rightmost position which maintain the list sorted\n",
    "print(bisect.bisect_right(l, 3))"
   ],
   "id": "5be164561861f2fb",
   "outputs": [
    {
     "name": "stdout",
     "output_type": "stream",
     "text": [
      "3\n",
      "5\n"
     ]
    }
   ],
   "execution_count": 48
  },
  {
   "metadata": {
    "ExecuteTime": {
     "end_time": "2025-09-13T20:36:22.423898Z",
     "start_time": "2025-09-13T20:36:22.416985Z"
    }
   },
   "cell_type": "code",
   "source": [
    "def sliding_window_median(nums: list[int | float], k: int) -> list:\n",
    "    def _calculate_median(sorted_nums: list[int | float]) -> float:\n",
    "        if k % 2 == 1:\n",
    "            mid = len(sorted_nums) // 2\n",
    "            return sorted_nums[mid]\n",
    "        else:\n",
    "            mid = len(sorted_nums) // 2\n",
    "            return (sorted_nums[mid - 1] + sorted_nums[mid]) / 2\n",
    "\n",
    "\n",
    "    if not nums or k <= 0:\n",
    "        return []\n",
    "\n",
    "    sorted_window = sorted(nums[:k])\n",
    "    dq = deque(nums[:k])\n",
    "    results = list()\n",
    "    results.append(_calculate_median(sorted_window))\n",
    "\n",
    "    for num in nums[k:]:\n",
    "        # add the new number\n",
    "        dq.append(num)\n",
    "        bisect.insort(sorted_window, num)\n",
    "        # remove the leftmost\n",
    "        removed = dq.popleft()\n",
    "        idx = bisect.bisect_left(sorted_window, removed)\n",
    "        sorted_window.pop(idx)\n",
    "\n",
    "        results.append(_calculate_median(sorted_window))\n",
    "\n",
    "    return results\n",
    "\n",
    "\n",
    "assert sliding_window_median([1, 3, -1, -3, 5, 3, 6, 7], k=3) == [1, -1, -1, 3, 5, 6]\n",
    "assert sliding_window_median([1, 4, 2, 3], k=4) == [2.5]\n",
    "assert sliding_window_median([1], k=1) == [1]\n",
    "assert sliding_window_median([1, 2], k=1) == [1, 2]"
   ],
   "id": "f1ce1cd6882c49e3",
   "outputs": [],
   "execution_count": 52
  },
  {
   "metadata": {
    "ExecuteTime": {
     "end_time": "2025-09-13T20:57:59.773690Z",
     "start_time": "2025-09-13T20:57:59.761348Z"
    }
   },
   "cell_type": "code",
   "source": [
    "# ! pip install sortedcontainers\n",
    "from sortedcontainers import SortedList\n",
    "\n",
    "def sliding_window_median(nums: list[int | float], k: int) -> list[float]:\n",
    "    def _calculate_median(sorted_nums: list[int | float]) -> float:\n",
    "        if k % 2 == 1:\n",
    "            mid = len(sorted_nums) // 2\n",
    "            return sorted_nums[mid]\n",
    "        else:\n",
    "            mid = len(sorted_nums) // 2\n",
    "            return (sorted_nums[mid - 1] + sorted_nums[mid]) / 2\n",
    "\n",
    "    if not nums or k <= 0:\n",
    "        return []\n",
    "\n",
    "    window = SortedList(nums[:k])\n",
    "    results = [_calculate_median(window)]\n",
    "\n",
    "    for i in range(k, len(nums)):\n",
    "        # slide window\n",
    "        window.remove(nums[i - k])\n",
    "        window.add(nums[i])\n",
    "        results.append(_calculate_median(window))\n",
    "\n",
    "    return results\n",
    "\n",
    "assert sliding_window_median([1, 3, -1, -3, 5, 3, 6, 7], k=3) == [1, -1, -1, 3, 5, 6]\n",
    "assert sliding_window_median([1, 4, 2, 3], k=4) == [2.5]\n",
    "assert sliding_window_median([1], k=1) == [1]\n",
    "assert sliding_window_median([1, 2], k=1) == [1, 2]"
   ],
   "id": "ea19ec896c93103d",
   "outputs": [],
   "execution_count": 69
  },
  {
   "metadata": {},
   "cell_type": "markdown",
   "source": [
    "Task: Implement a class RecentCounter that counts recent requests.\n",
    "Description:\n",
    "- The class has a method ping(t: int) -> int where t is a timestamp in milliseconds.\n",
    "- Each call to ping(t) adds a new request at time t.\n",
    "- The method should return the number of requests in the last 3000 milliseconds (inclusive of the current one).\n"
   ],
   "id": "96030938dc2fc1c6"
  },
  {
   "metadata": {
    "ExecuteTime": {
     "end_time": "2025-09-13T21:18:54.110695Z",
     "start_time": "2025-09-13T21:18:54.108363Z"
    }
   },
   "cell_type": "code",
   "source": [
    "class RecentCounter(deque):\n",
    "    def ping(self, timestamp):\n",
    "        while self and self[0] + 3000 <= timestamp:\n",
    "            self.popleft()\n",
    "\n",
    "        self.append(timestamp)\n",
    "        return len(self)\n",
    "\n",
    "\n",
    "rc = RecentCounter()\n",
    "assert rc.ping(1) == 1\n",
    "assert rc.ping(2) == 2\n",
    "assert rc.ping(3) == 3\n",
    "assert rc.ping(100) == 4\n",
    "assert rc.ping(3001) == 4\n",
    "assert rc.ping(3002) == 4\n",
    "assert rc.ping(3010) == 4"
   ],
   "id": "10fac1b2d93f9718",
   "outputs": [],
   "execution_count": 78
  },
  {
   "metadata": {},
   "cell_type": "markdown",
   "source": [
    "\n",
    "Task: Given a binary array nums (only 0s and 1s). You can flip at most one 0 to 1.\n",
    "Return the length of the longest contiguous subarray of 1s after at most one flip."
   ],
   "id": "5de2167d97b70afa"
  },
  {
   "metadata": {
    "ExecuteTime": {
     "end_time": "2025-09-13T21:45:39.189020Z",
     "start_time": "2025-09-13T21:45:39.184427Z"
    }
   },
   "cell_type": "code",
   "source": [
    "def longest_ones(nums: list[int]) -> int:\n",
    "    zeros_indices = deque()\n",
    "    left = 0\n",
    "    max_len = 0\n",
    "\n",
    "    for right, num in enumerate(nums):\n",
    "        if num == 0:\n",
    "            zeros_indices.append(right)\n",
    "\n",
    "        if len(zeros_indices) > 1:\n",
    "            left = zeros_indices.popleft() + 1\n",
    "\n",
    "        max_len = max(max_len, right - left + 1)\n",
    "\n",
    "    return max_len\n",
    "\n",
    "assert longest_ones([1, 1]) == 2\n",
    "assert longest_ones([1, 1, 0, 1]) == 4\n",
    "assert longest_ones([1, 1, 1, 0, 0, 1, 0, 1, 1, 1]) == 5\n"
   ],
   "id": "67188ac0f80390c7",
   "outputs": [],
   "execution_count": 88
  },
  {
   "metadata": {},
   "cell_type": "code",
   "outputs": [],
   "execution_count": null,
   "source": "",
   "id": "fd9cfeed2ed9e71d"
  }
 ],
 "metadata": {
  "kernelspec": {
   "display_name": "Python 3",
   "language": "python",
   "name": "python3"
  },
  "language_info": {
   "codemirror_mode": {
    "name": "ipython",
    "version": 2
   },
   "file_extension": ".py",
   "mimetype": "text/x-python",
   "name": "python",
   "nbconvert_exporter": "python",
   "pygments_lexer": "ipython2",
   "version": "2.7.6"
  }
 },
 "nbformat": 4,
 "nbformat_minor": 5
}
