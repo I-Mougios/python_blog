{
 "cells": [
  {
   "cell_type": "code",
   "id": "initial_id",
   "metadata": {
    "collapsed": true,
    "ExecuteTime": {
     "end_time": "2025-08-14T13:32:38.546605Z",
     "start_time": "2025-08-14T13:32:38.510036Z"
    }
   },
   "source": [
    "import time\n",
    "import logging\n",
    "from pathlib import Path\n",
    "from debug_logging_utils import configure_loggers"
   ],
   "outputs": [],
   "execution_count": 3
  },
  {
   "metadata": {
    "ExecuteTime": {
     "end_time": "2025-08-14T13:32:38.557729Z",
     "start_time": "2025-08-14T13:32:38.551989Z"
    }
   },
   "cell_type": "code",
   "source": [
    "logs_dir = Path(\"logs\")\n",
    "logs_dir.mkdir(parents=True, exist_ok=True)\n",
    "app_logger = logging.getLogger(\"app\")\n",
    "log_configs = configure_loggers(filename=\"logger_config.yaml\")"
   ],
   "id": "af9876296ef56fb5",
   "outputs": [],
   "execution_count": 4
  },
  {
   "metadata": {
    "ExecuteTime": {
     "end_time": "2025-08-14T13:32:38.583959Z",
     "start_time": "2025-08-14T13:32:38.572580Z"
    }
   },
   "cell_type": "code",
   "source": [
    "# Will be exluded both from console and file handler because LogRecord was never created by the app_logger\n",
    "app_logger.debug(\"will not be logged\")\n",
    "# The log record will be created but the console will excude it due to the CustomFilter\n",
    "app_logger.info(\"this is an info message\", extra={\"include\": False})\n",
    "# Will be logged from both handlers\n",
    "app_logger.warning(\"This is a warning message\")\n",
    "\n",
    "# Will be logged only in the file\n",
    "try:\n",
    "    raise ValueError(\"This is a test exception\")\n",
    "except ValueError:\n",
    "    app_logger.exception(\"An exception occurred\",\n",
    "                         stack_info=True,\n",
    "                         extra={\"include\": False})"
   ],
   "id": "593952cd9218cb1e",
   "outputs": [
    {
     "name": "stdout",
     "output_type": "stream",
     "text": [
      "app - WARNING - This is a warning message\n"
     ]
    }
   ],
   "execution_count": 5
  },
  {
   "metadata": {
    "ExecuteTime": {
     "end_time": "2025-08-14T13:32:49.063361Z",
     "start_time": "2025-08-14T13:32:38.606643Z"
    }
   },
   "cell_type": "code",
   "source": [
    "for _ in range(100):\n",
    "    app_logger.info(\"this is an info message\", extra={\"include\": False})\n",
    "    time.sleep(0.1)\n"
   ],
   "id": "b663c366ada70124",
   "outputs": [],
   "execution_count": 6
  },
  {
   "metadata": {
    "ExecuteTime": {
     "end_time": "2025-08-14T13:32:49.078053Z",
     "start_time": "2025-08-14T13:32:49.076837Z"
    }
   },
   "cell_type": "code",
   "source": "",
   "id": "49e20163d5437022",
   "outputs": [],
   "execution_count": null
  }
 ],
 "metadata": {
  "kernelspec": {
   "display_name": "Python 3",
   "language": "python",
   "name": "python3"
  },
  "language_info": {
   "codemirror_mode": {
    "name": "ipython",
    "version": 2
   },
   "file_extension": ".py",
   "mimetype": "text/x-python",
   "name": "python",
   "nbconvert_exporter": "python",
   "pygments_lexer": "ipython2",
   "version": "2.7.6"
  }
 },
 "nbformat": 4,
 "nbformat_minor": 5
}
