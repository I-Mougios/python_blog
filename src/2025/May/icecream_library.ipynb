{
 "cells": [
  {
   "cell_type": "code",
   "id": "initial_id",
   "metadata": {
    "collapsed": true,
    "ExecuteTime": {
     "end_time": "2025-05-12T19:31:47.088781Z",
     "start_time": "2025-05-12T19:31:46.548946Z"
    }
   },
   "source": "!pip install icecream",
   "outputs": [
    {
     "name": "stdout",
     "output_type": "stream",
     "text": [
      "Requirement already satisfied: icecream in /Users/giannis/MyDocuments/python_blog/.venv/lib/python3.13/site-packages (2.1.4)\r\n",
      "Requirement already satisfied: colorama>=0.3.9 in /Users/giannis/MyDocuments/python_blog/.venv/lib/python3.13/site-packages (from icecream) (0.4.6)\r\n",
      "Requirement already satisfied: pygments>=2.2.0 in /Users/giannis/MyDocuments/python_blog/.venv/lib/python3.13/site-packages (from icecream) (2.19.1)\r\n",
      "Requirement already satisfied: executing>=2.1.0 in /Users/giannis/MyDocuments/python_blog/.venv/lib/python3.13/site-packages (from icecream) (2.2.0)\r\n",
      "Requirement already satisfied: asttokens>=2.0.1 in /Users/giannis/MyDocuments/python_blog/.venv/lib/python3.13/site-packages (from icecream) (3.0.0)\r\n"
     ]
    }
   ],
   "execution_count": 1
  },
  {
   "metadata": {},
   "cell_type": "markdown",
   "source": [
    "# Key Advantages of IceCream Over Traditional `print()`\n",
    "\n",
    "The `icecream` library (`ic`) is a powerful alternative to `print()` for debugging and understanding code flow. Its standout features include:\n",
    "\n",
    "## 1. Less Typing\n",
    "- Automatically prints variable names and values\n",
    "  Example: `ic(x)` → `ic| x: 5`\n",
    "- No need to write manual format strings like `print(f\"x: {x}\")`\n",
    "\n",
    "## 2. Toggle On/Off with a Flag\n",
    "- Globally disable all output: `ic.disable()`\n",
    "- Enable when needed: `ic.enable()`\n",
    "- No more commenting out/deleting `print()` statements\n",
    "\n",
    "## 3. Customizable Output\n",
    "Modify output format with:\n",
    "```python\n",
    "# Add timestamps\n",
    "ic.configureOutput(prefix=lambda: f\"{datetime.now()} | \")\n",
    "\n",
    "# Include file/line context\n",
    "ic.configureOutput(prefix=lambda: f\"{os.path.basename(__file__)} | \")"
   ],
   "id": "fe92f104b7ddc5d8"
  },
  {
   "metadata": {
    "ExecuteTime": {
     "end_time": "2025-05-12T19:31:47.121227Z",
     "start_time": "2025-05-12T19:31:47.093765Z"
    }
   },
   "cell_type": "code",
   "source": "from icecream import ic",
   "id": "236191d1dcf806cc",
   "outputs": [],
   "execution_count": 2
  },
  {
   "metadata": {},
   "cell_type": "markdown",
   "source": "### Getting Started with IceCream (`ic`)\n",
   "id": "533f3f95dd77902c"
  },
  {
   "metadata": {
    "ExecuteTime": {
     "end_time": "2025-05-12T19:31:47.168227Z",
     "start_time": "2025-05-12T19:31:47.125703Z"
    }
   },
   "cell_type": "code",
   "source": [
    "a = 10\n",
    "b = [\"10\", 20, 30, \"a\", \"b\"]\n",
    "c = {\"a\": 10, \"b\": 20, \"c\": 30, \"d\": 40}\n",
    "ic(a)\n",
    "ic(b)\n",
    "ic(c)\n",
    "print()"
   ],
   "id": "4f7207bc2ecffe18",
   "outputs": [
    {
     "name": "stderr",
     "output_type": "stream",
     "text": [
      "ic| a: 10\n",
      "ic| b: ['10', 20, 30, 'a', 'b']\n",
      "ic| c: {'a': 10, 'b': 20, 'c': 30, 'd': 40}\n"
     ]
    },
    {
     "name": "stdout",
     "output_type": "stream",
     "text": [
      "\n"
     ]
    }
   ],
   "execution_count": 3
  },
  {
   "metadata": {},
   "cell_type": "markdown",
   "source": [
    "### IceCream's Return Value Behavior\n",
    "\n",
    "`ic()` has a useful feature: **it returns its input value(s)** while also printing them. This allows for seamless debugging without breaking existing code flow."
   ],
   "id": "e11cf28d34015f8"
  },
  {
   "metadata": {
    "ExecuteTime": {
     "end_time": "2025-05-12T19:31:47.207806Z",
     "start_time": "2025-05-12T19:31:47.184666Z"
    }
   },
   "cell_type": "code",
   "source": [
    "def add(a, b):\n",
    "    return a + b\n",
    "\n",
    "\n",
    "for i in range(3):\n",
    "    i = ic(i)\n",
    "    ic(add(i, i - 1))"
   ],
   "id": "c92f1abdbb8cf6eb",
   "outputs": [
    {
     "name": "stderr",
     "output_type": "stream",
     "text": [
      "ic| i: 0\n",
      "ic| add(i, i - 1): -1\n",
      "ic| i: 1\n",
      "ic| add(i, i - 1): 1\n",
      "ic| i: 2\n",
      "ic| add(i, i - 1): 3\n"
     ]
    }
   ],
   "execution_count": 4
  },
  {
   "metadata": {},
   "cell_type": "markdown",
   "source": [
    "### IceCream Behavior Without Variables\n",
    "\n",
    "When `ic()` is called without any arguments:\n",
    "\n",
    "- It prints the **filename**, **line number**, and **parent function** where it was called\n",
    "- In Jupyter notebooks, it shows the **cell line number** instead of the module line number\n",
    "- This is useful for tracing execution flow"
   ],
   "id": "88d9298a6fe39202"
  },
  {
   "metadata": {
    "ExecuteTime": {
     "end_time": "2025-05-12T19:31:47.299747Z",
     "start_time": "2025-05-12T19:31:47.222984Z"
    }
   },
   "cell_type": "code",
   "source": [
    "import random\n",
    "\n",
    "min_ = 100\n",
    "max_ = 200\n",
    "mean = (min_ + max_) / 2\n",
    "sample_size = 10\n",
    "below_or_at_mean = []\n",
    "above_mean = []\n",
    "\n",
    "random.seed(0)\n",
    "for i in range(sample_size):\n",
    "    num = random.randint(min_, max_)\n",
    "    ic(num)\n",
    "    if num <= mean:\n",
    "        ic()\n",
    "        below_or_at_mean.append(num)\n",
    "    else:\n",
    "        ic()\n",
    "        above_mean.append(num)"
   ],
   "id": "eb4e039d9b1d85a0",
   "outputs": [
    {
     "name": "stderr",
     "output_type": "stream",
     "text": [
      "ic| num: 149\n",
      "ic| 3303523034.py:15 in <module> at 22:31:47.230\n",
      "ic| num: 197\n",
      "ic| 3303523034.py:18 in <module> at 22:31:47.237\n",
      "ic| num: 153\n",
      "ic| 3303523034.py:18 in <module> at 22:31:47.244\n",
      "ic| num: 105\n",
      "ic| 3303523034.py:15 in <module> at 22:31:47.252\n",
      "ic| num: 133\n",
      "ic| 3303523034.py:15 in <module> at 22:31:47.258\n",
      "ic| num: 165\n",
      "ic| 3303523034.py:18 in <module> at 22:31:47.265\n",
      "ic| num: 162\n",
      "ic| 3303523034.py:18 in <module> at 22:31:47.273\n",
      "ic| num: 151\n",
      "ic| 3303523034.py:18 in <module> at 22:31:47.280\n",
      "ic| num: 200\n",
      "ic| 3303523034.py:18 in <module> at 22:31:47.287\n",
      "ic| num: 138\n",
      "ic| 3303523034.py:15 in <module> at 22:31:47.294\n"
     ]
    }
   ],
   "execution_count": 5
  },
  {
   "metadata": {},
   "cell_type": "markdown",
   "source": "### Customize the output",
   "id": "753822dbb3534687"
  },
  {
   "metadata": {
    "ExecuteTime": {
     "end_time": "2025-05-12T19:31:47.320525Z",
     "start_time": "2025-05-12T19:31:47.313231Z"
    }
   },
   "cell_type": "code",
   "source": [
    "# Option 1\n",
    "ic.configureOutput(\n",
    "    prefix=\"debug| \",\n",
    ")\n",
    "a = 100\n",
    "ic(a)"
   ],
   "id": "5fb050ad7e34dc02",
   "outputs": [
    {
     "name": "stderr",
     "output_type": "stream",
     "text": [
      "debug| a: 100\n"
     ]
    },
    {
     "data": {
      "text/plain": [
       "100"
      ]
     },
     "execution_count": 6,
     "metadata": {},
     "output_type": "execute_result"
    }
   ],
   "execution_count": 6
  },
  {
   "metadata": {
    "ExecuteTime": {
     "end_time": "2025-05-12T19:31:47.341276Z",
     "start_time": "2025-05-12T19:31:47.328010Z"
    }
   },
   "cell_type": "code",
   "source": [
    "from datetime import datetime\n",
    "import importlib\n",
    "\n",
    "now = lambda: datetime.now().strftime(\"%H:%M:%S\")\n",
    "ic.configureOutput(\n",
    "    prefix=f\"{now()} |\",\n",
    ")\n",
    "a = 100\n",
    "ic(a)\n",
    "\n",
    "module1 = importlib.import_module(\"package1.module1\")\n",
    "\n",
    "get_file = lambda module: module.__name__\n",
    "ic.configureOutput(\n",
    "    prefix=f\"{get_file(module1)} |\",\n",
    ")\n",
    "a = 100\n",
    "ic(a)"
   ],
   "id": "f35cb2c865873ca7",
   "outputs": [
    {
     "name": "stderr",
     "output_type": "stream",
     "text": [
      "22:31:47 |a: 100\n",
      "package1.module1 |a: 100\n"
     ]
    },
    {
     "data": {
      "text/plain": [
       "100"
      ]
     },
     "execution_count": 7,
     "metadata": {},
     "output_type": "execute_result"
    }
   ],
   "execution_count": 7
  },
  {
   "metadata": {},
   "cell_type": "markdown",
   "source": "### Global toggle",
   "id": "b120b8191b9e2ba"
  },
  {
   "metadata": {
    "ExecuteTime": {
     "end_time": "2025-05-12T19:31:47.364058Z",
     "start_time": "2025-05-12T19:31:47.354224Z"
    }
   },
   "cell_type": "code",
   "source": [
    "# 1. The simplest toggle\n",
    "DEBUG = True  # Set this to False in production\n",
    "\n",
    "\n",
    "# 2. Usage example\n",
    "def calculate(a, b):\n",
    "    ic(a, b)  # Only shows when DEBUG=True\n",
    "    return a * b\n",
    "\n",
    "\n",
    "ic.enable()\n",
    "# Toggle on\n",
    "calculate(3, 4)  # Shows: ic| a: 3, b: 4\n",
    "\n",
    "ic.disable()\n",
    "# Toggle off\n",
    "calculate(5, 6)  # No output\n",
    "print()"
   ],
   "id": "c3537b8ee427998b",
   "outputs": [
    {
     "name": "stderr",
     "output_type": "stream",
     "text": [
      "package1.module1 |a: 3, b: 4\n"
     ]
    },
    {
     "name": "stdout",
     "output_type": "stream",
     "text": [
      "\n"
     ]
    }
   ],
   "execution_count": 8
  },
  {
   "metadata": {},
   "cell_type": "markdown",
   "source": [
    "### Advanced\n",
    "\n",
    "# How IceCream Uses `__repr__` for Display\n",
    "\n",
    "Demonstrating that IceCream uses Python's `__repr__` under the hood for object display:\n"
   ],
   "id": "72c429f564b02330"
  },
  {
   "metadata": {},
   "cell_type": "markdown",
   "source": [
    "\n",
    "### Standard Behavior (Without Custom `__repr__`)"
   ],
   "id": "5c9ffb831357a78e"
  },
  {
   "metadata": {
    "ExecuteTime": {
     "end_time": "2025-05-12T19:31:47.373755Z",
     "start_time": "2025-05-12T19:31:47.371258Z"
    }
   },
   "cell_type": "code",
   "source": [
    "import json\n",
    "\n",
    "# json_data = json.dumps({\"a\": 1, \"b\": 2, \"c\": 3}, indent=4)\n",
    "\n",
    "json_data = \"\"\"\"{\n",
    "                  \"a\": 1,\n",
    "                  \"b\": 2,\n",
    "                  \"c\": 3\n",
    "                }\"\"\"\n",
    "ic(json_data)\n",
    "print()"
   ],
   "id": "77616d50283cc08c",
   "outputs": [
    {
     "name": "stdout",
     "output_type": "stream",
     "text": [
      "\n"
     ]
    }
   ],
   "execution_count": 9
  },
  {
   "metadata": {},
   "cell_type": "markdown",
   "source": "### Standard Behavior (Custom `__repr__`)",
   "id": "3233f6d7f01b64b1"
  },
  {
   "metadata": {},
   "cell_type": "markdown",
   "source": "#### Option 1:",
   "id": "810ab177b95e1cdc"
  },
  {
   "metadata": {
    "ExecuteTime": {
     "end_time": "2025-05-12T19:31:47.395426Z",
     "start_time": "2025-05-12T19:31:47.392481Z"
    }
   },
   "cell_type": "code",
   "source": [
    "from icecream import argumentToString\n",
    "\n",
    "# Your JSON data (fixed the triple quotes)\n",
    "json_data = \"\"\"{\n",
    "    \"a\": 1,\n",
    "    \"b\": 2,\n",
    "    \"c\": 3\n",
    "}\"\"\"\n",
    "\n",
    "\n",
    "class JSON(str):\n",
    "    pass\n",
    "\n",
    "\n",
    "# under the hood argumentToString is the returned function from functools.singledispatch\n",
    "# Register custom formatter for JSON class\n",
    "@argumentToString.register\n",
    "def _(data: JSON):\n",
    "    # Parse and pretty-print the JSON\n",
    "    parsed = json.loads(data)\n",
    "    return json.dumps(parsed, indent=2)\n",
    "\n",
    "\n",
    "# Test the output\n",
    "ic(JSON(json_data))\n",
    "print()"
   ],
   "id": "72c3697114a690f8",
   "outputs": [
    {
     "name": "stdout",
     "output_type": "stream",
     "text": [
      "\n"
     ]
    }
   ],
   "execution_count": 10
  },
  {
   "metadata": {},
   "cell_type": "markdown",
   "source": "### Option 2:",
   "id": "39be3d58db73fae2"
  },
  {
   "metadata": {
    "ExecuteTime": {
     "end_time": "2025-05-12T19:31:47.406555Z",
     "start_time": "2025-05-12T19:31:47.403910Z"
    }
   },
   "cell_type": "code",
   "source": [
    "# Your JSON data (fixed the triple quotes)\n",
    "json_data = \"\"\"{\n",
    "    \"a\": 1,\n",
    "    \"b\": 2,\n",
    "    \"c\": 3\n",
    "}\"\"\"\n",
    "\n",
    "\n",
    "class JSON(str):  # Inheritance only for __new__ method\n",
    "    \"\"\"Wrapper class for JSON strings\"\"\"\n",
    "\n",
    "    def __repr__(self):\n",
    "        # Parse and pretty-print the JSON\n",
    "        parsed = json.loads(self)\n",
    "        return json.dumps(parsed, indent=2)\n",
    "\n",
    "\n",
    "ic(JSON(json_data))\n",
    "print()"
   ],
   "id": "31fd72c3ac3ec5d4",
   "outputs": [
    {
     "name": "stdout",
     "output_type": "stream",
     "text": [
      "\n"
     ]
    }
   ],
   "execution_count": 11
  }
 ],
 "metadata": {
  "kernelspec": {
   "display_name": "Python 3",
   "language": "python",
   "name": "python3"
  },
  "language_info": {
   "codemirror_mode": {
    "name": "ipython",
    "version": 2
   },
   "file_extension": ".py",
   "mimetype": "text/x-python",
   "name": "python",
   "nbconvert_exporter": "python",
   "pygments_lexer": "ipython2",
   "version": "2.7.6"
  }
 },
 "nbformat": 4,
 "nbformat_minor": 5
}
