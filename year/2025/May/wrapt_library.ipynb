{
 "cells": [
  {
   "metadata": {},
   "cell_type": "markdown",
   "source": [
    "\n",
    "# Wrapt Library Deep Dive\n",
    "\n",
    "## Table of Contents\n",
    "1. [Standard Decorator Approach](#Standard-Decorator-Approach)\n",
    "2. [Decorator Factory Pattern](#Decorator-Factory-Standard-Approach)\n",
    "3. [Wrapt Optimizations](#Using-Wrapt)\n",
    "4. [Practical Use Cases](#Use-Case)\n",
    "5. [Complatible with all callables](#Compatibility)"
   ],
   "id": "27d6167d58644515"
  },
  {
   "metadata": {
    "ExecuteTime": {
     "end_time": "2025-06-22T17:28:09.720147Z",
     "start_time": "2025-06-22T17:28:05.383845Z"
    }
   },
   "cell_type": "code",
   "source": [
    "!pip install wrapt\n",
    "!pip install dateutils"
   ],
   "id": "2a6fe6cc891dba40",
   "outputs": [
    {
     "name": "stdout",
     "output_type": "stream",
     "text": [
      "Requirement already satisfied: wrapt in c:\\users\\imougios\\github\\python_blog\\.venv\\lib\\site-packages (1.17.2)\n",
      "Requirement already satisfied: dateutils in c:\\users\\imougios\\github\\python_blog\\.venv\\lib\\site-packages (0.6.12)\n",
      "Requirement already satisfied: python-dateutil in c:\\users\\imougios\\github\\python_blog\\.venv\\lib\\site-packages (from dateutils) (2.9.0.post0)\n",
      "Requirement already satisfied: pytz in c:\\users\\imougios\\github\\python_blog\\.venv\\lib\\site-packages (from dateutils) (2025.2)\n",
      "Requirement already satisfied: six>=1.5 in c:\\users\\imougios\\github\\python_blog\\.venv\\lib\\site-packages (from python-dateutil->dateutils) (1.17.0)\n"
     ]
    }
   ],
   "execution_count": 1
  },
  {
   "cell_type": "code",
   "id": "initial_id",
   "metadata": {
    "collapsed": true,
    "ExecuteTime": {
     "end_time": "2025-06-22T17:29:35.239272Z",
     "start_time": "2025-06-22T17:29:35.222889Z"
    }
   },
   "source": [
    "import logging\n",
    "import inspect  # Used for the introspection section\n",
    "from functools import wraps\n",
    "\n",
    "import wrapt\n",
    "from dateutil import parser"
   ],
   "outputs": [],
   "execution_count": 1
  },
  {
   "metadata": {
    "ExecuteTime": {
     "end_time": "2025-06-22T17:29:36.534647Z",
     "start_time": "2025-06-22T17:29:36.523844Z"
    }
   },
   "cell_type": "code",
   "source": [
    "logger = logging.getLogger()\n",
    "handler = logging.StreamHandler()\n",
    "formatter = logging.Formatter(fmt=\"{asctime} - {levelname} - {message}\", datefmt=\"%Y-%m-%d %H:%M:%S\", style=\"{\")\n",
    "# Add formatter to Stream Handler\n",
    "handler.setFormatter(formatter)\n",
    "# Add handler to the logger\n",
    "logger.addHandler(handler)\n",
    "logger.setLevel(logging.DEBUG)\n",
    "logger.debug(\"This is debug message\")"
   ],
   "id": "447401fb1d7fdaa6",
   "outputs": [
    {
     "name": "stderr",
     "output_type": "stream",
     "text": [
      "2025-06-22 20:29:36 - DEBUG - This is debug message\n"
     ]
    }
   ],
   "execution_count": 2
  },
  {
   "metadata": {},
   "cell_type": "markdown",
   "source": "### Standard Decorator Approach",
   "id": "d2adf4a52c799ba0"
  },
  {
   "metadata": {
    "ExecuteTime": {
     "end_time": "2025-06-22T17:29:40.081537Z",
     "start_time": "2025-06-22T17:29:40.070966Z"
    }
   },
   "cell_type": "code",
   "source": [
    "def log(fn):\n",
    "    @wraps(fn)\n",
    "    def wrapper(*args, **kwargs):\n",
    "        try:\n",
    "            result = fn(*args, **kwargs)\n",
    "            logger.info(f\"called {fn.__name__} with {args=}, {kwargs=}\")\n",
    "            return result\n",
    "        except Exception as ex:\n",
    "            logger.error(f\"called {fn.__name__} with {args=}, {kwargs=}, {ex=}\")\n",
    "            raise\n",
    "\n",
    "    return wrapper\n",
    "\n",
    "\n",
    "@log\n",
    "def add(a, b):\n",
    "    \"\"\"A fucntion that adds two numbers\"\"\"\n",
    "    return a + b\n",
    "\n",
    "\n",
    "add(1, 2)"
   ],
   "id": "366f88dc8e8c947f",
   "outputs": [
    {
     "name": "stderr",
     "output_type": "stream",
     "text": [
      "2025-06-22 20:29:40 - INFO - called add with args=(1, 2), kwargs={}\n"
     ]
    },
    {
     "data": {
      "text/plain": [
       "3"
      ]
     },
     "execution_count": 3,
     "metadata": {},
     "output_type": "execute_result"
    }
   ],
   "execution_count": 3
  },
  {
   "metadata": {
    "ExecuteTime": {
     "end_time": "2025-06-22T17:29:41.953568Z",
     "start_time": "2025-06-22T17:29:41.946458Z"
    }
   },
   "cell_type": "code",
   "source": [
    "try:\n",
    "    add(\"a\", 1)\n",
    "except Exception as ex:\n",
    "    print(\"Exception was raised:\", type(ex), str(ex))"
   ],
   "id": "f23eebb217525bcd",
   "outputs": [
    {
     "name": "stderr",
     "output_type": "stream",
     "text": [
      "2025-06-22 20:29:41 - ERROR - called add with args=('a', 1), kwargs={}, ex=TypeError('can only concatenate str (not \"int\") to str')\n"
     ]
    },
    {
     "name": "stdout",
     "output_type": "stream",
     "text": [
      "Exception was raised: <class 'TypeError'> can only concatenate str (not \"int\") to str\n"
     ]
    }
   ],
   "execution_count": 4
  },
  {
   "metadata": {},
   "cell_type": "markdown",
   "source": [
    "### Decorator Factory Standard Approach\n",
    "\n",
    "\n",
    "Let's create a decorator that can take a keyword only argument to silence or propagate the error if exists. Moreover we want to support the typical decorator syntax if no other argument passed when we apply the decorator."
   ],
   "id": "4190a0c718e099c1"
  },
  {
   "metadata": {
    "ExecuteTime": {
     "end_time": "2025-06-22T17:29:44.475551Z",
     "start_time": "2025-06-22T17:29:44.132735Z"
    }
   },
   "cell_type": "code",
   "source": [
    "def log(_func=None, *, propagate_exception=True):\n",
    "    def decorator(fn):\n",
    "        @wraps(fn)\n",
    "        def wrapper(*args, **kwargs):\n",
    "            try:\n",
    "                result = fn(*args, **kwargs)\n",
    "                logger.info(f\"called {fn.__name__} with {args=}, {kwargs=}\")\n",
    "                return result\n",
    "            except Exception as ex:\n",
    "                logger.error(f\"called {fn.__name__} with {args=}, {kwargs=}, {ex=}\")\n",
    "                if propagate_exception:\n",
    "                    raise\n",
    "\n",
    "        return wrapper\n",
    "\n",
    "    if callable(_func):\n",
    "        return decorator(_func)\n",
    "\n",
    "    return decorator\n",
    "\n",
    "\n",
    "# Without parentheses\n",
    "@log\n",
    "def add(a, b):\n",
    "    \"\"\"A fucntion that adds two numbers\"\"\"\n",
    "    return a + b\n",
    "\n",
    "\n",
    "add(1, 2)\n",
    "\n",
    "\n",
    "# With parentheses and parameter\n",
    "@log(propagate_exception=False)\n",
    "def add(a, b):\n",
    "    \"\"\"A fucntion that adds two numbers\"\"\"\n",
    "    return a + b\n",
    "\n",
    "\n",
    "add(1, \"a\")\n",
    "\n",
    "\n",
    "# With parentheses and parameter\n",
    "@log(propagate_exception=True)\n",
    "def add(a, b):\n",
    "    \"\"\"A fucntion that adds two numbers\"\"\"\n",
    "    return a + b\n",
    "\n",
    "\n",
    "try:\n",
    "    add(1, \"a\")\n",
    "except Exception as ex:\n",
    "    print(ex)\n",
    "\n",
    "\n",
    "# With default parameters (parentheses but no args)\n",
    "@log()\n",
    "def function3():\n",
    "    pass\n",
    "\n",
    "\n",
    "add(1, \"a\")"
   ],
   "id": "9f76ab3d054e7134",
   "outputs": [
    {
     "name": "stderr",
     "output_type": "stream",
     "text": [
      "2025-06-22 20:29:44 - INFO - called add with args=(1, 2), kwargs={}\n",
      "2025-06-22 20:29:44 - ERROR - called add with args=(1, 'a'), kwargs={}, ex=TypeError(\"unsupported operand type(s) for +: 'int' and 'str'\")\n",
      "2025-06-22 20:29:44 - ERROR - called add with args=(1, 'a'), kwargs={}, ex=TypeError(\"unsupported operand type(s) for +: 'int' and 'str'\")\n",
      "2025-06-22 20:29:44 - ERROR - called add with args=(1, 'a'), kwargs={}, ex=TypeError(\"unsupported operand type(s) for +: 'int' and 'str'\")\n"
     ]
    },
    {
     "name": "stdout",
     "output_type": "stream",
     "text": [
      "unsupported operand type(s) for +: 'int' and 'str'\n"
     ]
    },
    {
     "ename": "TypeError",
     "evalue": "unsupported operand type(s) for +: 'int' and 'str'",
     "output_type": "error",
     "traceback": [
      "\u001B[31m---------------------------------------------------------------------------\u001B[39m",
      "\u001B[31mTypeError\u001B[39m                                 Traceback (most recent call last)",
      "\u001B[36mCell\u001B[39m\u001B[36m \u001B[39m\u001B[32mIn[5]\u001B[39m\u001B[32m, line 61\u001B[39m\n\u001B[32m     56\u001B[39m \u001B[38;5;129m@log\u001B[39m()\n\u001B[32m     57\u001B[39m \u001B[38;5;28;01mdef\u001B[39;00m\u001B[38;5;250m \u001B[39m\u001B[34mfunction3\u001B[39m():\n\u001B[32m     58\u001B[39m     \u001B[38;5;28;01mpass\u001B[39;00m\n\u001B[32m---> \u001B[39m\u001B[32m61\u001B[39m \u001B[43madd\u001B[49m\u001B[43m(\u001B[49m\u001B[32;43m1\u001B[39;49m\u001B[43m,\u001B[49m\u001B[43m \u001B[49m\u001B[33;43m\"\u001B[39;49m\u001B[33;43ma\u001B[39;49m\u001B[33;43m\"\u001B[39;49m\u001B[43m)\u001B[49m\n",
      "\u001B[36mCell\u001B[39m\u001B[36m \u001B[39m\u001B[32mIn[5]\u001B[39m\u001B[32m, line 6\u001B[39m, in \u001B[36mlog.<locals>.decorator.<locals>.wrapper\u001B[39m\u001B[34m(*args, **kwargs)\u001B[39m\n\u001B[32m      3\u001B[39m \u001B[38;5;129m@wraps\u001B[39m(fn)\n\u001B[32m      4\u001B[39m \u001B[38;5;28;01mdef\u001B[39;00m\u001B[38;5;250m \u001B[39m\u001B[34mwrapper\u001B[39m(*args, **kwargs):\n\u001B[32m      5\u001B[39m     \u001B[38;5;28;01mtry\u001B[39;00m:\n\u001B[32m----> \u001B[39m\u001B[32m6\u001B[39m         result = \u001B[43mfn\u001B[49m\u001B[43m(\u001B[49m\u001B[43m*\u001B[49m\u001B[43margs\u001B[49m\u001B[43m,\u001B[49m\u001B[43m \u001B[49m\u001B[43m*\u001B[49m\u001B[43m*\u001B[49m\u001B[43mkwargs\u001B[49m\u001B[43m)\u001B[49m\n\u001B[32m      7\u001B[39m         logger.info(\u001B[33mf\u001B[39m\u001B[33m\"\u001B[39m\u001B[33mcalled \u001B[39m\u001B[38;5;132;01m{\u001B[39;00mfn.\u001B[34m__name__\u001B[39m\u001B[38;5;132;01m}\u001B[39;00m\u001B[33m with \u001B[39m\u001B[38;5;132;01m{\u001B[39;00margs\u001B[38;5;132;01m=}\u001B[39;00m\u001B[33m, \u001B[39m\u001B[38;5;132;01m{\u001B[39;00mkwargs\u001B[38;5;132;01m=}\u001B[39;00m\u001B[33m\"\u001B[39m)\n\u001B[32m      8\u001B[39m         \u001B[38;5;28;01mreturn\u001B[39;00m result\n",
      "\u001B[36mCell\u001B[39m\u001B[36m \u001B[39m\u001B[32mIn[5]\u001B[39m\u001B[32m, line 46\u001B[39m, in \u001B[36madd\u001B[39m\u001B[34m(a, b)\u001B[39m\n\u001B[32m     43\u001B[39m \u001B[38;5;129m@log\u001B[39m(propagate_exception=\u001B[38;5;28;01mTrue\u001B[39;00m)\n\u001B[32m     44\u001B[39m \u001B[38;5;28;01mdef\u001B[39;00m\u001B[38;5;250m \u001B[39m\u001B[34madd\u001B[39m(a, b):\n\u001B[32m     45\u001B[39m \u001B[38;5;250m    \u001B[39m\u001B[33;03m\"\"\"A fucntion that adds two numbers\"\"\"\u001B[39;00m\n\u001B[32m---> \u001B[39m\u001B[32m46\u001B[39m     \u001B[38;5;28;01mreturn\u001B[39;00m \u001B[43ma\u001B[49m\u001B[43m \u001B[49m\u001B[43m+\u001B[49m\u001B[43m \u001B[49m\u001B[43mb\u001B[49m\n",
      "\u001B[31mTypeError\u001B[39m: unsupported operand type(s) for +: 'int' and 'str'"
     ]
    }
   ],
   "execution_count": 5
  },
  {
   "metadata": {},
   "cell_type": "markdown",
   "source": [
    "### Using Wrapt\n",
    "\n",
    "wrapts.decorator essentially helps optimize decorator implementation by reducing closure nesting.\n",
    "\n",
    "Note :\n",
    "   -  A simple decorator has two nested functions"
   ],
   "id": "3870e246b9c619ba"
  },
  {
   "metadata": {
    "ExecuteTime": {
     "end_time": "2025-06-22T17:29:49.107096Z",
     "start_time": "2025-06-22T17:29:49.097213Z"
    }
   },
   "cell_type": "code",
   "source": [
    "# wrapt.decorator takes a decorator and return another decorator which has access to the wrapped function __name__, __module__, __doc__\n",
    "# it also has access to the argument and keyword argument to the wrapped function\n",
    "# Correctly forward those arguments on the call of the wrapped function\n",
    "\n",
    "\n",
    "@wrapt.decorator\n",
    "def log(wrapped, instance, args, kwargs):\n",
    "    try:\n",
    "        result = wrapped(*args, **kwargs)\n",
    "        logger.info(f\"called {wrapped.__name__} with {args=}, {kwargs=}\")\n",
    "        return result\n",
    "    except Exception as ex:\n",
    "        logger.error(f\"called {wrapped.__name__} with {args=}, {kwargs=}, {ex=}\")\n",
    "        raise\n",
    "\n",
    "\n",
    "@log\n",
    "def add(a, b):\n",
    "    \"\"\"A fucntion that adds two numbers\"\"\"\n",
    "    return a + b\n",
    "\n",
    "\n",
    "add(1, 2)"
   ],
   "id": "592166e99ebcea05",
   "outputs": [
    {
     "name": "stderr",
     "output_type": "stream",
     "text": [
      "2025-06-22 20:29:49 - INFO - called add with args=(1, 2), kwargs={}\n"
     ]
    },
    {
     "data": {
      "text/plain": [
       "3"
      ]
     },
     "execution_count": 6,
     "metadata": {},
     "output_type": "execute_result"
    }
   ],
   "execution_count": 6
  },
  {
   "metadata": {},
   "cell_type": "markdown",
   "source": "### Using Wrapt for a Decorator Factory",
   "id": "d62f05d2039629ae"
  },
  {
   "metadata": {
    "ExecuteTime": {
     "end_time": "2025-06-22T17:29:51.965551Z",
     "start_time": "2025-06-22T17:29:51.958902Z"
    }
   },
   "cell_type": "code",
   "source": [
    "def log(_func=None, *, propagate_exception=True):\n",
    "\n",
    "    @wrapt.decorator  # Decorator\n",
    "    def wrapper(wrapped, instance, args, kwargs):\n",
    "        try:\n",
    "            result = wrapped(*args, **kwargs)\n",
    "            logger.info(f\"called {wrapped.__name__} with {args=}, {kwargs=}\")\n",
    "            return result\n",
    "        except Exception as ex:\n",
    "            logger.error(f\"called {wrapped.__name__} with {args=}, {kwargs=}, {ex=}\")\n",
    "            if propagate_exception:\n",
    "                raise\n",
    "\n",
    "    if callable(_func):\n",
    "        return wrapper(_func)\n",
    "\n",
    "    return wrapper"
   ],
   "id": "88dc7c42957ee921",
   "outputs": [],
   "execution_count": 7
  },
  {
   "metadata": {
    "ExecuteTime": {
     "end_time": "2025-06-22T17:29:54.359310Z",
     "start_time": "2025-06-22T17:29:54.295727Z"
    }
   },
   "cell_type": "code",
   "source": [
    "# Without parentheses\n",
    "@log\n",
    "def add(a, b):\n",
    "    \"\"\"A fucntion that adds two numbers\"\"\"\n",
    "    return a + b\n",
    "\n",
    "\n",
    "add(1, 2)\n",
    "\n",
    "\n",
    "# With parentheses and parameter\n",
    "@log(propagate_exception=False)\n",
    "def add(a, b):\n",
    "    \"\"\"A fucntion that adds two numbers\"\"\"\n",
    "    return a + b\n",
    "\n",
    "\n",
    "add(1, \"a\")\n",
    "\n",
    "\n",
    "# With parentheses and parameter\n",
    "@log(propagate_exception=True)\n",
    "def add(a, b):\n",
    "    \"\"\"A fucntion that adds two numbers\"\"\"\n",
    "    return a + b\n",
    "\n",
    "\n",
    "try:\n",
    "    add(1, \"a\")\n",
    "except Exception as ex:\n",
    "    print(ex)\n",
    "\n",
    "\n",
    "# With parentheses and parameter\n",
    "@log()\n",
    "def add(a, b):\n",
    "    \"\"\"A fucntion that adds two numbers\"\"\"\n",
    "    return a + b\n",
    "\n",
    "\n",
    "add(1, \"a\")"
   ],
   "id": "c9c93cfb99783b5d",
   "outputs": [
    {
     "name": "stderr",
     "output_type": "stream",
     "text": [
      "2025-06-22 20:29:54 - INFO - called add with args=(1, 2), kwargs={}\n",
      "2025-06-22 20:29:54 - ERROR - called add with args=(1, 'a'), kwargs={}, ex=TypeError(\"unsupported operand type(s) for +: 'int' and 'str'\")\n",
      "2025-06-22 20:29:54 - ERROR - called add with args=(1, 'a'), kwargs={}, ex=TypeError(\"unsupported operand type(s) for +: 'int' and 'str'\")\n",
      "2025-06-22 20:29:54 - ERROR - called add with args=(1, 'a'), kwargs={}, ex=TypeError(\"unsupported operand type(s) for +: 'int' and 'str'\")\n"
     ]
    },
    {
     "name": "stdout",
     "output_type": "stream",
     "text": [
      "unsupported operand type(s) for +: 'int' and 'str'\n"
     ]
    },
    {
     "ename": "TypeError",
     "evalue": "unsupported operand type(s) for +: 'int' and 'str'",
     "output_type": "error",
     "traceback": [
      "\u001B[31m---------------------------------------------------------------------------\u001B[39m",
      "\u001B[31mTypeError\u001B[39m                                 Traceback (most recent call last)",
      "\u001B[36mCell\u001B[39m\u001B[36m \u001B[39m\u001B[32mIn[8]\u001B[39m\u001B[32m, line 41\u001B[39m\n\u001B[32m     37\u001B[39m \u001B[38;5;250m    \u001B[39m\u001B[33;03m\"\"\"A fucntion that adds two numbers\"\"\"\u001B[39;00m\n\u001B[32m     38\u001B[39m     \u001B[38;5;28;01mreturn\u001B[39;00m a + b\n\u001B[32m---> \u001B[39m\u001B[32m41\u001B[39m \u001B[43madd\u001B[49m\u001B[43m(\u001B[49m\u001B[32;43m1\u001B[39;49m\u001B[43m,\u001B[49m\u001B[43m \u001B[49m\u001B[33;43m\"\u001B[39;49m\u001B[33;43ma\u001B[39;49m\u001B[33;43m\"\u001B[39;49m\u001B[43m)\u001B[49m\n",
      "\u001B[36mCell\u001B[39m\u001B[36m \u001B[39m\u001B[32mIn[7]\u001B[39m\u001B[32m, line 6\u001B[39m, in \u001B[36mlog.<locals>.wrapper\u001B[39m\u001B[34m(wrapped, instance, args, kwargs)\u001B[39m\n\u001B[32m      3\u001B[39m \u001B[38;5;129m@wrapt\u001B[39m.decorator  \u001B[38;5;66;03m# Decorator\u001B[39;00m\n\u001B[32m      4\u001B[39m \u001B[38;5;28;01mdef\u001B[39;00m\u001B[38;5;250m \u001B[39m\u001B[34mwrapper\u001B[39m(wrapped, instance, args, kwargs):\n\u001B[32m      5\u001B[39m     \u001B[38;5;28;01mtry\u001B[39;00m:\n\u001B[32m----> \u001B[39m\u001B[32m6\u001B[39m         result = \u001B[43mwrapped\u001B[49m\u001B[43m(\u001B[49m\u001B[43m*\u001B[49m\u001B[43margs\u001B[49m\u001B[43m,\u001B[49m\u001B[43m \u001B[49m\u001B[43m*\u001B[49m\u001B[43m*\u001B[49m\u001B[43mkwargs\u001B[49m\u001B[43m)\u001B[49m\n\u001B[32m      7\u001B[39m         logger.info(\u001B[33mf\u001B[39m\u001B[33m\"\u001B[39m\u001B[33mcalled \u001B[39m\u001B[38;5;132;01m{\u001B[39;00mwrapped.\u001B[34m__name__\u001B[39m\u001B[38;5;132;01m}\u001B[39;00m\u001B[33m with \u001B[39m\u001B[38;5;132;01m{\u001B[39;00margs\u001B[38;5;132;01m=}\u001B[39;00m\u001B[33m, \u001B[39m\u001B[38;5;132;01m{\u001B[39;00mkwargs\u001B[38;5;132;01m=}\u001B[39;00m\u001B[33m\"\u001B[39m)\n\u001B[32m      8\u001B[39m         \u001B[38;5;28;01mreturn\u001B[39;00m result\n",
      "\u001B[36mCell\u001B[39m\u001B[36m \u001B[39m\u001B[32mIn[8]\u001B[39m\u001B[32m, line 38\u001B[39m, in \u001B[36madd\u001B[39m\u001B[34m(a, b)\u001B[39m\n\u001B[32m     35\u001B[39m \u001B[38;5;129m@log\u001B[39m()\n\u001B[32m     36\u001B[39m \u001B[38;5;28;01mdef\u001B[39;00m\u001B[38;5;250m \u001B[39m\u001B[34madd\u001B[39m(a, b):\n\u001B[32m     37\u001B[39m \u001B[38;5;250m    \u001B[39m\u001B[33;03m\"\"\"A fucntion that adds two numbers\"\"\"\u001B[39;00m\n\u001B[32m---> \u001B[39m\u001B[32m38\u001B[39m     \u001B[38;5;28;01mreturn\u001B[39;00m \u001B[43ma\u001B[49m\u001B[43m \u001B[49m\u001B[43m+\u001B[49m\u001B[43m \u001B[49m\u001B[43mb\u001B[49m\n",
      "\u001B[31mTypeError\u001B[39m: unsupported operand type(s) for +: 'int' and 'str'"
     ]
    }
   ],
   "execution_count": 8
  },
  {
   "metadata": {},
   "cell_type": "markdown",
   "source": [
    "### Let's say we want to turn off, and turn on the decorators using a configuration.\n",
    "\n",
    "Wrapt library provides a built-in functionality to do it but this configurations is specified once the program starts and cannot change on runtime."
   ],
   "id": "1baebe67593c5496"
  },
  {
   "metadata": {
    "ExecuteTime": {
     "end_time": "2025-06-22T17:29:58.378465Z",
     "start_time": "2025-06-22T17:29:58.368772Z"
    }
   },
   "cell_type": "code",
   "source": [
    "ENABLE_LOG = True\n",
    "\n",
    "\n",
    "def log(_func=None, *, propagate_exception=True):\n",
    "\n",
    "    @wrapt.decorator(enabled=ENABLE_LOG)\n",
    "    def wrapper(wrapped, instance, args, kwargs):\n",
    "        try:\n",
    "            result = wrapped(*args, **kwargs)\n",
    "            logger.info(f\"called {wrapped.__name__} with {args=}, {kwargs=}\")\n",
    "            return result\n",
    "        except Exception as ex:\n",
    "            logger.error(f\"called {wrapped.__name__} with {args=}, {kwargs=}, {ex=}\")\n",
    "            if propagate_exception:\n",
    "                raise\n",
    "\n",
    "    if callable(_func):\n",
    "        return wrapper(_func)\n",
    "\n",
    "    return wrapper\n",
    "\n",
    "\n",
    "@log\n",
    "def add(a, b):\n",
    "    \"\"\"A fucntion that adds two numbers\"\"\"\n",
    "    return a + b\n",
    "\n",
    "\n",
    "add(1, 2)"
   ],
   "id": "b6885e60623ae13f",
   "outputs": [
    {
     "name": "stderr",
     "output_type": "stream",
     "text": [
      "2025-06-22 20:29:58 - INFO - called add with args=(1, 2), kwargs={}\n"
     ]
    },
    {
     "data": {
      "text/plain": [
       "3"
      ]
     },
     "execution_count": 9,
     "metadata": {},
     "output_type": "execute_result"
    }
   ],
   "execution_count": 9
  },
  {
   "metadata": {
    "ExecuteTime": {
     "end_time": "2025-06-22T17:30:00.894474Z",
     "start_time": "2025-06-22T17:30:00.888134Z"
    }
   },
   "cell_type": "code",
   "source": [
    "# The LOG_ENABLED was passed when the decorator wraps the initial function, so even if I change the configuration now it will not be applied dynamically to the decorator.\n",
    "ENABLE_LOG = False\n",
    "add(1, 2)"
   ],
   "id": "64573fd02c547a08",
   "outputs": [
    {
     "name": "stderr",
     "output_type": "stream",
     "text": [
      "2025-06-22 20:30:00 - INFO - called add with args=(1, 2), kwargs={}\n"
     ]
    },
    {
     "data": {
      "text/plain": [
       "3"
      ]
     },
     "execution_count": 10,
     "metadata": {},
     "output_type": "execute_result"
    }
   ],
   "execution_count": 10
  },
  {
   "metadata": {},
   "cell_type": "markdown",
   "source": "If this global configuration approach is not enough wrapt provides a hook to turn off or turn on the decorators on runtime. Instead of passing a boolean value, pass a predicate function that turn on or turn the decorator.",
   "id": "69f1caa7a4d63e16"
  },
  {
   "metadata": {
    "ExecuteTime": {
     "end_time": "2025-06-22T17:30:03.212642Z",
     "start_time": "2025-06-22T17:30:03.203550Z"
    }
   },
   "cell_type": "code",
   "source": [
    "ENABLE_LOG = True\n",
    "\n",
    "\n",
    "def activate_logs():\n",
    "    global ENABLE_LOG\n",
    "    return ENABLE_LOG\n",
    "\n",
    "\n",
    "def log(_func=None, *, propagate_exception=True):\n",
    "\n",
    "    @wrapt.decorator(enabled=activate_logs)\n",
    "    def wrapper(wrapped, instance, args, kwargs):\n",
    "        try:\n",
    "            result = wrapped(*args, **kwargs)\n",
    "            logger.info(f\"called {wrapped.__name__} with {args=}, {kwargs=}\")\n",
    "            return result\n",
    "        except Exception as ex:\n",
    "            logger.error(f\"called {wrapped.__name__} with {args=}, {kwargs=}, {ex=}\")\n",
    "            if propagate_exception:\n",
    "                raise\n",
    "\n",
    "    if callable(_func):\n",
    "        return wrapper(_func)\n",
    "\n",
    "    return wrapper\n",
    "\n",
    "\n",
    "@log\n",
    "def add(a, b):\n",
    "    \"\"\"A fucntion that adds two numbers\"\"\"\n",
    "    return a + b\n",
    "\n",
    "\n",
    "add(1, 2)"
   ],
   "id": "4c70402f54094512",
   "outputs": [
    {
     "name": "stderr",
     "output_type": "stream",
     "text": [
      "2025-06-22 20:30:03 - INFO - called add with args=(1, 2), kwargs={}\n"
     ]
    },
    {
     "data": {
      "text/plain": [
       "3"
      ]
     },
     "execution_count": 11,
     "metadata": {},
     "output_type": "execute_result"
    }
   ],
   "execution_count": 11
  },
  {
   "metadata": {
    "ExecuteTime": {
     "end_time": "2025-06-22T17:30:05.885460Z",
     "start_time": "2025-06-22T17:30:05.879771Z"
    }
   },
   "cell_type": "code",
   "source": [
    "# No logging.\n",
    "ENABLE_LOG = False\n",
    "add(1, 2)"
   ],
   "id": "2660d2963a5c202d",
   "outputs": [
    {
     "data": {
      "text/plain": [
       "3"
      ]
     },
     "execution_count": 12,
     "metadata": {},
     "output_type": "execute_result"
    }
   ],
   "execution_count": 12
  },
  {
   "metadata": {},
   "cell_type": "markdown",
   "source": "### Introspection PlainDecorator vs Wraps vs Wrapt",
   "id": "9f6bef6524def4c0"
  },
  {
   "metadata": {
    "ExecuteTime": {
     "end_time": "2025-06-22T17:30:07.827098Z",
     "start_time": "2025-06-22T17:30:07.820998Z"
    }
   },
   "cell_type": "code",
   "source": [
    "def dec(fn):\n",
    "    def inner(*args, **kwargs):\n",
    "        return fn(*args, **kwargs)\n",
    "\n",
    "    return inner\n",
    "\n",
    "\n",
    "def wraps_dec(fn):\n",
    "    @wraps(fn)\n",
    "    def inner(*args, **kwargs):\n",
    "        return dec(fn(*args, **kwargs))\n",
    "\n",
    "    return inner\n",
    "\n",
    "\n",
    "@wrapt.decorator\n",
    "def wrapt_dec(wrapped, instance, args, kwargs):\n",
    "    return wrapped(*args, **kwargs)\n",
    "\n",
    "\n",
    "@dec\n",
    "def add(a, b, *, extras=None):\n",
    "    \"\"\"\n",
    "    A function that adds two numbers.\n",
    "        a: first number\n",
    "        b: second number\n",
    "        extras: extra arguments just for demonstration purposes\n",
    "    \"\"\"\n",
    "    return a + b\n",
    "\n",
    "\n",
    "@wraps_dec\n",
    "def add_wraps(a, b, *, extras=None):\n",
    "    \"\"\"\n",
    "    A function that adds two numbers.\n",
    "        a: first number\n",
    "        b: second number\n",
    "        extras: extra arguments just for demonstration purposes\n",
    "    \"\"\"\n",
    "    return a + b\n",
    "\n",
    "\n",
    "@wrapt_dec\n",
    "def add_wrapt(a, b, *, extras=None):\n",
    "    \"\"\"\n",
    "    A function that adds two numbers.\n",
    "        a: first number\n",
    "        b: second number\n",
    "        extras: extra arguments just for demonstration purposes\n",
    "    \"\"\"\n",
    "    return a + b"
   ],
   "id": "986c0dcf27b8b40",
   "outputs": [],
   "execution_count": 13
  },
  {
   "metadata": {
    "ExecuteTime": {
     "end_time": "2025-06-22T17:30:10.394205Z",
     "start_time": "2025-06-22T17:30:10.388852Z"
    }
   },
   "cell_type": "code",
   "source": "print(inspect.getdoc(add), inspect.getdoc(add_wraps), inspect.getdoc(add_wrapt), sep=\"\\n-----------\\n\")",
   "id": "8511002fbca696a9",
   "outputs": [
    {
     "name": "stdout",
     "output_type": "stream",
     "text": [
      "None\n",
      "-----------\n",
      "A function that adds two numbers.\n",
      "    a: first number\n",
      "    b: second number\n",
      "    extras: extra arguments just for demonstration purposes\n",
      "-----------\n",
      "A function that adds two numbers.\n",
      "    a: first number\n",
      "    b: second number\n",
      "    extras: extra arguments just for demonstration purposes\n"
     ]
    }
   ],
   "execution_count": 14
  },
  {
   "metadata": {
    "ExecuteTime": {
     "end_time": "2025-06-22T17:30:12.790305Z",
     "start_time": "2025-06-22T17:30:12.784901Z"
    }
   },
   "cell_type": "code",
   "source": [
    "print(\n",
    "    inspect.getfullargspec(add),\n",
    "    inspect.getfullargspec(add_wraps),\n",
    "    inspect.getfullargspec(add_wrapt),\n",
    "    sep=\"\\n-----------\\n\",\n",
    ")"
   ],
   "id": "8cd3f1f5d8600bcd",
   "outputs": [
    {
     "name": "stdout",
     "output_type": "stream",
     "text": [
      "FullArgSpec(args=[], varargs='args', varkw='kwargs', defaults=None, kwonlyargs=[], kwonlydefaults=None, annotations={})\n",
      "-----------\n",
      "FullArgSpec(args=[], varargs='args', varkw='kwargs', defaults=None, kwonlyargs=[], kwonlydefaults=None, annotations={})\n",
      "-----------\n",
      "FullArgSpec(args=['a', 'b'], varargs=None, varkw=None, defaults=None, kwonlyargs=['extras'], kwonlydefaults={'extras': None}, annotations={})\n"
     ]
    }
   ],
   "execution_count": 15
  },
  {
   "metadata": {},
   "cell_type": "markdown",
   "source": [
    "Notice that the plain wraps decorator grab the arguments from the inner function and not from the decorated function.\n",
    "\n",
    "On the other hand, wrapt does better to this matter. It actually grabs the arguments, keyword arguments of the decorated function."
   ],
   "id": "35681978bb07fe33"
  },
  {
   "metadata": {},
   "cell_type": "markdown",
   "source": [
    "## Use Case\n",
    "\n",
    "Assuming that we want to use the wrapt decorator to apply the Open/Closed principal meaning no modification to the core logic of the wrapped function but we can extend what it does.\n",
    "For example in data engineering, it is required to validate the input of a transformation function or the output of this function quite often.\n",
    "\n",
    "Let's say the applied transformation take place in a record represented as dictionary or in as row of a pd.Dataframe.\n",
    "\n",
    "What we want is to execute a set of instruction(function) before or after the transformation logic. This can be achieved via decorators with the steps below:\n",
    "\n",
    "1. Turn the additional set of instruction(function) to a decorator\n",
    "2. Apply this decorator the the tranformation logic\n",
    "\n",
    "Cases:\n",
    "\n",
    "    - the set of instruction applied before the transformation(validation, inputs_preprocessing)\n",
    "    - the set of instruction applied after the transformation(post-process output, validate the validity of the output)\n",
    "    - Since decorators can be stacked it is prossible to create a pipeline"
   ],
   "id": "f59f1764ba2beb74"
  },
  {
   "metadata": {
    "ExecuteTime": {
     "end_time": "2025-06-22T17:30:15.861011Z",
     "start_time": "2025-06-22T17:30:15.855541Z"
    }
   },
   "cell_type": "code",
   "source": [
    "records_list = [\n",
    "    {\"id\": 1, \"temperature\": 98.6, \"status\": \"healthy\", \"timestamp\": \"2023-01-01T12:00:00\"},\n",
    "    {\"id\": 2, \"temperature\": 101.2, \"status\": \"fever\", \"timestamp\": None},\n",
    "    {\"id\": 3, \"temperature\": None, \"status\": \"unknown\", \"timestamp\": \"2023-01-01T12:10:00\"},\n",
    "]\n",
    "\n",
    "\n",
    "def fahrenheit_to_celsius(record):\n",
    "    \"\"\"Core logic: Convert temperature from °F to °C (no validation).\"\"\"\n",
    "    if record[\"temperature\"] is not None:\n",
    "        record[\"temperature\"] = (record[\"temperature\"] - 32) * 5 / 9\n",
    "    return record\n",
    "\n",
    "\n",
    "def cast_datetime(record):\n",
    "    \"\"\"Core logic: Convert datetime strings to datetime objects (no validation).\"\"\"\n",
    "    record[\"timestamp\"] = parser.parse(record[\"timestamp\"])\n",
    "    return record"
   ],
   "id": "7f6c83c93df7cda2",
   "outputs": [],
   "execution_count": 16
  },
  {
   "metadata": {
    "ExecuteTime": {
     "end_time": "2025-06-22T17:30:18.449848Z",
     "start_time": "2025-06-22T17:30:18.442129Z"
    }
   },
   "cell_type": "code",
   "source": [
    "# Without validation for None in timestamp we will end up in error\n",
    "# Moreover we want to validate that the temperature is above ten celcius degrees\n",
    "for row in records_list:\n",
    "    try:\n",
    "        print(cast_datetime(fahrenheit_to_celsius(row)))\n",
    "    except TypeError as ex:\n",
    "        print(ex)\n",
    "        row[\"timestamp\"] = \"1990-01-01T00:00:00\"  # default value to identify None afterwards\n",
    "        print(cast_datetime(row))"
   ],
   "id": "c80042d1d95057df",
   "outputs": [
    {
     "name": "stdout",
     "output_type": "stream",
     "text": [
      "{'id': 1, 'temperature': 37.0, 'status': 'healthy', 'timestamp': datetime.datetime(2023, 1, 1, 12, 0)}\n",
      "Parser must be a string or character stream, not NoneType\n",
      "{'id': 2, 'temperature': 38.44444444444444, 'status': 'fever', 'timestamp': datetime.datetime(1990, 1, 1, 0, 0)}\n",
      "{'id': 3, 'temperature': None, 'status': 'unknown', 'timestamp': datetime.datetime(2023, 1, 1, 12, 10)}\n"
     ]
    }
   ],
   "execution_count": 17
  },
  {
   "metadata": {},
   "cell_type": "markdown",
   "source": "Let's replace the try and except block using an approach look-before leap implemented from a decorator.",
   "id": "42d92277c099c32a"
  },
  {
   "metadata": {
    "ExecuteTime": {
     "end_time": "2025-06-22T17:30:20.595270Z",
     "start_time": "2025-06-22T17:30:20.588293Z"
    }
   },
   "cell_type": "code",
   "source": [
    "@wrapt.decorator\n",
    "def validate_timestamp(wrapped, instance, args, kwargs):\n",
    "    def _execute(record, *args, **kwargs):\n",
    "        print(f\"{args=}, {kwargs=}\")\n",
    "        if record[\"timestamp\"] is None:\n",
    "            record[\"timestamp\"] = \"1990-01-01T00:00:00\"\n",
    "\n",
    "        return wrapped(record, *args, **kwargs)\n",
    "\n",
    "    return _execute(*args, **kwargs)\n",
    "\n",
    "\n",
    "@validate_timestamp\n",
    "def cast_datetime(record, other_arg, *, extras=\"only for demonstration purposes\"):\n",
    "    \"\"\"Core logic: Convert datetime strings to datetime objects (no validation).\"\"\"\n",
    "    record[\"timestamp\"] = parser.parse(record[\"timestamp\"])\n",
    "    return record\n",
    "\n",
    "\n",
    "records_list = [\n",
    "    {\"id\": 1, \"temperature\": 98.6, \"status\": \"healthy\", \"timestamp\": \"2023-01-01T12:00:00\"},\n",
    "    {\"id\": 2, \"temperature\": 101.2, \"status\": \"fever\", \"timestamp\": None},\n",
    "    {\"id\": 3, \"temperature\": None, \"status\": \"unknown\", \"timestamp\": \"2023-01-01T12:10:00\"},\n",
    "]\n",
    "\n",
    "for row in records_list:\n",
    "    print(\n",
    "        fahrenheit_to_celsius(\n",
    "            cast_datetime(\n",
    "                row, \"demonstration_purposes\", extras=\"only for demonstration purposes\"\n",
    "            )  # Return only the record\n",
    "        )\n",
    "    )"
   ],
   "id": "594e2ebfd2ddc479",
   "outputs": [
    {
     "name": "stdout",
     "output_type": "stream",
     "text": [
      "args=('demonstration_purposes',), kwargs={'extras': 'only for demonstration purposes'}\n",
      "{'id': 1, 'temperature': 37.0, 'status': 'healthy', 'timestamp': datetime.datetime(2023, 1, 1, 12, 0)}\n",
      "args=('demonstration_purposes',), kwargs={'extras': 'only for demonstration purposes'}\n",
      "{'id': 2, 'temperature': 38.44444444444444, 'status': 'fever', 'timestamp': datetime.datetime(1990, 1, 1, 0, 0)}\n",
      "args=('demonstration_purposes',), kwargs={'extras': 'only for demonstration purposes'}\n",
      "{'id': 3, 'temperature': None, 'status': 'unknown', 'timestamp': datetime.datetime(2023, 1, 1, 12, 10)}\n"
     ]
    }
   ],
   "execution_count": 18
  },
  {
   "metadata": {},
   "cell_type": "markdown",
   "source": "It is ok to set an arbitrary value to timestamp if missing but we do not want to handle with grace invalid temperatures like None.",
   "id": "4b86cb5b894a1a71"
  },
  {
   "metadata": {
    "ExecuteTime": {
     "end_time": "2025-06-22T17:30:23.503083Z",
     "start_time": "2025-06-22T17:30:23.495074Z"
    }
   },
   "cell_type": "code",
   "source": [
    "@wrapt.decorator\n",
    "def validate_temperature(wrapped, instance, args, kwargs):\n",
    "    def _execute(record, *args, **kwargs):\n",
    "        result = wrapped(record, *args, **kwargs)\n",
    "\n",
    "        # Applied logic after the decorated function has returned\n",
    "        if result[\"temperature\"] is None:\n",
    "            raise ValueError(\"Invalid temperature: {}\".format(result[\"temperature\"]))\n",
    "        return result\n",
    "\n",
    "    return _execute(*args, **kwargs)\n",
    "\n",
    "\n",
    "@wrapt.decorator\n",
    "def fill_timestamp(wrapped, instance, args, kwargs):\n",
    "    def _execute(record, *args, **kwargs):\n",
    "        # Logic before the execution of wrapped function\n",
    "        if record[\"timestamp\"] is None:\n",
    "            record[\"timestamp\"] = \"1990-01-01T00:00:00\"\n",
    "\n",
    "        return wrapped(record, *args, **kwargs)\n",
    "\n",
    "    return _execute(*args, **kwargs)\n",
    "\n",
    "\n",
    "@validate_temperature\n",
    "def fahrenheit_to_celsius(record):\n",
    "    \"\"\"Core logic: Convert temperature from °F to °C (no validation).\"\"\"\n",
    "    if record[\"temperature\"] is not None:\n",
    "        record[\"temperature\"] = (record[\"temperature\"] - 32) * 5 / 9\n",
    "    return record\n",
    "\n",
    "\n",
    "@fill_timestamp\n",
    "def cast_datetime(record):\n",
    "    \"\"\"Core logic: Convert datetime strings to datetime objects (no validation).\"\"\"\n",
    "    record[\"timestamp\"] = parser.parse(record[\"timestamp\"])\n",
    "    return record"
   ],
   "id": "4ff78a085d90e810",
   "outputs": [],
   "execution_count": 19
  },
  {
   "metadata": {},
   "cell_type": "markdown",
   "source": "It will raise our custom value error in the third record",
   "id": "daeb39240120115c"
  },
  {
   "metadata": {
    "ExecuteTime": {
     "end_time": "2025-06-22T17:30:27.247914Z",
     "start_time": "2025-06-22T17:30:27.197877Z"
    }
   },
   "cell_type": "code",
   "source": [
    "records_list = [\n",
    "    {\"id\": 1, \"temperature\": 98.6, \"status\": \"healthy\", \"timestamp\": \"2023-01-01T12:00:00\"},\n",
    "    {\"id\": 2, \"temperature\": 101.2, \"status\": \"fever\", \"timestamp\": None},\n",
    "    {\"id\": 3, \"temperature\": None, \"status\": \"unknown\", \"timestamp\": \"2023-01-01T12:10:00\"},\n",
    "]\n",
    "\n",
    "for row in records_list:\n",
    "    print(fahrenheit_to_celsius(cast_datetime(row)))"
   ],
   "id": "fb7e87c0061dac47",
   "outputs": [
    {
     "name": "stdout",
     "output_type": "stream",
     "text": [
      "{'id': 1, 'temperature': 37.0, 'status': 'healthy', 'timestamp': datetime.datetime(2023, 1, 1, 12, 0)}\n",
      "{'id': 2, 'temperature': 38.44444444444444, 'status': 'fever', 'timestamp': datetime.datetime(1990, 1, 1, 0, 0)}\n"
     ]
    },
    {
     "ename": "ValueError",
     "evalue": "Invalid temperature: None",
     "output_type": "error",
     "traceback": [
      "\u001B[31m---------------------------------------------------------------------------\u001B[39m",
      "\u001B[31mValueError\u001B[39m                                Traceback (most recent call last)",
      "\u001B[36mCell\u001B[39m\u001B[36m \u001B[39m\u001B[32mIn[20]\u001B[39m\u001B[32m, line 8\u001B[39m\n\u001B[32m      1\u001B[39m records_list = [\n\u001B[32m      2\u001B[39m     {\u001B[33m\"\u001B[39m\u001B[33mid\u001B[39m\u001B[33m\"\u001B[39m: \u001B[32m1\u001B[39m, \u001B[33m\"\u001B[39m\u001B[33mtemperature\u001B[39m\u001B[33m\"\u001B[39m: \u001B[32m98.6\u001B[39m, \u001B[33m\"\u001B[39m\u001B[33mstatus\u001B[39m\u001B[33m\"\u001B[39m: \u001B[33m\"\u001B[39m\u001B[33mhealthy\u001B[39m\u001B[33m\"\u001B[39m, \u001B[33m\"\u001B[39m\u001B[33mtimestamp\u001B[39m\u001B[33m\"\u001B[39m: \u001B[33m\"\u001B[39m\u001B[33m2023-01-01T12:00:00\u001B[39m\u001B[33m\"\u001B[39m},\n\u001B[32m      3\u001B[39m     {\u001B[33m\"\u001B[39m\u001B[33mid\u001B[39m\u001B[33m\"\u001B[39m: \u001B[32m2\u001B[39m, \u001B[33m\"\u001B[39m\u001B[33mtemperature\u001B[39m\u001B[33m\"\u001B[39m: \u001B[32m101.2\u001B[39m, \u001B[33m\"\u001B[39m\u001B[33mstatus\u001B[39m\u001B[33m\"\u001B[39m: \u001B[33m\"\u001B[39m\u001B[33mfever\u001B[39m\u001B[33m\"\u001B[39m, \u001B[33m\"\u001B[39m\u001B[33mtimestamp\u001B[39m\u001B[33m\"\u001B[39m: \u001B[38;5;28;01mNone\u001B[39;00m},\n\u001B[32m      4\u001B[39m     {\u001B[33m\"\u001B[39m\u001B[33mid\u001B[39m\u001B[33m\"\u001B[39m: \u001B[32m3\u001B[39m, \u001B[33m\"\u001B[39m\u001B[33mtemperature\u001B[39m\u001B[33m\"\u001B[39m: \u001B[38;5;28;01mNone\u001B[39;00m, \u001B[33m\"\u001B[39m\u001B[33mstatus\u001B[39m\u001B[33m\"\u001B[39m: \u001B[33m\"\u001B[39m\u001B[33munknown\u001B[39m\u001B[33m\"\u001B[39m, \u001B[33m\"\u001B[39m\u001B[33mtimestamp\u001B[39m\u001B[33m\"\u001B[39m: \u001B[33m\"\u001B[39m\u001B[33m2023-01-01T12:10:00\u001B[39m\u001B[33m\"\u001B[39m},\n\u001B[32m      5\u001B[39m ]\n\u001B[32m      7\u001B[39m \u001B[38;5;28;01mfor\u001B[39;00m row \u001B[38;5;129;01min\u001B[39;00m records_list:\n\u001B[32m----> \u001B[39m\u001B[32m8\u001B[39m     \u001B[38;5;28mprint\u001B[39m(\u001B[43mfahrenheit_to_celsius\u001B[49m\u001B[43m(\u001B[49m\u001B[43mcast_datetime\u001B[49m\u001B[43m(\u001B[49m\u001B[43mrow\u001B[49m\u001B[43m)\u001B[49m\u001B[43m)\u001B[49m)\n",
      "\u001B[36mCell\u001B[39m\u001B[36m \u001B[39m\u001B[32mIn[19]\u001B[39m\u001B[32m, line 11\u001B[39m, in \u001B[36mvalidate_temperature\u001B[39m\u001B[34m(wrapped, instance, args, kwargs)\u001B[39m\n\u001B[32m      8\u001B[39m         \u001B[38;5;28;01mraise\u001B[39;00m \u001B[38;5;167;01mValueError\u001B[39;00m(\u001B[33m\"\u001B[39m\u001B[33mInvalid temperature: \u001B[39m\u001B[38;5;132;01m{}\u001B[39;00m\u001B[33m\"\u001B[39m.format(result[\u001B[33m\"\u001B[39m\u001B[33mtemperature\u001B[39m\u001B[33m\"\u001B[39m]))\n\u001B[32m      9\u001B[39m     \u001B[38;5;28;01mreturn\u001B[39;00m result\n\u001B[32m---> \u001B[39m\u001B[32m11\u001B[39m \u001B[38;5;28;01mreturn\u001B[39;00m \u001B[43m_execute\u001B[49m\u001B[43m(\u001B[49m\u001B[43m*\u001B[49m\u001B[43margs\u001B[49m\u001B[43m,\u001B[49m\u001B[43m \u001B[49m\u001B[43m*\u001B[49m\u001B[43m*\u001B[49m\u001B[43mkwargs\u001B[49m\u001B[43m)\u001B[49m\n",
      "\u001B[36mCell\u001B[39m\u001B[36m \u001B[39m\u001B[32mIn[19]\u001B[39m\u001B[32m, line 8\u001B[39m, in \u001B[36mvalidate_temperature.<locals>._execute\u001B[39m\u001B[34m(record, *args, **kwargs)\u001B[39m\n\u001B[32m      6\u001B[39m \u001B[38;5;66;03m# Applied logic after the decorated function has returned\u001B[39;00m\n\u001B[32m      7\u001B[39m \u001B[38;5;28;01mif\u001B[39;00m result[\u001B[33m\"\u001B[39m\u001B[33mtemperature\u001B[39m\u001B[33m\"\u001B[39m] \u001B[38;5;129;01mis\u001B[39;00m \u001B[38;5;28;01mNone\u001B[39;00m:\n\u001B[32m----> \u001B[39m\u001B[32m8\u001B[39m     \u001B[38;5;28;01mraise\u001B[39;00m \u001B[38;5;167;01mValueError\u001B[39;00m(\u001B[33m\"\u001B[39m\u001B[33mInvalid temperature: \u001B[39m\u001B[38;5;132;01m{}\u001B[39;00m\u001B[33m\"\u001B[39m.format(result[\u001B[33m\"\u001B[39m\u001B[33mtemperature\u001B[39m\u001B[33m\"\u001B[39m]))\n\u001B[32m      9\u001B[39m \u001B[38;5;28;01mreturn\u001B[39;00m result\n",
      "\u001B[31mValueError\u001B[39m: Invalid temperature: None"
     ]
    }
   ],
   "execution_count": 20
  },
  {
   "metadata": {},
   "cell_type": "markdown",
   "source": "### Compatibility",
   "id": "472b38ac297a3d73"
  },
  {
   "metadata": {
    "ExecuteTime": {
     "end_time": "2025-06-22T17:30:30.497913Z",
     "start_time": "2025-06-22T17:30:30.489172Z"
    }
   },
   "cell_type": "code",
   "source": [
    "@wrapt.decorator\n",
    "def printer(wrapped, instance, args, kwargs):\n",
    "    print(f\"{wrapped=}, {instance=}, {args=}, {kwargs=}\", end=\"\\n\\n\")\n",
    "    return wrapped(*args, **kwargs)\n",
    "\n",
    "\n",
    "@printer\n",
    "def my_function(arg1, arg2, arg3):\n",
    "    return \", \".join(map(str, [arg1, arg2, arg3]))\n",
    "\n",
    "\n",
    "print(my_function(1, 2, arg3=3), end=\"\\n\\n------------------------\\n\")\n",
    "\n",
    "\n",
    "class Class(object):\n",
    "\n",
    "    @printer\n",
    "    def __init__(self, a, b, *, c):\n",
    "        self.a = a\n",
    "        self.b = b\n",
    "        self.c = c\n",
    "\n",
    "    @printer\n",
    "    @classmethod\n",
    "    def cls_function(cls, arg1, arg2, arg3):\n",
    "        return \"| \".join(map(str, [arg1, arg2, arg3]))\n",
    "\n",
    "    @printer\n",
    "    @staticmethod\n",
    "    def static_function(arg1, arg2, arg3):\n",
    "        return \"~ \".join(map(str, [arg1, arg2, arg3]))\n",
    "\n",
    "\n",
    "obj = Class(1, 2, c=3)\n",
    "print(f\"id(obj): {hex(id(obj))}\")\n",
    "print(obj.cls_function(\"a\", \"b\", arg3=\"c\"))\n",
    "print(obj.static_function(\"a\", \"b\", arg3=\"c\"))"
   ],
   "id": "715e745b35c57062",
   "outputs": [
    {
     "name": "stdout",
     "output_type": "stream",
     "text": [
      "wrapped=<function my_function at 0x000002783F9E9760>, instance=None, args=(1, 2), kwargs={'arg3': 3}\n",
      "\n",
      "1, 2, 3\n",
      "\n",
      "------------------------\n",
      "wrapped=<bound method Class.__init__ of <__main__.Class object at 0x000002783F29BB60>>, instance=<__main__.Class object at 0x000002783F29BB60>, args=(1, 2), kwargs={'c': 3}\n",
      "\n",
      "id(obj): 0x2783f29bb60\n",
      "wrapped=<bound method Class.cls_function of <class '__main__.Class'>>, instance=<class '__main__.Class'>, args=('a', 'b'), kwargs={'arg3': 'c'}\n",
      "\n",
      "a| b| c\n",
      "wrapped=<function Class.static_function at 0x000002783F9EA3E0>, instance=None, args=('a', 'b'), kwargs={'arg3': 'c'}\n",
      "\n",
      "a~ b~ c\n"
     ]
    }
   ],
   "execution_count": 21
  },
  {
   "metadata": {},
   "cell_type": "markdown",
   "source": [
    "#### Decorate classes\n",
    "\n",
    "\n",
    "Let's say we want to decorate all the callables with our printer decorator within a class.\n",
    "\n",
    "###### Reminder !!!\n",
    "When the wrapt.decorator is applied to a function, the instance is None, when applied to an instance method then the instance=self\n",
    "Let's create a decorator that add the printer decorator to all the callables of a Class."
   ],
   "id": "dc649838c9f6a638"
  },
  {
   "metadata": {
    "ExecuteTime": {
     "end_time": "2025-06-22T17:30:34.323067Z",
     "start_time": "2025-06-22T17:30:34.316312Z"
    }
   },
   "cell_type": "code",
   "source": [
    "@wrapt.decorator\n",
    "def debug(wrapped, instance, args, kwargs):\n",
    "    for attr, value in vars(wrapped).items():\n",
    "        if callable(value):\n",
    "            setattr(wrapped, attr, printer(value))\n",
    "    return wrapped(*args, **kwargs)  # Return a new class with all the callables decorated\n",
    "\n",
    "\n",
    "@debug\n",
    "class DecClass(object):\n",
    "\n",
    "    def __init__(self, a, b, *, c):\n",
    "        self.a = a\n",
    "        self.b = b\n",
    "        self.c = c\n",
    "\n",
    "    @classmethod\n",
    "    def cls_function(cls, arg1, arg2, arg3):\n",
    "        return \"| \".join(map(str, [arg1, arg2, arg3]))\n",
    "\n",
    "    @staticmethod\n",
    "    def static_function(arg1, arg2, arg3):\n",
    "        return \"~ \".join(map(str, [arg1, arg2, arg3]))"
   ],
   "id": "3d6b98931e5bad53",
   "outputs": [],
   "execution_count": 22
  },
  {
   "metadata": {
    "ExecuteTime": {
     "end_time": "2025-06-22T17:30:38.093253Z",
     "start_time": "2025-06-22T17:30:38.089066Z"
    }
   },
   "cell_type": "code",
   "source": [
    "obj = DecClass(\"a\", \"b\", c=\"c\")  # Notice that it is executed when the __init__ was called. Not when the __new__"
   ],
   "id": "ee56ae24a2a0e8a5",
   "outputs": [
    {
     "name": "stdout",
     "output_type": "stream",
     "text": [
      "wrapped=<bound method DecClass.__init__ of <__main__.DecClass object at 0x000002783F29BCB0>>, instance=<__main__.DecClass object at 0x000002783F29BCB0>, args=('a', 'b'), kwargs={'c': 'c'}\n",
      "\n"
     ]
    }
   ],
   "execution_count": 23
  },
  {
   "metadata": {
    "ExecuteTime": {
     "end_time": "2025-06-22T17:30:39.482083Z",
     "start_time": "2025-06-22T17:30:39.475958Z"
    }
   },
   "cell_type": "code",
   "source": [
    "# There is not __new__ in the dictionary of the class since it is inherited from the object class\n",
    "vars(Class)"
   ],
   "id": "8ba28ee00ee31629",
   "outputs": [
    {
     "data": {
      "text/plain": [
       "mappingproxy({'__module__': '__main__',\n",
       "              '__firstlineno__': 15,\n",
       "              '__init__': <function __main__.Class.__init__(self, a, b, *, c)>,\n",
       "              'cls_function': <FunctionWrapper at 0x000002783F9D5460 for classmethod at 0x000002783F462290>,\n",
       "              'static_function': <FunctionWrapper at 0x000002783F9D53F0 for staticmethod at 0x000002783F463520>,\n",
       "              '__static_attributes__': ('a', 'b', 'c'),\n",
       "              '__dict__': <attribute '__dict__' of 'Class' objects>,\n",
       "              '__weakref__': <attribute '__weakref__' of 'Class' objects>,\n",
       "              '__doc__': None})"
      ]
     },
     "execution_count": 24,
     "metadata": {},
     "output_type": "execute_result"
    }
   ],
   "execution_count": 24
  },
  {
   "metadata": {
    "ExecuteTime": {
     "end_time": "2025-06-22T17:30:41.191140Z",
     "start_time": "2025-06-22T17:30:41.185642Z"
    }
   },
   "cell_type": "code",
   "source": [
    "obj.cls_function(1, 2, 3)"
   ],
   "id": "4e82482f4a4e3170",
   "outputs": [
    {
     "data": {
      "text/plain": [
       "'1| 2| 3'"
      ]
     },
     "execution_count": 25,
     "metadata": {},
     "output_type": "execute_result"
    }
   ],
   "execution_count": 25
  },
  {
   "metadata": {
    "ExecuteTime": {
     "end_time": "2025-06-22T17:30:41.789378Z",
     "start_time": "2025-06-22T17:30:41.783222Z"
    }
   },
   "cell_type": "code",
   "source": [
    "obj.static_function(1, 2, 3)"
   ],
   "id": "b0e966cc61d48539",
   "outputs": [
    {
     "name": "stdout",
     "output_type": "stream",
     "text": [
      "wrapped=<function DecClass.static_function at 0x000002783F9EA8E0>, instance=None, args=(1, 2, 3), kwargs={}\n",
      "\n"
     ]
    },
    {
     "data": {
      "text/plain": [
       "'1~ 2~ 3'"
      ]
     },
     "execution_count": 26,
     "metadata": {},
     "output_type": "execute_result"
    }
   ],
   "execution_count": 26
  }
 ],
 "metadata": {
  "kernelspec": {
   "display_name": "Python 3",
   "language": "python",
   "name": "python3"
  },
  "language_info": {
   "codemirror_mode": {
    "name": "ipython",
    "version": 2
   },
   "file_extension": ".py",
   "mimetype": "text/x-python",
   "name": "python",
   "nbconvert_exporter": "python",
   "pygments_lexer": "ipython2",
   "version": "2.7.6"
  }
 },
 "nbformat": 4,
 "nbformat_minor": 5
}
